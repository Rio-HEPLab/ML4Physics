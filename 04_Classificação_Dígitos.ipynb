{
  "nbformat": 4,
  "nbformat_minor": 0,
  "metadata": {
    "colab": {
      "name": "04-Classificação-Dígitos.ipynb",
      "provenance": [],
      "authorship_tag": "ABX9TyNbJtM52KN+XW+lZCbomI5/",
      "include_colab_link": true
    },
    "kernelspec": {
      "name": "python3",
      "display_name": "Python 3"
    },
    "language_info": {
      "name": "python"
    }
  },
  "cells": [
    {
      "cell_type": "markdown",
      "metadata": {
        "id": "view-in-github",
        "colab_type": "text"
      },
      "source": [
        "<a href=\"https://colab.research.google.com/github/UERJ-FISICA/ML4PPGF_UERJ/blob/PPGF-2022-1/04_Classifica%C3%A7%C3%A3o_D%C3%ADgitos.ipynb\" target=\"_parent\"><img src=\"https://colab.research.google.com/assets/colab-badge.svg\" alt=\"Open In Colab\"/></a>"
      ]
    },
    {
      "cell_type": "code",
      "source": [
        "import numpy as np\n",
        "import pandas as pd\n",
        "import matplotlib as mpl\n",
        "import matplotlib.pyplot as plt\n",
        "mpl.rcParams.update(\n",
        "    {'font.size': 18,\n",
        "     'font.family': 'sans-serif',\n",
        "     'legend.fontsize': 16,\n",
        "     'axes.labelsize': 22,\n",
        "     'xtick.labelsize': 14,\n",
        "     'ytick.labelsize': 14\n",
        "    }\n",
        "    )\n",
        "import sklearn"
      ],
      "metadata": {
        "id": "qNLZmy0vC77W"
      },
      "execution_count": 1,
      "outputs": []
    },
    {
      "cell_type": "markdown",
      "source": [
        "### Amostra de números escritos a mão e digitalizados"
      ],
      "metadata": {
        "id": "OD_oFhZWNMtu"
      }
    },
    {
      "cell_type": "code",
      "execution_count": 2,
      "metadata": {
        "id": "wRzWgKCVCyki"
      },
      "outputs": [],
      "source": [
        "def sort_by_target(mnist):\n",
        "    reorder_train = np.array(sorted([(target, i) for i, target in enumerate(mnist.target[:60000])]))[:, 1]\n",
        "    reorder_test = np.array(sorted([(target, i) for i, target in enumerate(mnist.target[60000:])]))[:, 1]\n",
        "    mnist.data[:60000] = mnist.data[reorder_train]\n",
        "    mnist.target[:60000] = mnist.target[reorder_train]\n",
        "    mnist.data[60000:] = mnist.data[reorder_test + 60000]\n",
        "    mnist.target[60000:] = mnist.target[reorder_test + 60000]\n",
        "\n",
        "from sklearn.datasets import fetch_openml\n",
        "mnist = fetch_openml('mnist_784', version=1, cache=True, as_frame=False)\n",
        "mnist.target = mnist.target.astype(np.int8)\n",
        "sort_by_target(mnist)\n",
        "X_train = mnist.data[:60000]\n",
        "y_train = mnist.target[:60000]\n",
        "X_test = mnist.data[60000:]\n",
        "y_test = mnist.target[60000:]"
      ]
    },
    {
      "cell_type": "code",
      "source": [
        "print ( X_train.shape )\n",
        "print ( X_test.shape )"
      ],
      "metadata": {
        "colab": {
          "base_uri": "https://localhost:8080/"
        },
        "id": "rKz89esbEBoE",
        "outputId": "a3019a81-858c-48c0-84b1-663826193d3a"
      },
      "execution_count": 3,
      "outputs": [
        {
          "output_type": "stream",
          "name": "stdout",
          "text": [
            "(60000, 784)\n",
            "(10000, 784)\n"
          ]
        }
      ]
    },
    {
      "cell_type": "code",
      "source": [
        "idx = 20000\n",
        "print ( y_train[ idx ] )\n",
        "print ( X_train[ idx ] )\n",
        "fig = plt.figure( figsize=(10,10) )\n",
        "plt.imshow( X_train[ idx ].reshape(28,28), cmap='binary' )"
      ],
      "metadata": {
        "colab": {
          "base_uri": "https://localhost:8080/",
          "height": 1000
        },
        "id": "MSZBlvBGC63q",
        "outputId": "c4312394-53c7-4deb-e20d-4b9d1bf566e0"
      },
      "execution_count": 4,
      "outputs": [
        {
          "output_type": "stream",
          "name": "stdout",
          "text": [
            "3\n",
            "[  0.   0.   0.   0.   0.   0.   0.   0.   0.   0.   0.   0.   0.   0.\n",
            "   0.   0.   0.   0.   0.   0.   0.   0.   0.   0.   0.   0.   0.   0.\n",
            "   0.   0.   0.   0.   0.   0.   0.   0.   0.   0.   0.   0.   0.   0.\n",
            "   0.   0.   0.   0.   0.   0.   0.   0.   0.   0.   0.   0.   0.   0.\n",
            "   0.   0.   0.   0.   0.   0.   0.   0.   0.   0.   0.   0.   0.   0.\n",
            "   0.   0.   0.   0.   0.   0.   0.   0.   0.   0.   0.   0.   0.   0.\n",
            "   0.   0.   0.   0.   0.   0.   0.   0.   0.   0.   0.   0.   0.   0.\n",
            "   0.   0.   0.   0.   0.   0.   0.   0.   0.   0.   0.   0.   0.   0.\n",
            "   0.   0.   0.   0.   0.   0.   0.   0.   0.   0.   0.   0.   0.   0.\n",
            "   0.   0.   0.   0.   0.   0.   0.   0.   0.   0.   0.   0.   0.   0.\n",
            "   0.   0.   0.   0.   0.   0.   0.   0.   0.   0.   2.  93. 131. 131.\n",
            " 164. 219.  92.   2.   0.   0.   0.   0.   0.   0.   0.   0.   0.   0.\n",
            "   0.   0.   0.   0.   0.   0.   0.   0.   0.   2. 116. 254. 254. 254.\n",
            " 254. 248. 254.  53.   2.   0.   0.   0.   0.   0.   0.   0.   0.   0.\n",
            "   0.   0.   0.   0.   0.   0.   0.   0.   0.  47. 254. 254. 241. 144.\n",
            " 206. 126. 254. 254.  37.   0.   0.   0.   0.   0.   0.   0.   0.   0.\n",
            "   0.   0.   0.   0.   0.   0.   0.   0.  92. 216. 238. 144.  31.   0.\n",
            "   0.  75. 254. 246.  33.   0.   0.   0.   0.   0.   0.   0.   0.   0.\n",
            "   0.   0.   0.   0.   0.   0.   0.   0. 137. 205.  34.   0.   0.   0.\n",
            "   0.  91. 254.  91.   0.   0.   0.   0.   0.   0.   0.   0.   0.   0.\n",
            "   0.   0.   0.   0.   0.   0.   0.   0.   0.   0.   0.   0.   0.   0.\n",
            "  11. 208. 243.  37.   0.   0.   0.   0.   0.   0.   0.   0.   0.   0.\n",
            "   0.   0.   0.   0.   0.   0.   0.   0.   0.   0.   0.   0.   0.   0.\n",
            " 151. 254. 187.   8.   0.   0.   0.   0.   0.   0.   0.   0.   0.   0.\n",
            "   0.   0.   0.   0.   0.   0.   0.   0.   0.   0.   0.  10.  78. 174.\n",
            " 235. 254. 254. 188.  68.   6.   0.   0.   0.   0.   0.   0.   0.   0.\n",
            "   0.   0.   0.   0.   0.   0.   0.   0.   0.   0.  59. 195. 254. 254.\n",
            " 254. 210. 198. 245. 254. 189.  17.   0.   0.   0.   0.   0.   0.   0.\n",
            "   0.   0.   0.   0.   0.   0.   0.   0.   0.   0. 138. 254. 210. 101.\n",
            "  68.  15.   0.  57. 136. 254. 116.   0.   0.   0.   0.   0.   0.   0.\n",
            "   0.   0.   0.   0.   0.   0.   0.   0.   0.   0.  11.  62.  18.   0.\n",
            "   0.   0.   0.   0.  94. 254. 148.   0.   0.   0.   0.   0.   0.   0.\n",
            "   0.   0.   0.   0.   0.   0.   0.   0.   0.   0.   0.   0.   0.   0.\n",
            "   0.   0.   0.   0.  94. 254. 148.   0.   0.   0.   0.   0.   0.   0.\n",
            "   0.   0.   0.   0.   0.   0.   0.   0.   0.   0.   0.   0.   0.   0.\n",
            "   0.   0.   0.   0.  94. 254.  48.   0.   0.   0.   0.   0.   0.   0.\n",
            "   0.   0.   0.   0.   0.   0.   0.   0.   0.   0.   0.   0.   0.   0.\n",
            "   0.   0.   0.   0. 136. 254.  24.   0.   0.   0.   0.   0.   0.   0.\n",
            "   0.   0.   0.   0.   0.   0.   0.   0.   0.   0.   0.   0.   0.   0.\n",
            "   0.   0.   0. 122. 249. 124.   4.   0.   0.   0.   0.   0.   0.   0.\n",
            "   0.   0.   0.   0.   0.   0.   0.  10.  39.   0.   0.   0.   0.   0.\n",
            "   0.   0.  32. 229. 172.   4.   0.   0.   0.   0.   0.   0.   0.   0.\n",
            "   0.   0.   0.   0.   0.   0.   0. 138.  99.   0.   0.   0.   0.   0.\n",
            "   0. 121. 238. 218.  95.   0.   0.   0.   0.   0.   0.   0.   0.   0.\n",
            "   0.   0.   0.   0.   0.   0.  10. 201. 153.   0.   0.   0.   0.  28.\n",
            " 146. 251. 219.  33.   0.   0.   0.   0.   0.   0.   0.   0.   0.   0.\n",
            "   0.   0.   0.   0.   0.   0.   0.  92. 253. 243. 243. 243. 243. 246.\n",
            " 254. 126.   8.   0.   0.   0.   0.   0.   0.   0.   0.   0.   0.   0.\n",
            "   0.   0.   0.   0.   0.   0.   0.   1.  21. 130. 212. 255. 166. 130.\n",
            "  97.   2.   0.   0.   0.   0.   0.   0.   0.   0.   0.   0.   0.   0.\n",
            "   0.   0.   0.   0.   0.   0.   0.   0.   0.   0.   0.   0.   0.   0.\n",
            "   0.   0.   0.   0.   0.   0.   0.   0.   0.   0.   0.   0.   0.   0.\n",
            "   0.   0.   0.   0.   0.   0.   0.   0.   0.   0.   0.   0.   0.   0.\n",
            "   0.   0.   0.   0.   0.   0.   0.   0.   0.   0.   0.   0.   0.   0.\n",
            "   0.   0.   0.   0.   0.   0.   0.   0.   0.   0.   0.   0.   0.   0.\n",
            "   0.   0.   0.   0.   0.   0.   0.   0.   0.   0.   0.   0.   0.   0.]\n"
          ]
        },
        {
          "output_type": "execute_result",
          "data": {
            "text/plain": [
              "<matplotlib.image.AxesImage at 0x7f1633cbc690>"
            ]
          },
          "metadata": {},
          "execution_count": 4
        },
        {
          "output_type": "display_data",
          "data": {
            "text/plain": [
              "<Figure size 720x720 with 1 Axes>"
            ],
            "image/png": "[encoded data removed]"
          },
          "metadata": {
            "needs_background": "light"
          }
        }
      ]
    },
    {
      "cell_type": "markdown",
      "source": [
        "### Treinamento\n",
        "### Classificador binário\n",
        "\n",
        "$\\textrm{Dígito} = 3 \\rightarrow y = 1$\n",
        "\n",
        "$\\textrm{Dígito} \\neq 3 \\rightarrow y = 0$"
      ],
      "metadata": {
        "id": "7n8-JMFXMwDg"
      }
    },
    {
      "cell_type": "code",
      "source": [
        "msk_train_3 = ( y_train == 3 )\n",
        "y_train_clf_3 = y_train.copy()\n",
        "y_train_clf_3[ msk_train_3 ] = 1\n",
        "y_train_clf_3[ ~msk_train_3 ] = 0\n",
        "print ( y_train_clf_3[ msk_train_3 ] )\n",
        "print ( y_train_clf_3[ ~msk_train_3 ] )\n",
        "\n",
        "shuffle_index = np.random.permutation( 60000 )\n",
        "X_train_shuffle, y_train_shuffle = X_train[ shuffle_index ], y_train_clf_3[ shuffle_index ]"
      ],
      "metadata": {
        "colab": {
          "base_uri": "https://localhost:8080/"
        },
        "id": "NUSZvxBsDiMH",
        "outputId": "5453ad18-f74a-43ba-b475-b34431e5b8f1"
      },
      "execution_count": 5,
      "outputs": [
        {
          "output_type": "stream",
          "name": "stdout",
          "text": [
            "[1 1 1 ... 1 1 1]\n",
            "[0 0 0 ... 0 0 0]\n"
          ]
        }
      ]
    },
    {
      "cell_type": "code",
      "source": [
        "from sklearn import linear_model\n",
        "log_reg = linear_model.LogisticRegression( max_iter=1000000 )\n",
        "# log_reg.fit( X_train_shuffle, y_train_shuffle )\n",
        "log_reg.fit( X_train_shuffle[:8000], y_train_shuffle[:8000] )"
      ],
      "metadata": {
        "colab": {
          "base_uri": "https://localhost:8080/"
        },
        "id": "szgXQsLhHEPu",
        "outputId": "43190337-829f-47f9-e34d-a89873c0660c"
      },
      "execution_count": 6,
      "outputs": [
        {
          "output_type": "stream",
          "name": "stderr",
          "text": [
            "/usr/local/lib/python3.7/dist-packages/sklearn/linear_model/_logistic.py:818: ConvergenceWarning: lbfgs failed to converge (status=1):\n",
            "STOP: TOTAL NO. of f AND g EVALUATIONS EXCEEDS LIMIT.\n",
            "\n",
            "Increase the number of iterations (max_iter) or scale the data as shown in:\n",
            "    https://scikit-learn.org/stable/modules/preprocessing.html\n",
            "Please also refer to the documentation for alternative solver options:\n",
            "    https://scikit-learn.org/stable/modules/linear_model.html#logistic-regression\n",
            "  extra_warning_msg=_LOGISTIC_SOLVER_CONVERGENCE_MSG,\n"
          ]
        },
        {
          "output_type": "execute_result",
          "data": {
            "text/plain": [
              "LogisticRegression(max_iter=1000000)"
            ]
          },
          "metadata": {},
          "execution_count": 6
        }
      ]
    },
    {
      "cell_type": "code",
      "source": [
        "idx_list = [ 10000, 20000 ]\n",
        "\n",
        "fig, axes = plt.subplots( 1, 2, figsize=(20,10) )\n",
        "\n",
        "y_predict_proba = log_reg.predict_proba( X_train[ idx_list ] )[ :, 1 ]\n",
        "print ( y_predict_proba )\n",
        "\n",
        "for idx_, idx_data_ in enumerate( idx_list ):\n",
        "    print ( \"Label: {}\".format( y_train_clf_3[ idx_data_ ] ) )\n",
        "    print ( \"Pred.: {}\".format( y_predict_proba[ idx_ ] ) )\n",
        "    axes[ idx_ ].imshow( X_train[ idx_data_ ].reshape(28,28), cmap='binary' )"
      ],
      "metadata": {
        "colab": {
          "base_uri": "https://localhost:8080/",
          "height": 646
        },
        "id": "1hCnr0PuLCeC",
        "outputId": "27060ba4-d94c-41b1-aa24-918823ec9a88"
      },
      "execution_count": 7,
      "outputs": [
        {
          "output_type": "stream",
          "name": "stdout",
          "text": [
            "[1.32215917e-04 9.99999989e-01]\n",
            "Label: 0\n",
            "Pred.: 0.0001322159172876388\n",
            "Label: 1\n",
            "Pred.: 0.9999999887346432\n"
          ]
        },
        {
          "output_type": "display_data",
          "data": {
            "text/plain": [
              "<Figure size 1440x720 with 2 Axes>"
            ],
            "image/png": "[encoded data removed]"
          },
          "metadata": {
            "needs_background": "light"
          }
        }
      ]
    },
    {
      "cell_type": "code",
      "source": [
        "y_predict_proba_train = log_reg.predict_proba( X_train )[ :, 1 ]\n",
        "\n",
        "fig = plt.figure( figsize=(12,10) )\n",
        "\n",
        "plt.hist( y_predict_proba_train[ msk_train_3 ], histtype='step', color=\"tab:blue\" , label=\"prob( y(pred.) = 1 | y(label) = 1)\", bins=50, range=(0.,1.) )\n",
        "plt.hist( y_predict_proba_train[ ~msk_train_3 ], histtype='step', color=\"tab:red\" , label=\"prob( y(pred.) = 1 | y(label) = 0)\", bins=50, range=(0.,1.) )\n",
        "plt.legend( loc='best' )\n",
        "plt.xlim( 0., 1. )\n",
        "plt.xlabel( \"prob.\" )\n",
        "plt.ylabel( \"Número de ocorrências\" )\n",
        "plt.yscale( 'log' )"
      ],
      "metadata": {
        "colab": {
          "base_uri": "https://localhost:8080/",
          "height": 620
        },
        "id": "Uthea8iWLDYd",
        "outputId": "ae3aa74d-cdf4-4b96-ec85-1cec2986dd3a"
      },
      "execution_count": 8,
      "outputs": [
        {
          "output_type": "display_data",
          "data": {
            "text/plain": [
              "<Figure size 864x720 with 1 Axes>"
            ],
            "image/png": "[encoded data removed]"
          },
          "metadata": {
            "needs_background": "light"
          }
        }
      ]
    },
    {
      "cell_type": "markdown",
      "source": [
        "### Teste"
      ],
      "metadata": {
        "id": "g4ofZhC7O-Kf"
      }
    },
    {
      "cell_type": "code",
      "source": [
        "msk_test_3 = ( y_test == 3 )\n",
        "y_test_clf_3 = y_test.copy()\n",
        "y_test_clf_3[ msk_test_3 ] = 1\n",
        "y_test_clf_3[ ~msk_test_3 ] = 0\n",
        "print ( y_test_clf_3[ msk_test_3 ] )\n",
        "print ( y_test_clf_3[ ~msk_test_3 ] )"
      ],
      "metadata": {
        "colab": {
          "base_uri": "https://localhost:8080/"
        },
        "id": "muaeAtWwPIJE",
        "outputId": "350cbacd-8dd4-4771-b613-5e1e1b8ff84c"
      },
      "execution_count": 9,
      "outputs": [
        {
          "output_type": "stream",
          "name": "stdout",
          "text": [
            "[1 1 1 ... 1 1 1]\n",
            "[0 0 0 ... 0 0 0]\n"
          ]
        }
      ]
    },
    {
      "cell_type": "code",
      "source": [
        "y_predict_proba_test = log_reg.predict_proba( X_test )[ :, 1 ]\n",
        "\n",
        "fig = plt.figure( figsize=(12,10) )\n",
        "\n",
        "plt.hist( y_predict_proba_test[ msk_test_3 ], histtype='step', color=\"tab:blue\" , label=\"prob( y(pred.) = 1 | y(label) = 1)\", bins=50, range=(0.,1.) )\n",
        "plt.hist( y_predict_proba_test[ ~msk_test_3 ], histtype='step', color=\"tab:red\" , label=\"prob( y(pred.) = 1 | y(label) = 0)\", bins=50, range=(0.,1.) )\n",
        "plt.legend( loc='best' )\n",
        "plt.xlim( 0., 1. )\n",
        "plt.xlabel( \"prob.\" )\n",
        "plt.ylabel( \"Número de ocorrências\" )\n",
        "plt.yscale( 'log' )"
      ],
      "metadata": {
        "colab": {
          "base_uri": "https://localhost:8080/",
          "height": 620
        },
        "id": "52fymC5vO9gQ",
        "outputId": "998692c8-7148-47a8-b9bb-104716642053"
      },
      "execution_count": 10,
      "outputs": [
        {
          "output_type": "display_data",
          "data": {
            "text/plain": [
              "<Figure size 864x720 with 1 Axes>"
            ],
            "image/png": "[encoded data removed]"
          },
          "metadata": {
            "needs_background": "light"
          }
        }
      ]
    },
    {
      "cell_type": "code",
      "source": [
        "prob_cut = 0.50\n",
        "\n",
        "y_predict_test = np.full_like( y_predict_proba_test, -1 )\n",
        "msk_prob_cut = ( y_predict_proba_test >= prob_cut )\n",
        "y_predict_test[ msk_prob_cut ]  = 1\n",
        "y_predict_test[ ~msk_prob_cut ] = 0\n",
        "\n",
        "accuracy = np.sum( y_predict_test == y_test_clf_3 ) / y_test_clf_3.size\n",
        "print ( \"Accuracy = {}\".format( accuracy ) )"
      ],
      "metadata": {
        "colab": {
          "base_uri": "https://localhost:8080/"
        },
        "id": "-AAKNdNYO1O2",
        "outputId": "a4b4bb5f-c0c2-4e06-e699-be0fff97cf9d"
      },
      "execution_count": 11,
      "outputs": [
        {
          "output_type": "stream",
          "name": "stdout",
          "text": [
            "Accuracy = 0.944\n"
          ]
        }
      ]
    },
    {
      "cell_type": "markdown",
      "source": [
        "### Classificação multi-classe"
      ],
      "metadata": {
        "id": "QRVYzwkyNp99"
      }
    },
    {
      "cell_type": "code",
      "source": [
        "shuffle_index = np.random.permutation( 60000 )\n",
        "X_train_shuffle_multi, y_train_shuffle_multi = X_train[ shuffle_index ], y_train[ shuffle_index ]\n",
        "\n",
        "softmax_reg = linear_model.LogisticRegression( multi_class='multinomial', max_iter=1000000 )\n",
        "# softmax_reg.fit( X_train_shuffle_multi, y_train_shuffle_multi )\n",
        "softmax_reg.fit( X_train_shuffle_multi[:15000], y_train_shuffle_multi[:15000] )"
      ],
      "metadata": {
        "id": "c4e0CWr_NtbU",
        "outputId": "de38e325-b9d3-4998-ed9d-e653ebc33fda",
        "colab": {
          "base_uri": "https://localhost:8080/"
        }
      },
      "execution_count": 12,
      "outputs": [
        {
          "output_type": "stream",
          "name": "stderr",
          "text": [
            "/usr/local/lib/python3.7/dist-packages/sklearn/linear_model/_logistic.py:818: ConvergenceWarning: lbfgs failed to converge (status=1):\n",
            "STOP: TOTAL NO. of f AND g EVALUATIONS EXCEEDS LIMIT.\n",
            "\n",
            "Increase the number of iterations (max_iter) or scale the data as shown in:\n",
            "    https://scikit-learn.org/stable/modules/preprocessing.html\n",
            "Please also refer to the documentation for alternative solver options:\n",
            "    https://scikit-learn.org/stable/modules/linear_model.html#logistic-regression\n",
            "  extra_warning_msg=_LOGISTIC_SOLVER_CONVERGENCE_MSG,\n"
          ]
        },
        {
          "output_type": "execute_result",
          "data": {
            "text/plain": [
              "LogisticRegression(max_iter=1000000, multi_class='multinomial')"
            ]
          },
          "metadata": {},
          "execution_count": 12
        }
      ]
    },
    {
      "cell_type": "code",
      "source": [
        "# idx_list = [ 10000, 20000 ]\n",
        "idx_list = [ 15000, 40000 ]\n",
        "\n",
        "fig, axes = plt.subplots( 1, 2, figsize=(20,10) )\n",
        "\n",
        "y_predict_proba = softmax_reg.predict_proba( X_train[ idx_list ] )\n",
        "y_predict = softmax_reg.predict( X_train[ idx_list ] )\n",
        "\n",
        "for idx_, idx_data_ in enumerate( idx_list ):\n",
        "    print ( \"Label: {}\".format( y_train[ idx_data_ ] ) )\n",
        "    print ( \"Prob.: {}\".format( y_predict_proba[ idx_ ] ) )\n",
        "    print ( \"Pred.: {}\".format( y_predict[ idx_ ] ) )\n",
        "    axes[ idx_ ].imshow( X_train[ idx_data_ ].reshape(28,28), cmap='binary' )"
      ],
      "metadata": {
        "id": "PnlnvoA7Ns1X",
        "outputId": "33d5b086-bdcf-4813-9306-6f0b3c05c047",
        "colab": {
          "base_uri": "https://localhost:8080/",
          "height": 733
        }
      },
      "execution_count": 13,
      "outputs": [
        {
          "output_type": "stream",
          "name": "stdout",
          "text": [
            "Label: 2\n",
            "Prob.: [2.29974389e-124 9.21889900e-207 1.00000000e+000 3.64935088e-059\n",
            " 2.17103200e-196 2.75755386e-101 1.75983588e-169 1.92342327e-240\n",
            " 3.66049393e-081 1.51126552e-210]\n",
            "Pred.: 2\n",
            "Label: 6\n",
            "Prob.: [5.53348658e-152 1.37336996e-223 1.10177162e-050 4.23355670e-047\n",
            " 1.83145821e-124 9.95606543e-105 1.00000000e+000 8.96085180e-154\n",
            " 3.01451106e-122 7.26490693e-110]\n",
            "Pred.: 6\n"
          ]
        },
        {
          "output_type": "display_data",
          "data": {
            "text/plain": [
              "<Figure size 1440x720 with 2 Axes>"
            ],
            "image/png": "[encoded data removed]"
          },
          "metadata": {
            "needs_background": "light"
          }
        }
      ]
    },
    {
      "cell_type": "code",
      "source": [
        "y_predict_test = softmax_reg.predict( X_test )\n",
        "\n",
        "accuracy = np.sum( y_predict_test == y_test ) / y_test.size\n",
        "print ( \"Accuracy = {}\".format( accuracy ) )"
      ],
      "metadata": {
        "id": "wB5piB5HNrij",
        "outputId": "1a1340db-5a1f-4655-8989-0d84d5150cab",
        "colab": {
          "base_uri": "https://localhost:8080/"
        }
      },
      "execution_count": 14,
      "outputs": [
        {
          "output_type": "stream",
          "name": "stdout",
          "text": [
            "Accuracy = 0.8536\n"
          ]
        }
      ]
    },
    {
      "cell_type": "code",
      "source": [
        "# np.info( linear_model.LogisticRegression )"
      ],
      "metadata": {
        "id": "ulNoc07sI0Yk"
      },
      "execution_count": 15,
      "outputs": []
    }
  ]
}