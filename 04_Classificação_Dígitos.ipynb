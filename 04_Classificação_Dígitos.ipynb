{
  "nbformat": 4,
  "nbformat_minor": 0,
  "metadata": {
    "colab": {
      "name": "04-Classificação-Dígitos.ipynb",
      "provenance": [],
      "authorship_tag": "ABX9TyOkfvH9vabewZ/E7mRP8O5G",
      "include_colab_link": true
    },
    "kernelspec": {
      "name": "python3",
      "display_name": "Python 3"
    },
    "language_info": {
      "name": "python"
    }
  },
  "cells": [
    {
      "cell_type": "markdown",
      "metadata": {
        "id": "view-in-github",
        "colab_type": "text"
      },
      "source": [
        "<a href=\"https://colab.research.google.com/github/UERJ-FISICA/ML4PPGF_UERJ/blob/PPGF-2022-1/04_Classifica%C3%A7%C3%A3o_D%C3%ADgitos.ipynb\" target=\"_parent\"><img src=\"https://colab.research.google.com/assets/colab-badge.svg\" alt=\"Open In Colab\"/></a>"
      ]
    },
    {
      "cell_type": "code",
      "source": [
        "import numpy as np\n",
        "import pandas as pd\n",
        "import matplotlib as mpl\n",
        "import matplotlib.pyplot as plt\n",
        "mpl.rcParams.update(\n",
        "    {'font.size': 18,\n",
        "     'font.family': 'sans-serif',\n",
        "     'legend.fontsize': 16,\n",
        "     'axes.labelsize': 22,\n",
        "     'xtick.labelsize': 14,\n",
        "     'ytick.labelsize': 14\n",
        "    }\n",
        "    )\n",
        "import sklearn"
      ],
      "metadata": {
        "id": "qNLZmy0vC77W"
      },
      "execution_count": 1,
      "outputs": []
    },
    {
      "cell_type": "markdown",
      "source": [
        "### Amostra de dígitos escritos a mão e digitalizados"
      ],
      "metadata": {
        "id": "OD_oFhZWNMtu"
      }
    },
    {
      "cell_type": "code",
      "execution_count": 2,
      "metadata": {
        "id": "wRzWgKCVCyki"
      },
      "outputs": [],
      "source": [
        "def sort_by_target(mnist):\n",
        "    reorder_train = np.array(sorted([(target, i) for i, target in enumerate(mnist.target[:60000])]))[:, 1]\n",
        "    reorder_test = np.array(sorted([(target, i) for i, target in enumerate(mnist.target[60000:])]))[:, 1]\n",
        "    mnist.data[:60000] = mnist.data[reorder_train]\n",
        "    mnist.target[:60000] = mnist.target[reorder_train]\n",
        "    mnist.data[60000:] = mnist.data[reorder_test + 60000]\n",
        "    mnist.target[60000:] = mnist.target[reorder_test + 60000]\n",
        "\n",
        "from sklearn.datasets import fetch_openml\n",
        "mnist = fetch_openml('mnist_784', version=1, cache=True, as_frame=False)\n",
        "mnist.target = mnist.target.astype(np.int8)\n",
        "sort_by_target(mnist)\n",
        "X_train = mnist.data[:60000]\n",
        "y_train = mnist.target[:60000]\n",
        "X_test = mnist.data[60000:]\n",
        "y_test = mnist.target[60000:]"
      ]
    },
    {
      "cell_type": "code",
      "source": [
        "print ( X_train.shape )\n",
        "print ( X_test.shape )"
      ],
      "metadata": {
        "colab": {
          "base_uri": "https://localhost:8080/"
        },
        "id": "rKz89esbEBoE",
        "outputId": "777f5b5c-6541-463d-e526-df8f0e3320b3"
      },
      "execution_count": 3,
      "outputs": [
        {
          "output_type": "stream",
          "name": "stdout",
          "text": [
            "(60000, 784)\n",
            "(10000, 784)\n"
          ]
        }
      ]
    },
    {
      "cell_type": "code",
      "source": [
        "idx = 20000\n",
        "print ( y_train[ idx ] )\n",
        "fig = plt.figure( figsize=(10,10) )\n",
        "plt.imshow( X_train[ idx ].reshape(28,28), cmap='binary' )"
      ],
      "metadata": {
        "colab": {
          "base_uri": "https://localhost:8080/",
          "height": 630
        },
        "id": "MSZBlvBGC63q",
        "outputId": "f5d621c7-83f6-4ff6-ec68-d4eee683aab3"
      },
      "execution_count": 4,
      "outputs": [
        {
          "output_type": "stream",
          "name": "stdout",
          "text": [
            "3\n"
          ]
        },
        {
          "output_type": "execute_result",
          "data": {
            "text/plain": [
              "<matplotlib.image.AxesImage at 0x7f4a03e3b5d0>"
            ]
          },
          "metadata": {},
          "execution_count": 4
        },
        {
          "output_type": "display_data",
          "data": {
            "text/plain": [
              "<Figure size 720x720 with 1 Axes>"
            ],
            "image/png": "[encoded data removed]"
          },
          "metadata": {
            "needs_background": "light"
          }
        }
      ]
    },
    {
      "cell_type": "markdown",
      "source": [
        "### Treinamento\n",
        "### Classificador binário\n",
        "\n",
        "$\\textrm{Dígito} = 3 \\rightarrow y = 1$\n",
        "\n",
        "$\\textrm{Dígito} \\neq 3 \\rightarrow y = 0$"
      ],
      "metadata": {
        "id": "7n8-JMFXMwDg"
      }
    },
    {
      "cell_type": "code",
      "source": [
        "msk_train_3 = ( y_train == 3 )\n",
        "y_train_clf_3 = y_train.copy()\n",
        "y_train_clf_3[ msk_train_3 ] = 1\n",
        "y_train_clf_3[ ~msk_train_3 ] = 0\n",
        "print ( y_train_clf_3[ msk_train_3 ] )\n",
        "print ( y_train_clf_3[ ~msk_train_3 ] )\n",
        "\n",
        "shuffle_index = np.random.permutation( 60000 )\n",
        "X_train_shuffle, y_train_shuffle = X_train[ shuffle_index ], y_train_clf_3[ shuffle_index ]"
      ],
      "metadata": {
        "colab": {
          "base_uri": "https://localhost:8080/"
        },
        "id": "NUSZvxBsDiMH",
        "outputId": "4723f08d-16f5-41b8-8419-a226c1d7bf39"
      },
      "execution_count": 5,
      "outputs": [
        {
          "output_type": "stream",
          "name": "stdout",
          "text": [
            "[1 1 1 ... 1 1 1]\n",
            "[0 0 0 ... 0 0 0]\n"
          ]
        }
      ]
    },
    {
      "cell_type": "code",
      "source": [
        "from sklearn import linear_model\n",
        "log_reg = linear_model.LogisticRegression( max_iter=1000000 )\n",
        "log_reg.fit( X_train_shuffle[:5000], y_train_shuffle[:5000] )"
      ],
      "metadata": {
        "colab": {
          "base_uri": "https://localhost:8080/"
        },
        "id": "szgXQsLhHEPu",
        "outputId": "e9870443-3942-497d-eb1b-e08febf8429d"
      },
      "execution_count": 6,
      "outputs": [
        {
          "output_type": "execute_result",
          "data": {
            "text/plain": [
              "LogisticRegression(max_iter=1000000)"
            ]
          },
          "metadata": {},
          "execution_count": 6
        }
      ]
    },
    {
      "cell_type": "code",
      "source": [
        "idx_list = [ 10000, 20000 ]\n",
        "\n",
        "fig, axes = plt.subplots( 1, 2, figsize=(20,10) )\n",
        "\n",
        "y_predict_proba = log_reg.predict_proba( X_train[ idx_list ] )[ :, 1 ]\n",
        "print ( y_predict_proba )\n",
        "\n",
        "for idx_, idx_data_ in enumerate( idx_list ):\n",
        "    print ( \"Label: {}\".format( y_train_clf_3[ idx_data_ ] ) )\n",
        "    print ( \"Pred.: {}\".format( y_predict_proba[ idx_ ] ) )\n",
        "    axes[ idx_ ].imshow( X_train[ idx_data_ ].reshape(28,28), cmap='binary' )"
      ],
      "metadata": {
        "colab": {
          "base_uri": "https://localhost:8080/",
          "height": 646
        },
        "id": "1hCnr0PuLCeC",
        "outputId": "5d8277ba-c9c7-41f2-91e8-099835b20f61"
      },
      "execution_count": 7,
      "outputs": [
        {
          "output_type": "stream",
          "name": "stdout",
          "text": [
            "[1.65467834e-38 1.00000000e+00]\n",
            "Label: 0\n",
            "Pred.: 1.654678340176924e-38\n",
            "Label: 1\n",
            "Pred.: 1.0\n"
          ]
        },
        {
          "output_type": "display_data",
          "data": {
            "text/plain": [
              "<Figure size 1440x720 with 2 Axes>"
            ],
            "image/png": "[encoded data removed]"
          },
          "metadata": {
            "needs_background": "light"
          }
        }
      ]
    },
    {
      "cell_type": "code",
      "source": [
        "y_predict_proba_train = log_reg.predict_proba( X_train )[ :, 1 ]\n",
        "\n",
        "fig = plt.figure( figsize=(12,10) )\n",
        "\n",
        "plt.hist( y_predict_proba_train[ msk_train_3 ], histtype='step', color=\"tab:blue\" , label=\"prob( y(pred.) = 1 | y(label) = 1)\", bins=50, range=(0.,1.) )\n",
        "plt.hist( y_predict_proba_train[ ~msk_train_3 ], histtype='step', color=\"tab:red\" , label=\"prob( y(pred.) = 1 | y(label) = 0)\", bins=50, range=(0.,1.) )\n",
        "plt.legend( loc='best' )\n",
        "plt.xlim( 0., 1. )\n",
        "plt.xlabel( \"prob.\" )\n",
        "plt.ylabel( \"Número de ocorrências\" )\n",
        "plt.yscale( 'log' )"
      ],
      "metadata": {
        "colab": {
          "base_uri": "https://localhost:8080/",
          "height": 620
        },
        "id": "Uthea8iWLDYd",
        "outputId": "dd6d531f-1497-4060-f4d1-8030ad1bbd58"
      },
      "execution_count": 13,
      "outputs": [
        {
          "output_type": "display_data",
          "data": {
            "text/plain": [
              "<Figure size 864x720 with 1 Axes>"
            ],
            "image/png": "[encoded data removed]"
          },
          "metadata": {
            "needs_background": "light"
          }
        }
      ]
    },
    {
      "cell_type": "markdown",
      "source": [
        "### Teste"
      ],
      "metadata": {
        "id": "g4ofZhC7O-Kf"
      }
    },
    {
      "cell_type": "code",
      "source": [
        "msk_test_3 = ( y_test == 3 )\n",
        "y_test_clf_3 = y_test.copy()\n",
        "y_test_clf_3[ msk_test_3 ] = 1\n",
        "y_test_clf_3[ ~msk_test_3 ] = 0\n",
        "print ( y_test_clf_3[ msk_test_3 ] )\n",
        "print ( y_test_clf_3[ ~msk_test_3 ] )"
      ],
      "metadata": {
        "colab": {
          "base_uri": "https://localhost:8080/"
        },
        "id": "muaeAtWwPIJE",
        "outputId": "f070aec5-642f-443f-f809-2708e3b5d097"
      },
      "execution_count": 9,
      "outputs": [
        {
          "output_type": "stream",
          "name": "stdout",
          "text": [
            "[1 1 1 ... 1 1 1]\n",
            "[0 0 0 ... 0 0 0]\n"
          ]
        }
      ]
    },
    {
      "cell_type": "code",
      "source": [
        "y_predict_proba_test = log_reg.predict_proba( X_test )[ :, 1 ]\n",
        "\n",
        "fig = plt.figure( figsize=(12,10) )\n",
        "\n",
        "plt.hist( y_predict_proba_test[ msk_test_3 ], histtype='step', color=\"tab:blue\" , label=\"prob( y(pred.) = 1 | y(label) = 1)\", bins=50, range=(0.,1.) )\n",
        "plt.hist( y_predict_proba_test[ ~msk_test_3 ], histtype='step', color=\"tab:red\" , label=\"prob( y(pred.) = 1 | y(label) = 0)\", bins=50, range=(0.,1.) )\n",
        "plt.legend( loc='best' )\n",
        "plt.xlim( 0., 1. )\n",
        "plt.xlabel( \"prob.\" )\n",
        "plt.ylabel( \"Número de ocorrências\" )\n",
        "plt.yscale( 'log' )"
      ],
      "metadata": {
        "colab": {
          "base_uri": "https://localhost:8080/",
          "height": 620
        },
        "id": "52fymC5vO9gQ",
        "outputId": "f23e2595-10c6-4993-e7b9-805488e8b020"
      },
      "execution_count": 14,
      "outputs": [
        {
          "output_type": "display_data",
          "data": {
            "text/plain": [
              "<Figure size 864x720 with 1 Axes>"
            ],
            "image/png": "[encoded data removed]"
          },
          "metadata": {
            "needs_background": "light"
          }
        }
      ]
    },
    {
      "cell_type": "code",
      "source": [
        "prob_cut = 0.50\n",
        "\n",
        "y_predict_test = np.full_like( y_predict_proba_test, -1 )\n",
        "msk_prob_cut = ( y_predict_proba_test >= prob_cut )\n",
        "y_predict_test[ msk_prob_cut ]  = 1\n",
        "y_predict_test[ ~msk_prob_cut ] = 0\n",
        "\n",
        "accuracy = np.sum( y_predict_test == y_test_clf_3 ) / y_test_clf_3.size\n",
        "print ( \"Accuracy = {}\".format( accuracy ) )"
      ],
      "metadata": {
        "colab": {
          "base_uri": "https://localhost:8080/"
        },
        "id": "-AAKNdNYO1O2",
        "outputId": "ce746ec9-5e09-408e-9972-2576c7bd410f"
      },
      "execution_count": 11,
      "outputs": [
        {
          "output_type": "stream",
          "name": "stdout",
          "text": [
            "Accuracy = 0.949\n"
          ]
        }
      ]
    },
    {
      "cell_type": "code",
      "source": [
        "np.info( linear_model.LogisticRegression )"
      ],
      "metadata": {
        "colab": {
          "base_uri": "https://localhost:8080/"
        },
        "id": "ulNoc07sI0Yk",
        "outputId": "a031eaba-d69e-4108-dba8-e9df0fbd5c36"
      },
      "execution_count": 12,
      "outputs": [
        {
          "output_type": "stream",
          "name": "stdout",
          "text": [
            " LogisticRegression(penalty='l2', *, dual=False, tol=0.0001, C=1.0,\n",
            "                    fit_intercept=True, intercept_scaling=1,\n",
            "                    class_weight=None, random_state=None, solver='lbfgs',\n",
            "                    max_iter=100, multi_class='auto', verbose=0,\n",
            "                    warm_start=False, n_jobs=None, l1_ratio=None)\n",
            "\n",
            "Logistic Regression (aka logit, MaxEnt) classifier.\n",
            "\n",
            "In the multiclass case, the training algorithm uses the one-vs-rest (OvR)\n",
            "scheme if the 'multi_class' option is set to 'ovr', and uses the\n",
            "cross-entropy loss if the 'multi_class' option is set to 'multinomial'.\n",
            "(Currently the 'multinomial' option is supported only by the 'lbfgs',\n",
            "'sag', 'saga' and 'newton-cg' solvers.)\n",
            "\n",
            "This class implements regularized logistic regression using the\n",
            "'liblinear' library, 'newton-cg', 'sag', 'saga' and 'lbfgs' solvers. **Note\n",
            "that regularization is applied by default**. It can handle both dense\n",
            "and sparse input. Use C-ordered arrays or CSR matrices containing 64-bit\n",
            "floats for optimal performance; any other input format will be converted\n",
            "(and copied).\n",
            "\n",
            "The 'newton-cg', 'sag', and 'lbfgs' solvers support only L2 regularization\n",
            "with primal formulation, or no regularization. The 'liblinear' solver\n",
            "supports both L1 and L2 regularization, with a dual formulation only for\n",
            "the L2 penalty. The Elastic-Net regularization is only supported by the\n",
            "'saga' solver.\n",
            "\n",
            "Read more in the :ref:`User Guide <logistic_regression>`.\n",
            "\n",
            "Parameters\n",
            "----------\n",
            "penalty : {'l1', 'l2', 'elasticnet', 'none'}, default='l2'\n",
            "    Specify the norm of the penalty:\n",
            "\n",
            "    - `'none'`: no penalty is added;\n",
            "    - `'l2'`: add a L2 penalty term and it is the default choice;\n",
            "    - `'l1'`: add a L1 penalty term;\n",
            "    - `'elasticnet'`: both L1 and L2 penalty terms are added.\n",
            "\n",
            "    .. warning::\n",
            "       Some penalties may not work with some solvers. See the parameter\n",
            "       `solver` below, to know the compatibility between the penalty and\n",
            "       solver.\n",
            "\n",
            "    .. versionadded:: 0.19\n",
            "       l1 penalty with SAGA solver (allowing 'multinomial' + L1)\n",
            "\n",
            "dual : bool, default=False\n",
            "    Dual or primal formulation. Dual formulation is only implemented for\n",
            "    l2 penalty with liblinear solver. Prefer dual=False when\n",
            "    n_samples > n_features.\n",
            "\n",
            "tol : float, default=1e-4\n",
            "    Tolerance for stopping criteria.\n",
            "\n",
            "C : float, default=1.0\n",
            "    Inverse of regularization strength; must be a positive float.\n",
            "    Like in support vector machines, smaller values specify stronger\n",
            "    regularization.\n",
            "\n",
            "fit_intercept : bool, default=True\n",
            "    Specifies if a constant (a.k.a. bias or intercept) should be\n",
            "    added to the decision function.\n",
            "\n",
            "intercept_scaling : float, default=1\n",
            "    Useful only when the solver 'liblinear' is used\n",
            "    and self.fit_intercept is set to True. In this case, x becomes\n",
            "    [x, self.intercept_scaling],\n",
            "    i.e. a \"synthetic\" feature with constant value equal to\n",
            "    intercept_scaling is appended to the instance vector.\n",
            "    The intercept becomes ``intercept_scaling * synthetic_feature_weight``.\n",
            "\n",
            "    Note! the synthetic feature weight is subject to l1/l2 regularization\n",
            "    as all other features.\n",
            "    To lessen the effect of regularization on synthetic feature weight\n",
            "    (and therefore on the intercept) intercept_scaling has to be increased.\n",
            "\n",
            "class_weight : dict or 'balanced', default=None\n",
            "    Weights associated with classes in the form ``{class_label: weight}``.\n",
            "    If not given, all classes are supposed to have weight one.\n",
            "\n",
            "    The \"balanced\" mode uses the values of y to automatically adjust\n",
            "    weights inversely proportional to class frequencies in the input data\n",
            "    as ``n_samples / (n_classes * np.bincount(y))``.\n",
            "\n",
            "    Note that these weights will be multiplied with sample_weight (passed\n",
            "    through the fit method) if sample_weight is specified.\n",
            "\n",
            "    .. versionadded:: 0.17\n",
            "       *class_weight='balanced'*\n",
            "\n",
            "random_state : int, RandomState instance, default=None\n",
            "    Used when ``solver`` == 'sag', 'saga' or 'liblinear' to shuffle the\n",
            "    data. See :term:`Glossary <random_state>` for details.\n",
            "\n",
            "solver : {'newton-cg', 'lbfgs', 'liblinear', 'sag', 'saga'},             default='lbfgs'\n",
            "\n",
            "    Algorithm to use in the optimization problem. Default is 'lbfgs'.\n",
            "    To choose a solver, you might want to consider the following aspects:\n",
            "\n",
            "        - For small datasets, 'liblinear' is a good choice, whereas 'sag'\n",
            "          and 'saga' are faster for large ones;\n",
            "        - For multiclass problems, only 'newton-cg', 'sag', 'saga' and\n",
            "          'lbfgs' handle multinomial loss;\n",
            "        - 'liblinear' is limited to one-versus-rest schemes.\n",
            "\n",
            "    .. warning::\n",
            "       The choice of the algorithm depends on the penalty chosen:\n",
            "       Supported penalties by solver:\n",
            "\n",
            "       - 'newton-cg'   -   ['l2', 'none']\n",
            "       - 'lbfgs'       -   ['l2', 'none']\n",
            "       - 'liblinear'   -   ['l1', 'l2']\n",
            "       - 'sag'         -   ['l2', 'none']\n",
            "       - 'saga'        -   ['elasticnet', 'l1', 'l2', 'none']\n",
            "\n",
            "    .. note::\n",
            "       'sag' and 'saga' fast convergence is only guaranteed on\n",
            "       features with approximately the same scale. You can\n",
            "       preprocess the data with a scaler from :mod:`sklearn.preprocessing`.\n",
            "\n",
            "    .. seealso::\n",
            "       Refer to the User Guide for more information regarding\n",
            "       :class:`LogisticRegression` and more specifically the\n",
            "       `Table <https://scikit-learn.org/dev/modules/linear_model.html#logistic-regression>`_\n",
            "       summarazing solver/penalty supports.\n",
            "       <!--\n",
            "       # noqa: E501\n",
            "       -->\n",
            "\n",
            "    .. versionadded:: 0.17\n",
            "       Stochastic Average Gradient descent solver.\n",
            "    .. versionadded:: 0.19\n",
            "       SAGA solver.\n",
            "    .. versionchanged:: 0.22\n",
            "        The default solver changed from 'liblinear' to 'lbfgs' in 0.22.\n",
            "\n",
            "max_iter : int, default=100\n",
            "    Maximum number of iterations taken for the solvers to converge.\n",
            "\n",
            "multi_class : {'auto', 'ovr', 'multinomial'}, default='auto'\n",
            "    If the option chosen is 'ovr', then a binary problem is fit for each\n",
            "    label. For 'multinomial' the loss minimised is the multinomial loss fit\n",
            "    across the entire probability distribution, *even when the data is\n",
            "    binary*. 'multinomial' is unavailable when solver='liblinear'.\n",
            "    'auto' selects 'ovr' if the data is binary, or if solver='liblinear',\n",
            "    and otherwise selects 'multinomial'.\n",
            "\n",
            "    .. versionadded:: 0.18\n",
            "       Stochastic Average Gradient descent solver for 'multinomial' case.\n",
            "    .. versionchanged:: 0.22\n",
            "        Default changed from 'ovr' to 'auto' in 0.22.\n",
            "\n",
            "verbose : int, default=0\n",
            "    For the liblinear and lbfgs solvers set verbose to any positive\n",
            "    number for verbosity.\n",
            "\n",
            "warm_start : bool, default=False\n",
            "    When set to True, reuse the solution of the previous call to fit as\n",
            "    initialization, otherwise, just erase the previous solution.\n",
            "    Useless for liblinear solver. See :term:`the Glossary <warm_start>`.\n",
            "\n",
            "    .. versionadded:: 0.17\n",
            "       *warm_start* to support *lbfgs*, *newton-cg*, *sag*, *saga* solvers.\n",
            "\n",
            "n_jobs : int, default=None\n",
            "    Number of CPU cores used when parallelizing over classes if\n",
            "    multi_class='ovr'\". This parameter is ignored when the ``solver`` is\n",
            "    set to 'liblinear' regardless of whether 'multi_class' is specified or\n",
            "    not. ``None`` means 1 unless in a :obj:`joblib.parallel_backend`\n",
            "    context. ``-1`` means using all processors.\n",
            "    See :term:`Glossary <n_jobs>` for more details.\n",
            "\n",
            "l1_ratio : float, default=None\n",
            "    The Elastic-Net mixing parameter, with ``0 <= l1_ratio <= 1``. Only\n",
            "    used if ``penalty='elasticnet'``. Setting ``l1_ratio=0`` is equivalent\n",
            "    to using ``penalty='l2'``, while setting ``l1_ratio=1`` is equivalent\n",
            "    to using ``penalty='l1'``. For ``0 < l1_ratio <1``, the penalty is a\n",
            "    combination of L1 and L2.\n",
            "\n",
            "Attributes\n",
            "----------\n",
            "\n",
            "classes_ : ndarray of shape (n_classes, )\n",
            "    A list of class labels known to the classifier.\n",
            "\n",
            "coef_ : ndarray of shape (1, n_features) or (n_classes, n_features)\n",
            "    Coefficient of the features in the decision function.\n",
            "\n",
            "    `coef_` is of shape (1, n_features) when the given problem is binary.\n",
            "    In particular, when `multi_class='multinomial'`, `coef_` corresponds\n",
            "    to outcome 1 (True) and `-coef_` corresponds to outcome 0 (False).\n",
            "\n",
            "intercept_ : ndarray of shape (1,) or (n_classes,)\n",
            "    Intercept (a.k.a. bias) added to the decision function.\n",
            "\n",
            "    If `fit_intercept` is set to False, the intercept is set to zero.\n",
            "    `intercept_` is of shape (1,) when the given problem is binary.\n",
            "    In particular, when `multi_class='multinomial'`, `intercept_`\n",
            "    corresponds to outcome 1 (True) and `-intercept_` corresponds to\n",
            "    outcome 0 (False).\n",
            "\n",
            "n_features_in_ : int\n",
            "    Number of features seen during :term:`fit`.\n",
            "\n",
            "    .. versionadded:: 0.24\n",
            "\n",
            "feature_names_in_ : ndarray of shape (`n_features_in_`,)\n",
            "    Names of features seen during :term:`fit`. Defined only when `X`\n",
            "    has feature names that are all strings.\n",
            "\n",
            "    .. versionadded:: 1.0\n",
            "\n",
            "n_iter_ : ndarray of shape (n_classes,) or (1, )\n",
            "    Actual number of iterations for all classes. If binary or multinomial,\n",
            "    it returns only 1 element. For liblinear solver, only the maximum\n",
            "    number of iteration across all classes is given.\n",
            "\n",
            "    .. versionchanged:: 0.20\n",
            "\n",
            "        In SciPy <= 1.0.0 the number of lbfgs iterations may exceed\n",
            "        ``max_iter``. ``n_iter_`` will now report at most ``max_iter``.\n",
            "\n",
            "See Also\n",
            "--------\n",
            "SGDClassifier : Incrementally trained logistic regression (when given\n",
            "    the parameter ``loss=\"log\"``).\n",
            "LogisticRegressionCV : Logistic regression with built-in cross validation.\n",
            "\n",
            "Notes\n",
            "-----\n",
            "The underlying C implementation uses a random number generator to\n",
            "select features when fitting the model. It is thus not uncommon,\n",
            "to have slightly different results for the same input data. If\n",
            "that happens, try with a smaller tol parameter.\n",
            "\n",
            "Predict output may not match that of standalone liblinear in certain\n",
            "cases. See :ref:`differences from liblinear <liblinear_differences>`\n",
            "in the narrative documentation.\n",
            "\n",
            "References\n",
            "----------\n",
            "\n",
            "L-BFGS-B -- Software for Large-scale Bound-constrained Optimization\n",
            "    Ciyou Zhu, Richard Byrd, Jorge Nocedal and Jose Luis Morales.\n",
            "    http://users.iems.northwestern.edu/~nocedal/lbfgsb.html\n",
            "\n",
            "LIBLINEAR -- A Library for Large Linear Classification\n",
            "    https://www.csie.ntu.edu.tw/~cjlin/liblinear/\n",
            "\n",
            "SAG -- Mark Schmidt, Nicolas Le Roux, and Francis Bach\n",
            "    Minimizing Finite Sums with the Stochastic Average Gradient\n",
            "    https://hal.inria.fr/hal-00860051/document\n",
            "\n",
            "SAGA -- Defazio, A., Bach F. & Lacoste-Julien S. (2014).\n",
            "    SAGA: A Fast Incremental Gradient Method With Support\n",
            "    for Non-Strongly Convex Composite Objectives\n",
            "    https://arxiv.org/abs/1407.0202\n",
            "\n",
            "Hsiang-Fu Yu, Fang-Lan Huang, Chih-Jen Lin (2011). Dual coordinate descent\n",
            "    methods for logistic regression and maximum entropy models.\n",
            "    Machine Learning 85(1-2):41-75.\n",
            "    https://www.csie.ntu.edu.tw/~cjlin/papers/maxent_dual.pdf\n",
            "\n",
            "Examples\n",
            "--------\n",
            ">>> from sklearn.datasets import load_iris\n",
            ">>> from sklearn.linear_model import LogisticRegression\n",
            ">>> X, y = load_iris(return_X_y=True)\n",
            ">>> clf = LogisticRegression(random_state=0).fit(X, y)\n",
            ">>> clf.predict(X[:2, :])\n",
            "array([0, 0])\n",
            ">>> clf.predict_proba(X[:2, :])\n",
            "array([[9.8...e-01, 1.8...e-02, 1.4...e-08],\n",
            "       [9.7...e-01, 2.8...e-02, ...e-08]])\n",
            ">>> clf.score(X, y)\n",
            "0.97...\n",
            "\n",
            "\n",
            "Methods:\n",
            "\n",
            "  decision_function  --  Predict confidence scores for samples.\n",
            "  densify  --  Convert coefficient matrix to dense array format.\n",
            "  fit  --  Fit the model according to the given training data.\n",
            "  get_params  --  Get parameters for this estimator.\n",
            "  predict  --  Predict class labels for samples in X.\n",
            "  predict_log_proba  --  Predict logarithm of probability estimates.\n",
            "  predict_proba  --  Probability estimates.\n",
            "  score  --  Return the mean accuracy on the given test data and labels.\n",
            "  set_params  --  Set the parameters of this estimator.\n",
            "  sparsify  --  Convert coefficient matrix to sparse format.\n"
          ]
        }
      ]
    },
    {
      "cell_type": "code",
      "source": [
        ""
      ],
      "metadata": {
        "id": "gzwwP_rwJNaY"
      },
      "execution_count": 12,
      "outputs": []
    }
  ]
}