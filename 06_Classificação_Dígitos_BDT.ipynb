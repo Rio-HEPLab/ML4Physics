{
  "nbformat": 4,
  "nbformat_minor": 0,
  "metadata": {
    "colab": {
      "name": "06-Classificação-Dígitos-BDT.ipynb",
      "provenance": [],
      "authorship_tag": "ABX9TyP3vuA7k9I7j80no+5kUG/N",
      "include_colab_link": true
    },
    "kernelspec": {
      "name": "python3",
      "display_name": "Python 3"
    },
    "language_info": {
      "name": "python"
    }
  },
  "cells": [
    {
      "cell_type": "markdown",
      "metadata": {
        "id": "view-in-github",
        "colab_type": "text"
      },
      "source": [
        "<a href=\"https://colab.research.google.com/github/UERJ-FISICA/ML4PPGF_UERJ/blob/PPGF-2022-1/06_Classifica%C3%A7%C3%A3o_D%C3%ADgitos_BDT.ipynb\" target=\"_parent\"><img src=\"https://colab.research.google.com/assets/colab-badge.svg\" alt=\"Open In Colab\"/></a>"
      ]
    },
    {
      "cell_type": "code",
      "source": [
        "import numpy as np\n",
        "import pandas as pd\n",
        "import matplotlib.pyplot as plt\n",
        "from joblib import dump, load\n",
        "\n",
        "import sklearn\n",
        "print ( sklearn.__version__ )\n",
        "\n",
        "from sklearn.tree import DecisionTreeClassifier\n",
        "from sklearn.ensemble import AdaBoostClassifier"
      ],
      "metadata": {
        "colab": {
          "base_uri": "https://localhost:8080/"
        },
        "id": "eth4gcAwUHag",
        "outputId": "b5e394da-70f0-4ac8-e80b-32ae18b92474"
      },
      "execution_count": 1,
      "outputs": [
        {
          "output_type": "stream",
          "name": "stdout",
          "text": [
            "1.0.2\n"
          ]
        }
      ]
    },
    {
      "cell_type": "code",
      "execution_count": 2,
      "metadata": {
        "id": "65OPlsvOT8qN"
      },
      "outputs": [],
      "source": [
        "train_model = True\n",
        "run_grid_search = True\n",
        "save_model = True\n",
        "\n",
        "model_path = \"ada_clf.joblib\""
      ]
    },
    {
      "cell_type": "markdown",
      "source": [
        "### Amostra de dígitos"
      ],
      "metadata": {
        "id": "Azo22KMNU4Uw"
      }
    },
    {
      "cell_type": "code",
      "source": [
        "def sort_by_target(mnist):\n",
        "    reorder_train = np.array(sorted([(target, i) for i, target in enumerate(mnist.target[:60000])]))[:, 1]\n",
        "    reorder_test = np.array(sorted([(target, i) for i, target in enumerate(mnist.target[60000:])]))[:, 1]\n",
        "    mnist.data[:60000] = mnist.data[reorder_train]\n",
        "    mnist.target[:60000] = mnist.target[reorder_train]\n",
        "    mnist.data[60000:] = mnist.data[reorder_test + 60000]\n",
        "    mnist.target[60000:] = mnist.target[reorder_test + 60000]\n",
        "\n",
        "from sklearn.datasets import fetch_openml\n",
        "mnist = fetch_openml('mnist_784', version=1, cache=True, as_frame=False)\n",
        "mnist.target = mnist.target.astype(np.int8)\n",
        "sort_by_target(mnist)\n",
        "X_train_raw = mnist.data[:60000]\n",
        "y_train = mnist.target[:60000]\n",
        "X_test_raw = mnist.data[60000:]\n",
        "y_test = mnist.target[60000:]\n",
        "\n",
        "print ( X_train_raw.shape )\n",
        "print ( X_test_raw.shape )"
      ],
      "metadata": {
        "colab": {
          "base_uri": "https://localhost:8080/"
        },
        "id": "ndOpxbMNUILQ",
        "outputId": "12e27bda-f660-43a8-e038-8799929ed35e"
      },
      "execution_count": 3,
      "outputs": [
        {
          "output_type": "stream",
          "name": "stdout",
          "text": [
            "(60000, 784)\n",
            "(10000, 784)\n"
          ]
        }
      ]
    },
    {
      "cell_type": "markdown",
      "source": [
        "### Renormalização dos dados"
      ],
      "metadata": {
        "id": "6vEsO3RNVIEV"
      }
    },
    {
      "cell_type": "code",
      "source": [
        "from sklearn.preprocessing import StandardScaler\n",
        "scaler = StandardScaler()\n",
        "X_train = scaler.fit_transform( X_train_raw )\n",
        "X_test  = scaler.transform( X_test_raw )\n",
        "idx = 20000\n",
        "print ( y_train[ idx ] )\n",
        "print ( X_train[ idx ] )"
      ],
      "metadata": {
        "colab": {
          "base_uri": "https://localhost:8080/"
        },
        "id": "FcKdUJSkVG7d",
        "outputId": "80776d9f-7d70-430e-f675-0ea90bfd6dbf"
      },
      "execution_count": 4,
      "outputs": [
        {
          "output_type": "stream",
          "name": "stdout",
          "text": [
            "3\n",
            "[ 0.          0.          0.          0.          0.          0.\n",
            "  0.          0.          0.          0.          0.          0.\n",
            " -0.00441808 -0.00575482 -0.00408252 -0.00408252  0.          0.\n",
            "  0.          0.          0.          0.          0.          0.\n",
            "  0.          0.          0.          0.          0.          0.\n",
            "  0.          0.         -0.00408252 -0.00470969 -0.00879935 -0.01159056\n",
            " -0.01475898 -0.01928485 -0.0246718  -0.02907103 -0.03059266 -0.03116401\n",
            " -0.03196287 -0.03020254 -0.03131022 -0.0283834  -0.02311919 -0.01916663\n",
            " -0.0167723  -0.01099636 -0.00832486 -0.00438069  0.          0.\n",
            "  0.          0.          0.          0.         -0.00408252 -0.00539535\n",
            " -0.00852241 -0.01198504 -0.01765348 -0.0277109  -0.03702009 -0.05215128\n",
            " -0.0670362  -0.08301705 -0.0993793  -0.11518413 -0.12913326 -0.13839468\n",
            " -0.13888363 -0.13184344 -0.12042952 -0.10189079 -0.0786049  -0.05699561\n",
            " -0.03965768 -0.02372839 -0.01408835 -0.00783084  0.          0.\n",
            "  0.          0.         -0.00536838 -0.00887061 -0.01407082 -0.02214681\n",
            " -0.03518014 -0.05502368 -0.07909613 -0.10764901 -0.13716994 -0.16710576\n",
            " -0.19600876 -0.22449111 -0.24865599 -0.26211797 -0.2625969  -0.2478559\n",
            " -0.221947   -0.1872114  -0.14764013 -0.10816436 -0.07681211 -0.0470753\n",
            " -0.03020197 -0.01524124 -0.00528372  0.          0.         -0.00408252\n",
            " -0.00776342 -0.01489325 -0.02396275 -0.0503409  -0.07876747 -0.11618154\n",
            " -0.16124756 -0.21196164 -0.26689873 -0.32567801 -0.39024155 -0.45207638\n",
            " -0.49939798 -0.52342832 -0.51761889 -0.48090242 -0.42307969 -0.35674039\n",
            " -0.28368365 -0.21683666 -0.15852438 -0.10878458 -0.07092253 -0.03895348\n",
            " -0.01425239 -0.0057705   0.          0.         -0.01190174 -0.02205016\n",
            " -0.05183807 -0.0906597  -0.13966711 -0.19708212 -0.26438473 -0.34073044\n",
            " -0.39570842  0.56889228  0.75400463  0.5548641   0.7362153   1.18345211\n",
            "  0.02851033 -0.74381141 -0.6665595  -0.5562504  -0.44764565 -0.34762461\n",
            " -0.26084091 -0.19030605 -0.13108013 -0.07484604 -0.03193013 -0.00820892\n",
            "  0.         -0.00557015 -0.01566193 -0.03636566 -0.07902431 -0.13328909\n",
            " -0.19915441 -0.27542969 -0.36333595 -0.43824283  0.68057305  1.80421592\n",
            "  1.52911309  1.33100961  1.20791723  1.10297085  1.17766993 -0.5263741\n",
            " -0.85654422 -0.72455973 -0.5806059  -0.45215876 -0.33932343 -0.24893037\n",
            " -0.1729397  -0.10410424 -0.04831762 -0.01470802 -0.00408252 -0.01323101\n",
            " -0.02624382 -0.05915859 -0.11300485 -0.17844153 -0.25800481 -0.35091181\n",
            " -0.45909822 -0.07476434  1.7713391   1.48785793  1.1770651   0.17209049\n",
            "  0.66322629 -0.08534834  1.09468453  1.1504372  -0.68973271 -0.86295358\n",
            " -0.69048024 -0.53290132 -0.39754744 -0.28768128 -0.19700703 -0.12122894\n",
            " -0.05680861 -0.01539067 -0.00502549 -0.01732052 -0.04308054 -0.0852489\n",
            " -0.13945837 -0.21088331 -0.30001798 -0.40728153  0.51176491  1.4779733\n",
            "  1.37741778  0.32173482 -0.79593524 -1.10798073 -1.10659099 -0.42725732\n",
            "  1.18512413  1.11562325 -0.7475138  -0.9129785  -0.73919131 -0.5710055\n",
            " -0.423671   -0.29819621 -0.19768614 -0.12068382 -0.05393563 -0.01350554\n",
            " -0.00590571 -0.02110967 -0.05298904 -0.09307849 -0.15039873 -0.22619102\n",
            " -0.32364534 -0.44213122  0.87901738  1.21535913 -0.59132495 -0.99238771\n",
            " -0.99508845 -0.9495566  -0.90890463 -0.07713623  1.36895746 -0.17986192\n",
            " -0.99948655 -0.90150861 -0.73668152 -0.56758942 -0.4201719  -0.2901746\n",
            " -0.18148235 -0.10493977 -0.04721317 -0.01413087 -0.00577281 -0.02263228\n",
            " -0.05280317 -0.09220581 -0.1474517  -0.22728459 -0.33242832 -0.46269616\n",
            " -0.61903352 -0.78428269 -0.90820988 -0.93137298 -0.86957693 -0.79705953\n",
            " -0.66457213  1.17384856  1.38844969 -0.61442017 -0.96213107 -0.86347326\n",
            " -0.70132425 -0.53739656 -0.39677103 -0.27122264 -0.15932446 -0.08125841\n",
            " -0.03695087 -0.0118734  -0.00705517 -0.02077118 -0.04720356 -0.08200384\n",
            " -0.13745728 -0.22518196 -0.33849238 -0.482935   -0.64828822 -0.80980531\n",
            " -0.89646046 -0.87178559 -0.7849761  -0.73254174  0.72839656  1.58304148\n",
            "  0.83099431 -0.90495036 -0.95554794 -0.8249029  -0.65598784 -0.49936419\n",
            " -0.36957331 -0.25846441 -0.14969571 -0.06111136 -0.02801157 -0.0091251\n",
            " -0.00530435 -0.0162384  -0.03637861 -0.06858201 -0.1273685  -0.22614336\n",
            " -0.35220291 -0.50758351 -0.67944964 -0.82825105 -0.88883004 -0.74946836\n",
            " -0.0164137   0.91830626  1.33752039  1.37394227  1.28331827  0.6337995\n",
            " -0.35441237 -0.73807682 -0.61674936 -0.47007288 -0.35512441 -0.25540754\n",
            " -0.15382451 -0.05245428 -0.02150587 -0.00992198 -0.00408252 -0.01093439\n",
            " -0.0255448  -0.05707308 -0.12466202 -0.23849817 -0.3732589  -0.53313607\n",
            " -0.70209414 -0.83745005 -0.34415486  0.95922572  1.57150594  1.44443531\n",
            "  1.25317927  0.7708198   0.62024012  1.05574835  1.30094213  1.03008063\n",
            " -0.41146003 -0.46091024 -0.35550055 -0.26354918 -0.16450369 -0.05951303\n",
            " -0.02336867 -0.00740432 -0.00408252 -0.00798835 -0.01829645 -0.05133943\n",
            " -0.1293464  -0.25752139 -0.39501133 -0.55042172 -0.70732309 -0.82604982\n",
            "  0.39179698  1.48283375  1.03657078 -0.12928103 -0.54751414 -1.13724891\n",
            " -1.24819354 -0.63255879  0.26113957  1.67313264  0.63754293 -0.47201999\n",
            " -0.36837041 -0.27332532 -0.17338663 -0.06894272 -0.02464466 -0.0069849\n",
            " -0.00477028 -0.00418943 -0.01864826 -0.05327212 -0.14042052 -0.27718062\n",
            " -0.41220901 -0.5540034  -0.69200544 -0.79258314 -0.74059213 -0.29756664\n",
            " -0.7943956  -1.09410266 -1.20489455 -1.27242541 -1.18363406 -1.07835249\n",
            " -0.06682482  1.68604937  0.93866876 -0.48675394 -0.38089678 -0.27829889\n",
            " -0.17549155 -0.07702614 -0.0296263  -0.00911024 -0.00408252 -0.00670728\n",
            " -0.02160143 -0.06070769 -0.15702241 -0.29716317 -0.4223068  -0.54572671\n",
            " -0.65910029 -0.74125055 -0.78837956 -0.83396729 -0.9194134  -1.02595562\n",
            " -1.12277551 -1.14506316 -1.0794597  -0.99988631 -0.01264694  1.69802655\n",
            "  0.91291517 -0.49307976 -0.37987428 -0.27351765 -0.17353912 -0.08405015\n",
            " -0.03416244 -0.00893965  0.         -0.00893209 -0.02539776 -0.07390018\n",
            " -0.17786005 -0.31338343 -0.42901306 -0.53508894 -0.62078199 -0.68268924\n",
            " -0.72347014 -0.76555898 -0.82507042 -0.91939024 -1.00626013 -1.03281505\n",
            " -1.01067269 -0.9515093   0.01268438  1.69351198 -0.11710038 -0.48515629\n",
            " -0.36804198 -0.26078182 -0.16833376 -0.08854264 -0.03593623 -0.01071081\n",
            " -0.00590597 -0.00635211 -0.03332021 -0.09130486 -0.19910803 -0.32796741\n",
            " -0.43899543 -0.53445409 -0.6059479  -0.65940509 -0.69784837 -0.73042289\n",
            " -0.78112567 -0.87168855 -0.95845445 -1.01124661 -1.01044884 -0.95294508\n",
            "  0.38874725  1.6951103  -0.3431014  -0.46342915 -0.34877114 -0.24588475\n",
            " -0.15820094 -0.08543796 -0.03155796 -0.00976041 -0.00408252 -0.01128166\n",
            " -0.0397571  -0.10385233 -0.21198097 -0.33747789 -0.45170193 -0.55213161\n",
            " -0.63188648 -0.69322439 -0.7383849  -0.77073077 -0.82876952 -0.91927271\n",
            " -1.0088061  -1.06082828 -1.04812373  0.13112956  1.43768764  0.50839925\n",
            " -0.51165472 -0.42707461 -0.31681048 -0.2206858  -0.14105726 -0.07817104\n",
            " -0.02918258 -0.00802579  0.         -0.0103421  -0.04327362 -0.10916701\n",
            " -0.20903257 -0.33022464 -0.45487527 -0.46338641 -0.29186344 -0.76060123\n",
            " -0.8287575  -0.88650819 -0.9598404  -1.05138397 -1.12090482 -1.12894344\n",
            " -0.77506606  1.13287468  0.82721634 -0.58603501 -0.48806277 -0.36895114\n",
            " -0.26929223 -0.18721262 -0.12162743 -0.06649382 -0.026033   -0.00577332\n",
            " -0.00408252 -0.0100095  -0.04049873 -0.09998471 -0.18820172 -0.29963131\n",
            " -0.42724847  0.93056162  0.27664896 -0.80158752 -0.90865685 -1.00894524\n",
            " -1.10362289 -1.1813322  -1.19218568 -0.03485854  1.15697368  1.19565202\n",
            "  0.28460495 -0.52269449 -0.39906543 -0.29670064 -0.21262622 -0.14869396\n",
            " -0.09689573 -0.05093109 -0.02021443 -0.00408252 -0.00408252 -0.00600491\n",
            " -0.03370635 -0.07897245 -0.14774138 -0.24325025 -0.20629049  1.91952647\n",
            "  0.93950576 -0.75670418 -0.88873651 -1.00217059 -1.08959257 -0.86773569\n",
            "  0.22622953  1.29218021  1.22402201 -0.3321922  -0.52359508 -0.40214203\n",
            " -0.30306916 -0.22168084 -0.15936594 -0.1100607  -0.07003976 -0.03713562\n",
            " -0.01220141 -0.00408252  0.          0.         -0.02273873 -0.0519054\n",
            " -0.09998802 -0.16843162 -0.26031072  1.05141697  2.59001419  1.9237492\n",
            "  1.58500656  1.38312907  1.29628889  1.33236293  1.51471874  0.49003765\n",
            " -0.52747526 -0.49207119 -0.37992817 -0.28881739 -0.21344094 -0.15366778\n",
            " -0.10912601 -0.07409876 -0.04331719 -0.01934379 -0.01040248  0.\n",
            "  0.          0.         -0.0103527  -0.0287501  -0.05756837 -0.09531054\n",
            " -0.15360976 -0.19898941  0.07527167  1.47667268  2.14588462  2.35666334\n",
            "  1.25566553  0.87282555  0.59822472 -0.4425811  -0.39580505 -0.32478945\n",
            " -0.25570503 -0.19461171 -0.14457421 -0.10177354 -0.07142522 -0.04777776\n",
            " -0.02575244 -0.01137942 -0.00475287  0.          0.          0.\n",
            " -0.0066643  -0.01096421 -0.02760445 -0.0515536  -0.08677185 -0.12839203\n",
            " -0.1757759  -0.22305444 -0.26664029 -0.29484432 -0.30750543 -0.30518012\n",
            " -0.28923178 -0.26323129 -0.23372359 -0.20102782 -0.16369105 -0.127666\n",
            " -0.09396514 -0.06568326 -0.04592653 -0.02871881 -0.01569304 -0.00567531\n",
            " -0.00408252  0.          0.          0.          0.         -0.00408252\n",
            " -0.01512139 -0.03136955 -0.05333023 -0.07922827 -0.10837665 -0.13397907\n",
            " -0.15751318 -0.17510551 -0.1826269  -0.18053534 -0.16987649 -0.15315731\n",
            " -0.13543312 -0.1164803  -0.09395125 -0.07257689 -0.05236436 -0.036383\n",
            " -0.02150306 -0.01301928 -0.00449422 -0.00408252  0.          0.\n",
            "  0.          0.          0.          0.         -0.00579016 -0.00905385\n",
            " -0.01600544 -0.02211976 -0.026846   -0.03184506 -0.04374841 -0.04728295\n",
            " -0.0531388  -0.05662282 -0.06033836 -0.056295   -0.05136654 -0.04263228\n",
            " -0.03317103 -0.02246288 -0.01606909 -0.0114322  -0.00900729 -0.00577039\n",
            "  0.          0.          0.          0.        ]\n"
          ]
        }
      ]
    },
    {
      "cell_type": "code",
      "source": [
        "fig = plt.figure( figsize=(10,10) )\n",
        "plt.imshow( X_train_raw[ idx ].reshape(28,28), cmap='binary' )"
      ],
      "metadata": {
        "colab": {
          "base_uri": "https://localhost:8080/",
          "height": 610
        },
        "id": "Oeic-Yz9VPpt",
        "outputId": "cfd13dbd-9a7f-4987-b57a-3864e44b2314"
      },
      "execution_count": 5,
      "outputs": [
        {
          "output_type": "execute_result",
          "data": {
            "text/plain": [
              "<matplotlib.image.AxesImage at 0x7f0748a9ee90>"
            ]
          },
          "metadata": {},
          "execution_count": 5
        },
        {
          "output_type": "display_data",
          "data": {
            "text/plain": [
              "<Figure size 720x720 with 1 Axes>"
            ],
            "image/png": "[encoded data removed]"
          },
          "metadata": {
            "needs_background": "light"
          }
        }
      ]
    },
    {
      "cell_type": "markdown",
      "source": [
        "### Treinamento\n",
        "### Hyperparameter scan"
      ],
      "metadata": {
        "id": "Wbc4SQB_UIvP"
      }
    },
    {
      "cell_type": "code",
      "source": [
        "shuffle_index = np.random.permutation( 60000 )\n",
        "X_train_shuffle, y_train_shuffle = X_train[ shuffle_index ], y_train[ shuffle_index ]"
      ],
      "metadata": {
        "id": "d60gu_8uVimN"
      },
      "execution_count": 6,
      "outputs": []
    },
    {
      "cell_type": "code",
      "source": [
        "X_train_shuffle, y_train_shuffle = X_train_shuffle[:10000], y_train_shuffle[:10000]\n",
        "\n",
        "n_iter_search = 5 # número de configurações de parâmetros\n",
        "cv = 4 # cross validation samples\n",
        "\n",
        "grid_search = None\n",
        "if train_model and run_grid_search:\n",
        "    import time\n",
        "    print( time.strftime(\"%Y/%m/%d %H:%M:%S\", time.localtime() ) )\n",
        "    time_s_ = time.time()\n",
        "\n",
        "    from sklearn.model_selection import RandomizedSearchCV\n",
        "    #from sklearn.model_selection import GridSearchCV\n",
        "\n",
        "    param_distribs = {\n",
        "        \"base_estimator__max_depth\": np.arange(2,5),\n",
        "        \"base_estimator__min_samples_split\": np.arange(2,5),\n",
        "        \"n_estimators\": 100 * np.arange(2,6),\n",
        "        \"learning_rate\": 0.1 * np.arange(2,6)\n",
        "        }\n",
        "\n",
        "    grid_search = RandomizedSearchCV(\n",
        "        AdaBoostClassifier(\n",
        "            DecisionTreeClassifier(),\n",
        "            algorithm=\"SAMME.R\"\n",
        "            ),\n",
        "        param_distribs,\n",
        "        n_iter=n_iter_search, cv=cv, verbose=20, n_jobs=-1, random_state=42\n",
        "        )\n",
        "    grid_search.fit( X_train_shuffle, y_train_shuffle )\n",
        "\n",
        "    print ( grid_search.best_params_ )\n",
        "    print ( grid_search.best_score_ )\n",
        "    print ( grid_search.cv_results_ )\n",
        "    \n",
        "    time_e_ = time.time()\n",
        "    print ( \"Total time elapsed: {:.0f}\".format( time_e_ - time_s_ ) )"
      ],
      "metadata": {
        "colab": {
          "base_uri": "https://localhost:8080/"
        },
        "id": "nlqzcg5xUJYw",
        "outputId": "67847736-e359-4c02-dcfb-aef365e50021"
      },
      "execution_count": 7,
      "outputs": [
        {
          "output_type": "stream",
          "name": "stdout",
          "text": [
            "2022/04/08 23:54:46\n",
            "Fitting 4 folds for each of 5 candidates, totalling 20 fits\n",
            "{'n_estimators': 300, 'learning_rate': 0.30000000000000004, 'base_estimator__min_samples_split': 3, 'base_estimator__max_depth': 4}\n",
            "0.8947\n",
            "{'mean_fit_time': array([259.94487226, 241.07015377, 269.73433828, 255.0106439 ,\n",
            "       134.30173612]), 'std_fit_time': array([11.42822895,  1.35061967,  2.04606314,  5.5823962 ,  3.81041422]), 'mean_score_time': array([2.75857675, 4.37895739, 3.4148261 , 2.61468065, 1.53911346]), 'std_score_time': array([0.3989528 , 0.02934748, 0.08363722, 0.22999667, 0.27310963]), 'param_n_estimators': masked_array(data=[300, 500, 400, 300, 200],\n",
            "             mask=[False, False, False, False, False],\n",
            "       fill_value='?',\n",
            "            dtype=object), 'param_learning_rate': masked_array(data=[0.30000000000000004, 0.2, 0.2, 0.2, 0.4],\n",
            "             mask=[False, False, False, False, False],\n",
            "       fill_value='?',\n",
            "            dtype=object), 'param_base_estimator__min_samples_split': masked_array(data=[3, 3, 4, 2, 2],\n",
            "             mask=[False, False, False, False, False],\n",
            "       fill_value='?',\n",
            "            dtype=object), 'param_base_estimator__max_depth': masked_array(data=[4, 2, 3, 4, 3],\n",
            "             mask=[False, False, False, False, False],\n",
            "       fill_value='?',\n",
            "            dtype=object), 'params': [{'n_estimators': 300, 'learning_rate': 0.30000000000000004, 'base_estimator__min_samples_split': 3, 'base_estimator__max_depth': 4}, {'n_estimators': 500, 'learning_rate': 0.2, 'base_estimator__min_samples_split': 3, 'base_estimator__max_depth': 2}, {'n_estimators': 400, 'learning_rate': 0.2, 'base_estimator__min_samples_split': 4, 'base_estimator__max_depth': 3}, {'n_estimators': 300, 'learning_rate': 0.2, 'base_estimator__min_samples_split': 2, 'base_estimator__max_depth': 4}, {'n_estimators': 200, 'learning_rate': 0.4, 'base_estimator__min_samples_split': 2, 'base_estimator__max_depth': 3}], 'split0_test_score': array([0.8924, 0.822 , 0.8824, 0.8908, 0.856 ]), 'split1_test_score': array([0.8936, 0.8232, 0.878 , 0.8928, 0.8508]), 'split2_test_score': array([0.8984, 0.8268, 0.874 , 0.8924, 0.856 ]), 'split3_test_score': array([0.8944, 0.8216, 0.8724, 0.9008, 0.8448]), 'mean_test_score': array([0.8947, 0.8234, 0.8767, 0.8942, 0.8519]), 'std_test_score': array([0.00225167, 0.00204939, 0.00387169, 0.0038833 , 0.00461628]), 'rank_test_score': array([1, 5, 3, 2, 4], dtype=int32)}\n",
            "Total time elapsed: 2588\n"
          ]
        }
      ]
    },
    {
      "cell_type": "markdown",
      "source": [
        "### Modelo"
      ],
      "metadata": {
        "id": "vOQ6v6d4cX4m"
      }
    },
    {
      "cell_type": "code",
      "source": [
        "model_final = None\n",
        "\n",
        "if train_model:\n",
        "    if run_grid_search: \n",
        "        model_final = grid_search.best_estimator_\n",
        "    else:\n",
        "        model_final = AdaBoostClassifier(\n",
        "                DecisionTreeClassifier(\n",
        "                    max_depth=4,\n",
        "                    min_samples_split=3\n",
        "                ),\n",
        "                n_estimators = 300,\n",
        "                algorithm=\"SAMME.R\",\n",
        "                learning_rate = 0.3\n",
        "                )\n",
        "        model_final.fit( X_train_shuffle, y_train_shuffle )\n",
        "else:\n",
        "    model_final = load( model_path )\n",
        " \n",
        "print ( model_final )"
      ],
      "metadata": {
        "colab": {
          "base_uri": "https://localhost:8080/"
        },
        "id": "YwhUerpQcWcW",
        "outputId": "71a047a8-3c9c-42da-91a0-1a18df353a61"
      },
      "execution_count": 8,
      "outputs": [
        {
          "output_type": "stream",
          "name": "stdout",
          "text": [
            "AdaBoostClassifier(base_estimator=DecisionTreeClassifier(max_depth=4,\n",
            "                                                         min_samples_split=3),\n",
            "                   learning_rate=0.30000000000000004, n_estimators=300)\n"
          ]
        }
      ]
    },
    {
      "cell_type": "markdown",
      "source": [
        "### Teste"
      ],
      "metadata": {
        "id": "leYy68aFc2iP"
      }
    },
    {
      "cell_type": "code",
      "source": [
        "y_predict_test = model_final.predict( X_test )\n",
        "\n",
        "accuracy = np.sum( y_predict_test == y_test ) / y_test.size\n",
        "print ( \"Accuracy = {}\".format( accuracy ) )"
      ],
      "metadata": {
        "colab": {
          "base_uri": "https://localhost:8080/"
        },
        "id": "EtC0pDOfc17M",
        "outputId": "6a49fe0c-f9d9-4024-dd3f-499525a60cd7"
      },
      "execution_count": 9,
      "outputs": [
        {
          "output_type": "stream",
          "name": "stdout",
          "text": [
            "Accuracy = 0.9101\n"
          ]
        }
      ]
    },
    {
      "cell_type": "code",
      "source": [
        "if train_model and save_model:\n",
        "    dump( model_final, \"ada_clf.joblib\" )"
      ],
      "metadata": {
        "id": "sQ6bTqstfr_D"
      },
      "execution_count": 11,
      "outputs": []
    },
    {
      "cell_type": "code",
      "source": [
        "np.info( DecisionTreeClassifier )"
      ],
      "metadata": {
        "colab": {
          "base_uri": "https://localhost:8080/"
        },
        "id": "3H7rOnPEWCwy",
        "outputId": "1adf649b-6698-49e2-e06d-81177444a359"
      },
      "execution_count": 12,
      "outputs": [
        {
          "output_type": "stream",
          "name": "stdout",
          "text": [
            " DecisionTreeClassifier(*, criterion='gini', splitter='best', max_depth=None,\n",
            "                        min_samples_split=2, min_samples_leaf=1,\n",
            "                        min_weight_fraction_leaf=0.0, max_features=None,\n",
            "                        random_state=None, max_leaf_nodes=None,\n",
            "                        min_impurity_decrease=0.0, class_weight=None,\n",
            "                        ccp_alpha=0.0)\n",
            "\n",
            "A decision tree classifier.\n",
            "\n",
            "Read more in the :ref:`User Guide <tree>`.\n",
            "\n",
            "Parameters\n",
            "----------\n",
            "criterion : {\"gini\", \"entropy\"}, default=\"gini\"\n",
            "    The function to measure the quality of a split. Supported criteria are\n",
            "    \"gini\" for the Gini impurity and \"entropy\" for the information gain.\n",
            "\n",
            "splitter : {\"best\", \"random\"}, default=\"best\"\n",
            "    The strategy used to choose the split at each node. Supported\n",
            "    strategies are \"best\" to choose the best split and \"random\" to choose\n",
            "    the best random split.\n",
            "\n",
            "max_depth : int, default=None\n",
            "    The maximum depth of the tree. If None, then nodes are expanded until\n",
            "    all leaves are pure or until all leaves contain less than\n",
            "    min_samples_split samples.\n",
            "\n",
            "min_samples_split : int or float, default=2\n",
            "    The minimum number of samples required to split an internal node:\n",
            "\n",
            "    - If int, then consider `min_samples_split` as the minimum number.\n",
            "    - If float, then `min_samples_split` is a fraction and\n",
            "      `ceil(min_samples_split * n_samples)` are the minimum\n",
            "      number of samples for each split.\n",
            "\n",
            "    .. versionchanged:: 0.18\n",
            "       Added float values for fractions.\n",
            "\n",
            "min_samples_leaf : int or float, default=1\n",
            "    The minimum number of samples required to be at a leaf node.\n",
            "    A split point at any depth will only be considered if it leaves at\n",
            "    least ``min_samples_leaf`` training samples in each of the left and\n",
            "    right branches.  This may have the effect of smoothing the model,\n",
            "    especially in regression.\n",
            "\n",
            "    - If int, then consider `min_samples_leaf` as the minimum number.\n",
            "    - If float, then `min_samples_leaf` is a fraction and\n",
            "      `ceil(min_samples_leaf * n_samples)` are the minimum\n",
            "      number of samples for each node.\n",
            "\n",
            "    .. versionchanged:: 0.18\n",
            "       Added float values for fractions.\n",
            "\n",
            "min_weight_fraction_leaf : float, default=0.0\n",
            "    The minimum weighted fraction of the sum total of weights (of all\n",
            "    the input samples) required to be at a leaf node. Samples have\n",
            "    equal weight when sample_weight is not provided.\n",
            "\n",
            "max_features : int, float or {\"auto\", \"sqrt\", \"log2\"}, default=None\n",
            "    The number of features to consider when looking for the best split:\n",
            "\n",
            "        - If int, then consider `max_features` features at each split.\n",
            "        - If float, then `max_features` is a fraction and\n",
            "          `int(max_features * n_features)` features are considered at each\n",
            "          split.\n",
            "        - If \"auto\", then `max_features=sqrt(n_features)`.\n",
            "        - If \"sqrt\", then `max_features=sqrt(n_features)`.\n",
            "        - If \"log2\", then `max_features=log2(n_features)`.\n",
            "        - If None, then `max_features=n_features`.\n",
            "\n",
            "    Note: the search for a split does not stop until at least one\n",
            "    valid partition of the node samples is found, even if it requires to\n",
            "    effectively inspect more than ``max_features`` features.\n",
            "\n",
            "random_state : int, RandomState instance or None, default=None\n",
            "    Controls the randomness of the estimator. The features are always\n",
            "    randomly permuted at each split, even if ``splitter`` is set to\n",
            "    ``\"best\"``. When ``max_features < n_features``, the algorithm will\n",
            "    select ``max_features`` at random at each split before finding the best\n",
            "    split among them. But the best found split may vary across different\n",
            "    runs, even if ``max_features=n_features``. That is the case, if the\n",
            "    improvement of the criterion is identical for several splits and one\n",
            "    split has to be selected at random. To obtain a deterministic behaviour\n",
            "    during fitting, ``random_state`` has to be fixed to an integer.\n",
            "    See :term:`Glossary <random_state>` for details.\n",
            "\n",
            "max_leaf_nodes : int, default=None\n",
            "    Grow a tree with ``max_leaf_nodes`` in best-first fashion.\n",
            "    Best nodes are defined as relative reduction in impurity.\n",
            "    If None then unlimited number of leaf nodes.\n",
            "\n",
            "min_impurity_decrease : float, default=0.0\n",
            "    A node will be split if this split induces a decrease of the impurity\n",
            "    greater than or equal to this value.\n",
            "\n",
            "    The weighted impurity decrease equation is the following::\n",
            "\n",
            "        N_t / N * (impurity - N_t_R / N_t * right_impurity\n",
            "                            - N_t_L / N_t * left_impurity)\n",
            "\n",
            "    where ``N`` is the total number of samples, ``N_t`` is the number of\n",
            "    samples at the current node, ``N_t_L`` is the number of samples in the\n",
            "    left child, and ``N_t_R`` is the number of samples in the right child.\n",
            "\n",
            "    ``N``, ``N_t``, ``N_t_R`` and ``N_t_L`` all refer to the weighted sum,\n",
            "    if ``sample_weight`` is passed.\n",
            "\n",
            "    .. versionadded:: 0.19\n",
            "\n",
            "class_weight : dict, list of dict or \"balanced\", default=None\n",
            "    Weights associated with classes in the form ``{class_label: weight}``.\n",
            "    If None, all classes are supposed to have weight one. For\n",
            "    multi-output problems, a list of dicts can be provided in the same\n",
            "    order as the columns of y.\n",
            "\n",
            "    Note that for multioutput (including multilabel) weights should be\n",
            "    defined for each class of every column in its own dict. For example,\n",
            "    for four-class multilabel classification weights should be\n",
            "    [{0: 1, 1: 1}, {0: 1, 1: 5}, {0: 1, 1: 1}, {0: 1, 1: 1}] instead of\n",
            "    [{1:1}, {2:5}, {3:1}, {4:1}].\n",
            "\n",
            "    The \"balanced\" mode uses the values of y to automatically adjust\n",
            "    weights inversely proportional to class frequencies in the input data\n",
            "    as ``n_samples / (n_classes * np.bincount(y))``\n",
            "\n",
            "    For multi-output, the weights of each column of y will be multiplied.\n",
            "\n",
            "    Note that these weights will be multiplied with sample_weight (passed\n",
            "    through the fit method) if sample_weight is specified.\n",
            "\n",
            "ccp_alpha : non-negative float, default=0.0\n",
            "    Complexity parameter used for Minimal Cost-Complexity Pruning. The\n",
            "    subtree with the largest cost complexity that is smaller than\n",
            "    ``ccp_alpha`` will be chosen. By default, no pruning is performed. See\n",
            "    :ref:`minimal_cost_complexity_pruning` for details.\n",
            "\n",
            "    .. versionadded:: 0.22\n",
            "\n",
            "Attributes\n",
            "----------\n",
            "classes_ : ndarray of shape (n_classes,) or list of ndarray\n",
            "    The classes labels (single output problem),\n",
            "    or a list of arrays of class labels (multi-output problem).\n",
            "\n",
            "feature_importances_ : ndarray of shape (n_features,)\n",
            "    The impurity-based feature importances.\n",
            "    The higher, the more important the feature.\n",
            "    The importance of a feature is computed as the (normalized)\n",
            "    total reduction of the criterion brought by that feature.  It is also\n",
            "    known as the Gini importance [4]_.\n",
            "\n",
            "    Warning: impurity-based feature importances can be misleading for\n",
            "    high cardinality features (many unique values). See\n",
            "    :func:`sklearn.inspection.permutation_importance` as an alternative.\n",
            "\n",
            "max_features_ : int\n",
            "    The inferred value of max_features.\n",
            "\n",
            "n_classes_ : int or list of int\n",
            "    The number of classes (for single output problems),\n",
            "    or a list containing the number of classes for each\n",
            "    output (for multi-output problems).\n",
            "\n",
            "n_features_ : int\n",
            "    The number of features when ``fit`` is performed.\n",
            "\n",
            "    .. deprecated:: 1.0\n",
            "       `n_features_` is deprecated in 1.0 and will be removed in\n",
            "       1.2. Use `n_features_in_` instead.\n",
            "\n",
            "n_features_in_ : int\n",
            "    Number of features seen during :term:`fit`.\n",
            "\n",
            "    .. versionadded:: 0.24\n",
            "\n",
            "feature_names_in_ : ndarray of shape (`n_features_in_`,)\n",
            "    Names of features seen during :term:`fit`. Defined only when `X`\n",
            "    has feature names that are all strings.\n",
            "\n",
            "    .. versionadded:: 1.0\n",
            "\n",
            "n_outputs_ : int\n",
            "    The number of outputs when ``fit`` is performed.\n",
            "\n",
            "tree_ : Tree instance\n",
            "    The underlying Tree object. Please refer to\n",
            "    ``help(sklearn.tree._tree.Tree)`` for attributes of Tree object and\n",
            "    :ref:`sphx_glr_auto_examples_tree_plot_unveil_tree_structure.py`\n",
            "    for basic usage of these attributes.\n",
            "\n",
            "See Also\n",
            "--------\n",
            "DecisionTreeRegressor : A decision tree regressor.\n",
            "\n",
            "Notes\n",
            "-----\n",
            "The default values for the parameters controlling the size of the trees\n",
            "(e.g. ``max_depth``, ``min_samples_leaf``, etc.) lead to fully grown and\n",
            "unpruned trees which can potentially be very large on some data sets. To\n",
            "reduce memory consumption, the complexity and size of the trees should be\n",
            "controlled by setting those parameter values.\n",
            "\n",
            "The :meth:`predict` method operates using the :func:`numpy.argmax`\n",
            "function on the outputs of :meth:`predict_proba`. This means that in\n",
            "case the highest predicted probabilities are tied, the classifier will\n",
            "predict the tied class with the lowest index in :term:`classes_`.\n",
            "\n",
            "References\n",
            "----------\n",
            "\n",
            ".. [1] https://en.wikipedia.org/wiki/Decision_tree_learning\n",
            "\n",
            ".. [2] L. Breiman, J. Friedman, R. Olshen, and C. Stone, \"Classification\n",
            "       and Regression Trees\", Wadsworth, Belmont, CA, 1984.\n",
            "\n",
            ".. [3] T. Hastie, R. Tibshirani and J. Friedman. \"Elements of Statistical\n",
            "       Learning\", Springer, 2009.\n",
            "\n",
            ".. [4] L. Breiman, and A. Cutler, \"Random Forests\",\n",
            "       https://www.stat.berkeley.edu/~breiman/RandomForests/cc_home.htm\n",
            "\n",
            "Examples\n",
            "--------\n",
            ">>> from sklearn.datasets import load_iris\n",
            ">>> from sklearn.model_selection import cross_val_score\n",
            ">>> from sklearn.tree import DecisionTreeClassifier\n",
            ">>> clf = DecisionTreeClassifier(random_state=0)\n",
            ">>> iris = load_iris()\n",
            ">>> cross_val_score(clf, iris.data, iris.target, cv=10)\n",
            "...                             # doctest: +SKIP\n",
            "...\n",
            "array([ 1.     ,  0.93...,  0.86...,  0.93...,  0.93...,\n",
            "        0.93...,  0.93...,  1.     ,  0.93...,  1.      ])\n",
            "\n",
            "\n",
            "Methods:\n",
            "\n",
            "  apply  --  Return the index of the leaf that each sample is predicted as.\n",
            "  cost_complexity_pruning_path  --  Compute the pruning path during Minimal Cost-Complexity Pruning.\n",
            "  decision_path  --  Return the decision path in the tree.\n",
            "  fit  --  Build a decision tree classifier from the training set (X, y).\n",
            "  get_depth  --  Return the depth of the decision tree.\n",
            "  get_n_leaves  --  Return the number of leaves of the decision tree.\n",
            "  get_params  --  Get parameters for this estimator.\n",
            "  predict  --  Predict class or regression value for X.\n",
            "  predict_log_proba  --  Predict class log-probabilities of the input samples X.\n",
            "  predict_proba  --  Predict class probabilities of the input samples X.\n",
            "  score  --  Return the mean accuracy on the given test data and labels.\n",
            "  set_params  --  Set the parameters of this estimator.\n"
          ]
        }
      ]
    }
  ]
}