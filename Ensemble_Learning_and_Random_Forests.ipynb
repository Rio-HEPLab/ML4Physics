{
  "nbformat": 4,
  "nbformat_minor": 0,
  "metadata": {
    "colab": {
      "name": "Ensemble_Learning_and_Random_Forests.ipynb",
      "version": "0.3.2",
      "provenance": [],
      "collapsed_sections": [],
      "include_colab_link": true
    },
    "kernelspec": {
      "name": "python3",
      "display_name": "Python 3"
    }
  },
  "cells": [
    {
      "cell_type": "markdown",
      "metadata": {
        "id": "view-in-github",
        "colab_type": "text"
      },
      "source": [
        "<a href=\"https://colab.research.google.com/github/clemencia/ML4PPGF_UERJ/blob/master/Ensemble_Learning_and_Random_Forests.ipynb\" target=\"_parent\"><img src=\"https://colab.research.google.com/assets/colab-badge.svg\" alt=\"Open In Colab\"/></a>"
      ]
    },
    {
      "cell_type": "markdown",
      "metadata": {
        "id": "COOrOvTPzXzf",
        "colab_type": "text"
      },
      "source": [
        "<!--BOOK_INFORMATION-->\n",
        "<img align=\"left\" width= 120 style=\"padding-right:10px;\" src=\"https://covers.oreillystatic.com/images/0636920052289/lrg.jpg\">\n",
        "\n",
        "*Essa aula é inteiramente baseada no **capítulo 7** do livro [Hands-On Machine Learning with Scikit-Learn & TensorFlow](http://shop.oreilly.com/product/0636920052289.do) por Aurélien Geron; os notebooks do livro estão disponíveis [no GitHub](https://github.com/ageron/handson-ml).*\n",
        "\n",
        "<!--BOOK_INFORMATION-->\n",
        "<img align=\"left\" style=\"padding-right:10px;\" src=\"https://github.com/jakevdp/PythonDataScienceHandbook/blob/master/notebooks/figures/PDSH-cover-small.png?raw=1\">\n",
        "\n",
        "*Alguns exemplos foram tirados do livro [Python Data Science Handbook](http://shop.oreilly.com/product/0636920034919.do) por Jake VanderPlas; disponível [no GitHub](https://github.com/jakevdp/PythonDataScienceHandbook).*\n"
      ]
    },
    {
      "cell_type": "markdown",
      "metadata": {
        "id": "3akYkfrmbNZ_",
        "colab_type": "text"
      },
      "source": [
        "# Random Forests\n",
        "\n",
        "\n",
        "*   Resumo de `Decision Trees`\n",
        "   * Resolução dos exercícios\n",
        "\n",
        "\n",
        "1.   Voting Classifiers\n",
        "2.   Bagging and Pasting\n",
        "3.   Random Patches and Random Subspaces\n",
        "4.   Random Forests\n",
        "5.   Boosting\n",
        "6.   Stacking\n",
        "7.   Exercícios"
      ]
    },
    {
      "cell_type": "markdown",
      "metadata": {
        "id": "nc_-efH2lT0U",
        "colab_type": "text"
      },
      "source": [
        "## Resumo de Decision Trees\n",
        "Na aula passada vimos que as `Decision Trees` são um algoritmo de ML **Supervisionado** e são usadas para **classificar** e **estimar**. \n",
        "\n",
        "São bastante sensíveis aos hyperparâmetros. Ao usarmos uma `Decision Tree`, devemos escolher com cuidado os parâmetros de input do nosso Estimador/Classificador.\n"
      ]
    },
    {
      "cell_type": "markdown",
      "metadata": {
        "id": "Wyv6wcWiYQBX",
        "colab_type": "text"
      },
      "source": [
        "### Exercícios (livro, capítulo 6):\n",
        "\n",
        "7. Treine e ajuste a `Decision Tree` do conjunto de dados de \"luas\" (*moon's dataset*).\n",
        "\n",
        "   1. Gere o conjunto de dados de \"luas\" usando `make_moons(n_samples=10000, noise=0.4)`;"
      ]
    },
    {
      "cell_type": "code",
      "metadata": {
        "id": "TFtWV14hme23",
        "colab_type": "code",
        "colab": {}
      },
      "source": [
        "# Common imports\n",
        "import numpy as np\n",
        "import os\n",
        "\n",
        "# to make this notebook's output stable across runs\n",
        "np.random.seed(42)\n",
        "\n",
        "# To plot pretty figures\n",
        "%matplotlib inline\n",
        "import matplotlib as mpl\n",
        "import matplotlib.pyplot as plt\n",
        "mpl.rc('axes', labelsize=14)\n",
        "mpl.rc('xtick', labelsize=12)\n",
        "mpl.rc('ytick', labelsize=12)"
      ],
      "execution_count": 0,
      "outputs": []
    },
    {
      "cell_type": "code",
      "metadata": {
        "id": "Q2eYBMg9mFTO",
        "colab_type": "code",
        "colab": {}
      },
      "source": [
        "from sklearn.datasets import make_moons\n",
        "\n",
        "X, y = make_moons(n_samples=10000, noise=0.4, random_state=42)"
      ],
      "execution_count": 0,
      "outputs": []
    },
    {
      "cell_type": "markdown",
      "metadata": {
        "id": "PTB1dGZpmFov",
        "colab_type": "text"
      },
      "source": [
        "2. Divida-o em um conjunto de treino e um de teste, usando a função `train_test_split()`;\n",
        "   \n",
        "   "
      ]
    },
    {
      "cell_type": "code",
      "metadata": {
        "id": "JB64Ik-VmIp9",
        "colab_type": "code",
        "colab": {}
      },
      "source": [
        "from sklearn.model_selection import train_test_split\n",
        "\n",
        "X_train, X_test, y_train, y_test = train_test_split(X, y, test_size=0.2, random_state=42)"
      ],
      "execution_count": 0,
      "outputs": []
    },
    {
      "cell_type": "markdown",
      "metadata": {
        "id": "01iT3fddn0K6",
        "colab_type": "text"
      },
      "source": [
        " 3. Use o método de busca com validação cruzada (*grid search with cross-validation*), com a ajuda da classe `GridSearchCV` para encontrar bons valores de hyperparâmetros para um `DecisionTreeClassifier`. Dica: tente diferentes valores para `max_leaf_nodes`;\n",
        " \n",
        " **Cross-validation:**\n",
        " \n",
        " \n",
        " Quando precisamos testar vários conjuntos de hyperparâmetros para determinar o melhor modelo, se testarmos todos os conjuntos no mesmo conjunto de teste, podemos estar introduzindo um ***bias***. Para evitar isso, podemos sub-dividir nossa amostra de teste em duas amostras: \n",
        " * validação (escolha do modelo apropriado)\n",
        " * teste (aplicação do melhor modelo)\n",
        " \n",
        "\n",
        "\n",
        "Para não \"gastarmos\" dados de treinamento em conjuntos de validação, uma técnica comum é:\n",
        "* **dividir** a amostra de treinamento em diferentes subconjuntos;\n",
        "* **treinar** cada modelo (combinações de hyperparâmetros) em uma **combinação** diferente dessas sub-amostras;\n",
        "* **validar** cada modelo nas sub-amostras restantes;\n",
        "* Uma vez que o modelo foi determinado, **testar** na amostra de teste.\n",
        "\n"
      ]
    },
    {
      "cell_type": "code",
      "metadata": {
        "id": "gwh_jS7hn2ei",
        "colab_type": "code",
        "outputId": "cd65ab10-0e1f-4387-951e-80e6c6cd261f",
        "colab": {
          "base_uri": "https://localhost:8080/",
          "height": 408
        }
      },
      "source": [
        "from sklearn.model_selection import GridSearchCV\n",
        "from sklearn.tree import DecisionTreeClassifier\n",
        "\n",
        "\n",
        "params = {'max_leaf_nodes': list(range(2, 100)), 'min_samples_split': [2, 3, 4]}\n",
        "grid_search_cv = GridSearchCV(DecisionTreeClassifier(random_state=42), params, n_jobs=-1, verbose=1, cv=3)\n",
        "\n",
        "grid_search_cv.fit(X_train, y_train)"
      ],
      "execution_count": 0,
      "outputs": [
        {
          "output_type": "stream",
          "text": [
            "Fitting 3 folds for each of 294 candidates, totalling 882 fits\n"
          ],
          "name": "stdout"
        },
        {
          "output_type": "stream",
          "text": [
            "[Parallel(n_jobs=-1)]: Using backend LokyBackend with 2 concurrent workers.\n",
            "[Parallel(n_jobs=-1)]: Done 882 out of 882 | elapsed:    7.9s finished\n"
          ],
          "name": "stderr"
        },
        {
          "output_type": "execute_result",
          "data": {
            "text/plain": [
              "GridSearchCV(cv=3, error_score='raise-deprecating',\n",
              "             estimator=DecisionTreeClassifier(class_weight=None,\n",
              "                                              criterion='gini', max_depth=None,\n",
              "                                              max_features=None,\n",
              "                                              max_leaf_nodes=None,\n",
              "                                              min_impurity_decrease=0.0,\n",
              "                                              min_impurity_split=None,\n",
              "                                              min_samples_leaf=1,\n",
              "                                              min_samples_split=2,\n",
              "                                              min_weight_fraction_leaf=0.0,\n",
              "                                              presort=False, random_state=42,\n",
              "                                              splitter='best'),\n",
              "             iid='warn', n_jobs=-1,\n",
              "             param_grid={'max_leaf_nodes': [2, 3, 4, 5, 6, 7, 8, 9, 10, 11, 12,\n",
              "                                            13, 14, 15, 16, 17, 18, 19, 20, 21,\n",
              "                                            22, 23, 24, 25, 26, 27, 28, 29, 30,\n",
              "                                            31, ...],\n",
              "                         'min_samples_split': [2, 3, 4]},\n",
              "             pre_dispatch='2*n_jobs', refit=True, return_train_score=False,\n",
              "             scoring=None, verbose=1)"
            ]
          },
          "metadata": {
            "tags": []
          },
          "execution_count": 4
        }
      ]
    },
    {
      "cell_type": "code",
      "metadata": {
        "id": "s3WDwttycWvD",
        "colab_type": "code",
        "outputId": "dcd00c2f-4a92-4aec-de4e-ce5c4eca7dac",
        "colab": {
          "base_uri": "https://localhost:8080/",
          "height": 119
        }
      },
      "source": [
        "grid_search_cv.best_estimator_"
      ],
      "execution_count": 0,
      "outputs": [
        {
          "output_type": "execute_result",
          "data": {
            "text/plain": [
              "DecisionTreeClassifier(class_weight=None, criterion='gini', max_depth=None,\n",
              "                       max_features=None, max_leaf_nodes=17,\n",
              "                       min_impurity_decrease=0.0, min_impurity_split=None,\n",
              "                       min_samples_leaf=1, min_samples_split=2,\n",
              "                       min_weight_fraction_leaf=0.0, presort=False,\n",
              "                       random_state=42, splitter='best')"
            ]
          },
          "metadata": {
            "tags": []
          },
          "execution_count": 5
        }
      ]
    },
    {
      "cell_type": "markdown",
      "metadata": {
        "id": "o9iansTCmI51",
        "colab_type": "text"
      },
      "source": [
        "1. Treine o estimador no conjunto de dados completo usando esses hyperparâmetros e meça o desempenho do seu modelo no conjunto de dados de teste. Você deve obter uma acurácia de aproximadamente 85% a 87%.\n",
        "\n",
        "==> **Por default**, o `GridSearchCV` já treina o melhor modelo encontrado no conjunto completo de treinamento (`refit=True`).\n",
        "\n",
        "Podemos calcular a acurácia diretamente:   \n",
        "   \n"
      ]
    },
    {
      "cell_type": "code",
      "metadata": {
        "id": "onGc3U2OmK42",
        "colab_type": "code",
        "outputId": "96bdeb0a-23fb-4cc1-b5cc-998c7106a7ec",
        "colab": {
          "base_uri": "https://localhost:8080/",
          "height": 34
        }
      },
      "source": [
        "from sklearn.metrics import accuracy_score\n",
        "\n",
        "y_pred = grid_search_cv.predict(X_test)\n",
        "accuracy_score(y_test, y_pred)"
      ],
      "execution_count": 0,
      "outputs": [
        {
          "output_type": "execute_result",
          "data": {
            "text/plain": [
              "0.8695"
            ]
          },
          "metadata": {
            "tags": []
          },
          "execution_count": 6
        }
      ]
    },
    {
      "cell_type": "markdown",
      "metadata": {
        "id": "H-ORchUamLKm",
        "colab_type": "text"
      },
      "source": [
        "8. **Faça crescer uma floresta.**\n",
        "\n",
        "   1. Continuando do exercício anterior, gere 1000 sub-conjuntos do conjunto de treinamento, cada sub-conjunto contendo 100 instâncias selecionadas aleatoriamente. Dica: você pode usar a classe do scikit-learn, `ShuffleSplit`;\n",
        "   \n",
        "   "
      ]
    },
    {
      "cell_type": "code",
      "metadata": {
        "id": "pNpk2-z96BG0",
        "colab_type": "code",
        "outputId": "27ad0c63-9565-4b5a-9d0e-29f286b9ef1d",
        "colab": {
          "base_uri": "https://localhost:8080/",
          "height": 34
        }
      },
      "source": [
        "print(len(X_train))"
      ],
      "execution_count": 0,
      "outputs": [
        {
          "output_type": "stream",
          "text": [
            "8000\n"
          ],
          "name": "stdout"
        }
      ]
    },
    {
      "cell_type": "code",
      "metadata": {
        "id": "4J8Y_HGhmNr-",
        "colab_type": "code",
        "outputId": "6c3de804-02bc-46ef-d336-5568ea870e1f",
        "colab": {
          "base_uri": "https://localhost:8080/",
          "height": 34
        }
      },
      "source": [
        "from sklearn.model_selection import ShuffleSplit\n",
        "\"\"\"\n",
        "Geração de n_trees (1000) trees a serem treinadas em conjuntos de \n",
        "n_instances dados.\n",
        "Para cada tree, a função rs.split() faz uma rearrumação dos índices de uma sub-amostra de teste\n",
        "e com isso produz uma mini-amostra de treinamento, com \"n_instances\" cada.\n",
        "Nesse exemplo abaixo, geramos \"n_trees\" amostras com \"n_instances\" dados cada.\n",
        "\n",
        "\"\"\"\n",
        "n_trees = 1000\n",
        "n_instances = 100\n",
        "\n",
        "mini_sets = []\n",
        "\n",
        "rs = ShuffleSplit(n_splits=n_trees, test_size=len(X_train) - n_instances, random_state=42)\n",
        "\n",
        "for mini_train_index, mini_test_index in rs.split(X_train):\n",
        "    #print(\"TRAIN size:\", len(mini_train_index), \"TEST size:\", len(mini_test_index) )\n",
        "    X_mini_train = X_train[mini_train_index]\n",
        "    y_mini_train = y_train[mini_train_index]\n",
        "    mini_sets.append((X_mini_train, y_mini_train))\n",
        "    \n",
        "# As \"n_trees\" amostras de treinamento estão em \"mini_sets\".\n",
        "print(len(mini_sets))"
      ],
      "execution_count": 0,
      "outputs": [
        {
          "output_type": "stream",
          "text": [
            "1000\n"
          ],
          "name": "stdout"
        }
      ]
    },
    {
      "cell_type": "markdown",
      "metadata": {
        "id": "mGI2DikBmN8u",
        "colab_type": "text"
      },
      "source": [
        "1. Treine uma `Decision Tree` em cada sub-conjunto, usando os melhores valores de hyperparâmetro encontrados no exercício anterior. Estime o desempenho desses 1000 conjuntos de treinamento no conjunto de teste (como eles foram treinados em um número menor de amostras, a performance será um pouco pior do que a encontrada no exercício anterior, com uma acurácia em torno de 80%);\n",
        "   \n",
        "   "
      ]
    },
    {
      "cell_type": "code",
      "metadata": {
        "id": "bekDcLqlmQWW",
        "colab_type": "code",
        "outputId": "9b182fb6-5d3b-4568-8cb7-97f050378d31",
        "colab": {
          "base_uri": "https://localhost:8080/",
          "height": 34
        }
      },
      "source": [
        "from sklearn.base import clone\n",
        "\n",
        "# copiando a melhor configuração da tree para todas as \"n_trees\" trees. \n",
        "forest = [clone(grid_search_cv.best_estimator_) for _ in range(n_trees)]\n",
        "\n",
        "accuracy_scores = []\n",
        "for tree, (X_mini_train, y_mini_train) in zip(forest, mini_sets):\n",
        "    # para cada conjunto de treinamento (mini_train), treinamos as nossas trees\n",
        "    tree.fit(X_mini_train, y_mini_train)\n",
        "    # fazemos a predição no conjunto de teste\n",
        "    y_pred = tree.predict(X_test)\n",
        "    # e calculamos a acurácia de cada predição\n",
        "    accuracy_scores.append(accuracy_score(y_test, y_pred))\n",
        "# média das acurácias\n",
        "np.mean(accuracy_scores)"
      ],
      "execution_count": 0,
      "outputs": [
        {
          "output_type": "execute_result",
          "data": {
            "text/plain": [
              "0.8054499999999999"
            ]
          },
          "metadata": {
            "tags": []
          },
          "execution_count": 43
        }
      ]
    },
    {
      "cell_type": "markdown",
      "metadata": {
        "id": "0PXri0gdmQkX",
        "colab_type": "text"
      },
      "source": [
        "1. Para cada instância do conjunto de teste, gere as predições das 1000 `Decision Trees` e só guarde as predições mais frequentes (você pode usar a função `mode()` do  SciPy). Isso fornece o que é conhecido como *majority vote predictions* do conjunto de teste;\n",
        "   \n",
        "   "
      ]
    },
    {
      "cell_type": "code",
      "metadata": {
        "id": "q4YvFaiPtjph",
        "colab_type": "code",
        "colab": {}
      },
      "source": [
        "Y_pred = np.empty([n_trees, len(X_test)], dtype=np.uint8)\n",
        "\n",
        "for tree_index, tree in enumerate(forest):\n",
        "    Y_pred[tree_index] = tree.predict(X_test)\n",
        "    "
      ],
      "execution_count": 0,
      "outputs": []
    },
    {
      "cell_type": "code",
      "metadata": {
        "id": "cVhwIlO1mR8O",
        "colab_type": "code",
        "outputId": "2a05a58b-db33-4264-d169-137e8e80db53",
        "colab": {
          "base_uri": "https://localhost:8080/",
          "height": 34
        }
      },
      "source": [
        "from scipy.stats import mode\n",
        "\n",
        "y_pred_majority_votes, n_votes = mode(Y_pred, axis=0)\n",
        "print(accuracy_score(y_test, y_pred_majority_votes.reshape([-1])))"
      ],
      "execution_count": 0,
      "outputs": [
        {
          "output_type": "stream",
          "text": [
            "0.872\n"
          ],
          "name": "stdout"
        }
      ]
    },
    {
      "cell_type": "markdown",
      "metadata": {
        "id": "JZ3N5JrNmSIG",
        "colab_type": "text"
      },
      "source": [
        "1. Estime as predições no conjunto de teste: você deve obteve no conjunto de teste: a acurácia deve ser um pouco maior que a do item anterior (da ordem de 0.5 a 1.5%). **Parabéns!** Você treinou um classificador `Random Forest`! :-)"
      ]
    },
    {
      "cell_type": "markdown",
      "metadata": {
        "id": "OHLDqsI-v0iE",
        "colab_type": "text"
      },
      "source": [
        "## Ensemble Learning e Random Forests\n",
        "\n",
        "**Ensemble learning**: método onde se usa a informação **agregada** de um conjunto (*ensemble*) de estimadores (classificadores ou métodos de regressão) para se obter uma estimativa.\n",
        "\n",
        "\n",
        "\\\\\n",
        "**Random Forests**: \n",
        "* treinar um grupo de `Decision Trees` em subconjuntos (aleatórios distintos) do conjunto de treinamento;\n",
        "* para fazer predições, obtém-se a predição de cada `Decision Tree` individualmente;\n",
        "* a predição final é o valor que ocorre com mais frequência."
      ]
    },
    {
      "cell_type": "markdown",
      "metadata": {
        "id": "gEF9h-EeByUS",
        "colab_type": "text"
      },
      "source": [
        "### Voting Classifiers \n",
        "(Clasificadores de votação)\n",
        "\n",
        "![hard voting](https://i.stack.imgur.com/W7UmY.png)\n",
        "\n",
        "\n",
        "Criação e treinamento de um 'voting classifier' usando 'scikit-learn':"
      ]
    },
    {
      "cell_type": "code",
      "metadata": {
        "id": "lxTgzKX2FaG3",
        "colab_type": "code",
        "colab": {}
      },
      "source": [
        "from sklearn.model_selection import train_test_split\n",
        "from sklearn.datasets import make_moons\n",
        "\n",
        "X, y = make_moons(n_samples=500, noise=0.30, random_state=42)\n",
        "X_train, X_test, y_train, y_test = train_test_split(X, y, random_state=42)"
      ],
      "execution_count": 0,
      "outputs": []
    },
    {
      "cell_type": "code",
      "metadata": {
        "id": "DiqsYoSAFvLc",
        "colab_type": "code",
        "colab": {}
      },
      "source": [
        "from sklearn.ensemble import RandomForestClassifier\n",
        "from sklearn.ensemble import VotingClassifier\n",
        "from sklearn.linear_model import LogisticRegression\n",
        "from sklearn.svm import SVC\n",
        "\n",
        "log_clf = LogisticRegression(solver=\"liblinear\", random_state=42)\n",
        "rnd_clf = RandomForestClassifier(n_estimators=10, random_state=42)\n",
        "svm_clf = SVC(gamma=\"auto\", random_state=42)\n",
        "\n",
        "voting_clf = VotingClassifier(\n",
        "    estimators=[('lr', log_clf), ('rf', rnd_clf), ('svc', svm_clf)],\n",
        "    voting='hard') # estimators : list of (string, estimator) tuples"
      ],
      "execution_count": 0,
      "outputs": []
    },
    {
      "cell_type": "code",
      "metadata": {
        "id": "PtKrBbwpJQiC",
        "colab_type": "code",
        "outputId": "f6a06418-fb7b-445b-9bfc-cbe5d877ba25",
        "colab": {
          "base_uri": "https://localhost:8080/",
          "height": 493
        }
      },
      "source": [
        "voting_clf.fit(X_train, y_train)"
      ],
      "execution_count": 0,
      "outputs": [
        {
          "output_type": "execute_result",
          "data": {
            "text/plain": [
              "VotingClassifier(estimators=[('lr',\n",
              "                              LogisticRegression(C=1.0, class_weight=None,\n",
              "                                                 dual=False, fit_intercept=True,\n",
              "                                                 intercept_scaling=1,\n",
              "                                                 l1_ratio=None, max_iter=100,\n",
              "                                                 multi_class='warn',\n",
              "                                                 n_jobs=None, penalty='l2',\n",
              "                                                 random_state=42,\n",
              "                                                 solver='liblinear', tol=0.0001,\n",
              "                                                 verbose=0, warm_start=False)),\n",
              "                             ('rf',\n",
              "                              RandomForestClassifier(bootstrap=True,\n",
              "                                                     class_weight=None,\n",
              "                                                     criterion='gin...\n",
              "                                                     n_estimators=10,\n",
              "                                                     n_jobs=None,\n",
              "                                                     oob_score=False,\n",
              "                                                     random_state=42, verbose=0,\n",
              "                                                     warm_start=False)),\n",
              "                             ('svc',\n",
              "                              SVC(C=1.0, cache_size=200, class_weight=None,\n",
              "                                  coef0=0.0, decision_function_shape='ovr',\n",
              "                                  degree=3, gamma='auto', kernel='rbf',\n",
              "                                  max_iter=-1, probability=False,\n",
              "                                  random_state=42, shrinking=True, tol=0.001,\n",
              "                                  verbose=False))],\n",
              "                 flatten_transform=True, n_jobs=None, voting='hard',\n",
              "                 weights=None)"
            ]
          },
          "metadata": {
            "tags": []
          },
          "execution_count": 56
        }
      ]
    },
    {
      "cell_type": "code",
      "metadata": {
        "id": "x76_hYAlJaUn",
        "colab_type": "code",
        "outputId": "d2ee358a-3f49-4065-db85-01b6477d41ca",
        "colab": {
          "base_uri": "https://localhost:8080/",
          "height": 85
        }
      },
      "source": [
        "from sklearn.metrics import accuracy_score\n",
        "\n",
        "for clf in (log_clf, rnd_clf, svm_clf, voting_clf):\n",
        "    clf.fit(X_train, y_train)\n",
        "    y_pred = clf.predict(X_test)\n",
        "    print(clf.__class__.__name__, accuracy_score(y_test, y_pred))"
      ],
      "execution_count": 0,
      "outputs": [
        {
          "output_type": "stream",
          "text": [
            "LogisticRegression 0.864\n",
            "RandomForestClassifier 0.872\n",
            "SVC 0.888\n",
            "VotingClassifier 0.896\n"
          ],
          "name": "stdout"
        }
      ]
    },
    {
      "cell_type": "markdown",
      "metadata": {
        "id": "47r3elBzKk_e",
        "colab_type": "text"
      },
      "source": [
        "No exemplo acima, o 'Voting Classifier' obteve uma acurácia maior que as dos outros classificadores considerados individualmente. \n",
        "\n",
        "obs.:  Quanto mais independentes os classificadores usados no 'Ensemble Learning', melhor a performance.\n",
        "\n",
        "Podemos também considerar as probabilidades de classificação, considerando que os classificadores têm o método 'predict_proba()' e decidir pelo classificador com a maior média das probabilidades."
      ]
    },
    {
      "cell_type": "code",
      "metadata": {
        "id": "8n5T5NHeSljr",
        "colab_type": "code",
        "outputId": "0cfc15bc-7d6e-47e4-d15d-96ca19db3bfb",
        "colab": {
          "base_uri": "https://localhost:8080/",
          "height": 493
        }
      },
      "source": [
        "log_clf = LogisticRegression(solver=\"liblinear\", random_state=42)\n",
        "rnd_clf = RandomForestClassifier(n_estimators=10, random_state=42)\n",
        "svm_clf = SVC(gamma=\"auto\", probability=True, random_state=42) # temos que forçar o SVC a calcular a probabilidade\n",
        "\n",
        "voting_clf = VotingClassifier(\n",
        "    estimators=[('lr', log_clf), ('rf', rnd_clf), ('svc', svm_clf)],\n",
        "    voting='soft')\n",
        "voting_clf.fit(X_train, y_train)"
      ],
      "execution_count": 0,
      "outputs": [
        {
          "output_type": "execute_result",
          "data": {
            "text/plain": [
              "VotingClassifier(estimators=[('lr',\n",
              "                              LogisticRegression(C=1.0, class_weight=None,\n",
              "                                                 dual=False, fit_intercept=True,\n",
              "                                                 intercept_scaling=1,\n",
              "                                                 l1_ratio=None, max_iter=100,\n",
              "                                                 multi_class='warn',\n",
              "                                                 n_jobs=None, penalty='l2',\n",
              "                                                 random_state=42,\n",
              "                                                 solver='liblinear', tol=0.0001,\n",
              "                                                 verbose=0, warm_start=False)),\n",
              "                             ('rf',\n",
              "                              RandomForestClassifier(bootstrap=True,\n",
              "                                                     class_weight=None,\n",
              "                                                     criterion='gin...\n",
              "                                                     n_estimators=10,\n",
              "                                                     n_jobs=None,\n",
              "                                                     oob_score=False,\n",
              "                                                     random_state=42, verbose=0,\n",
              "                                                     warm_start=False)),\n",
              "                             ('svc',\n",
              "                              SVC(C=1.0, cache_size=200, class_weight=None,\n",
              "                                  coef0=0.0, decision_function_shape='ovr',\n",
              "                                  degree=3, gamma='auto', kernel='rbf',\n",
              "                                  max_iter=-1, probability=True,\n",
              "                                  random_state=42, shrinking=True, tol=0.001,\n",
              "                                  verbose=False))],\n",
              "                 flatten_transform=True, n_jobs=None, voting='soft',\n",
              "                 weights=None)"
            ]
          },
          "metadata": {
            "tags": []
          },
          "execution_count": 58
        }
      ]
    },
    {
      "cell_type": "code",
      "metadata": {
        "id": "tTxx206WSx9t",
        "colab_type": "code",
        "outputId": "460ec5ba-a1e8-4fb8-a953-7aea7474b088",
        "colab": {
          "base_uri": "https://localhost:8080/",
          "height": 85
        }
      },
      "source": [
        "for clf in (log_clf, rnd_clf, svm_clf, voting_clf):\n",
        "    clf.fit(X_train, y_train)\n",
        "    y_pred = clf.predict(X_test)\n",
        "    print(clf.__class__.__name__, accuracy_score(y_test, y_pred))"
      ],
      "execution_count": 68,
      "outputs": [
        {
          "output_type": "stream",
          "text": [
            "LogisticRegression 0.864\n",
            "RandomForestClassifier 0.872\n",
            "SVC 0.888\n",
            "VotingClassifier 0.912\n"
          ],
          "name": "stdout"
        }
      ]
    },
    {
      "cell_type": "markdown",
      "metadata": {
        "id": "-BlzBWWrb6tk",
        "colab_type": "text"
      },
      "source": [
        "### Bagging and Pasting\n",
        "\n",
        "**Bagging**: **B**ootstrap **aggr**egat**ing** ==> amostragem com substituição (sampling with replacement): seleção de uma sub-amostra escolhida aleatoriamente de uma amostra, podendo haver **reutilização de valores**.\n",
        "\n",
        "**Pasting**: amostragem **sem reutilização de valores**.\n",
        "\n",
        "![bagging](http://dfnae.fis.uerj.br/twiki/pub/DFNAE/ML4PPGF/Bagging_pasting.png)"
      ]
    },
    {
      "cell_type": "markdown",
      "metadata": {
        "id": "li6gesGQm3xD",
        "colab_type": "text"
      },
      "source": [
        "A função de agregação é em geral o `hard voting` para classificadores e a média das probabilidades para a regressão. \n",
        "\n",
        "#### Bagging ensembles\n",
        "\n",
        "Um classificador `bagging` com o `scikit-learn`:"
      ]
    },
    {
      "cell_type": "code",
      "metadata": {
        "id": "5VJp3TRNouLk",
        "colab_type": "code",
        "colab": {}
      },
      "source": [
        "from sklearn.ensemble import BaggingClassifier\n",
        "from sklearn.tree import DecisionTreeClassifier\n",
        "\n",
        "bag_clf = BaggingClassifier(\n",
        "    DecisionTreeClassifier(random_state=42), n_estimators=500,\n",
        "    max_samples=100, bootstrap=True, n_jobs=-1, random_state=42)\n",
        "bag_clf.fit(X_train, y_train)\n",
        "y_pred = bag_clf.predict(X_test)"
      ],
      "execution_count": 0,
      "outputs": []
    },
    {
      "cell_type": "code",
      "metadata": {
        "id": "PYaQXwETo3Yl",
        "colab_type": "code",
        "colab": {
          "base_uri": "https://localhost:8080/",
          "height": 34
        },
        "outputId": "42d6c196-aec2-4d10-fd21-e44c9fbb5a7e"
      },
      "source": [
        "from sklearn.metrics import accuracy_score\n",
        "print(accuracy_score(y_test, y_pred))"
      ],
      "execution_count": 70,
      "outputs": [
        {
          "output_type": "stream",
          "text": [
            "0.904\n"
          ],
          "name": "stdout"
        }
      ]
    },
    {
      "cell_type": "markdown",
      "metadata": {
        "id": "g3Pmc_EQpOxo",
        "colab_type": "text"
      },
      "source": [
        "Um classificador de `Decision Tree`"
      ]
    },
    {
      "cell_type": "code",
      "metadata": {
        "id": "RPysd112pR1B",
        "colab_type": "code",
        "colab": {
          "base_uri": "https://localhost:8080/",
          "height": 34
        },
        "outputId": "7d03b038-edad-4dea-b3cb-ce8ef16e48cb"
      },
      "source": [
        "tree_clf = DecisionTreeClassifier(random_state=42)\n",
        "tree_clf.fit(X_train, y_train)\n",
        "y_pred_tree = tree_clf.predict(X_test)\n",
        "print(accuracy_score(y_test, y_pred_tree))"
      ],
      "execution_count": 71,
      "outputs": [
        {
          "output_type": "stream",
          "text": [
            "0.856\n"
          ],
          "name": "stdout"
        }
      ]
    },
    {
      "cell_type": "markdown",
      "metadata": {
        "id": "NyR74XMxpUrZ",
        "colab_type": "text"
      },
      "source": [
        "Abaixo comparamos os limites de decisão da `Decision Tree` com o `Bagging` usando o conjunto de dados `moon's dataset`.\n",
        "\n",
        "O método de ensemble generaliza melhor os dados do que uma única `Decision Tree`."
      ]
    },
    {
      "cell_type": "code",
      "metadata": {
        "id": "S-F8miA3qF0n",
        "colab_type": "code",
        "colab": {}
      },
      "source": [
        "from matplotlib.colors import ListedColormap\n",
        "\n",
        "def plot_decision_boundary(clf, X, y, axes=[-1.5, 2.5, -1, 1.5], alpha=0.5, contour=True):\n",
        "    x1s = np.linspace(axes[0], axes[1], 100)\n",
        "    x2s = np.linspace(axes[2], axes[3], 100)\n",
        "    x1, x2 = np.meshgrid(x1s, x2s)\n",
        "    X_new = np.c_[x1.ravel(), x2.ravel()]\n",
        "    y_pred = clf.predict(X_new).reshape(x1.shape)\n",
        "    custom_cmap = ListedColormap(['#fafab0','#9898ff','#a0faa0'])\n",
        "    plt.contourf(x1, x2, y_pred, alpha=0.3, cmap=custom_cmap)\n",
        "    if contour:\n",
        "        custom_cmap2 = ListedColormap(['#7d7d58','#4c4c7f','#507d50'])\n",
        "        plt.contour(x1, x2, y_pred, cmap=custom_cmap2, alpha=0.8)\n",
        "    plt.plot(X[:, 0][y==0], X[:, 1][y==0], \"yo\", alpha=alpha)\n",
        "    plt.plot(X[:, 0][y==1], X[:, 1][y==1], \"bs\", alpha=alpha)\n",
        "    plt.axis(axes)\n",
        "    plt.xlabel(r\"$x_1$\", fontsize=18)\n",
        "    plt.ylabel(r\"$x_2$\", fontsize=18, rotation=0)"
      ],
      "execution_count": 0,
      "outputs": []
    },
    {
      "cell_type": "code",
      "metadata": {
        "id": "oSNahwCCuLuG",
        "colab_type": "code",
        "colab": {
          "base_uri": "https://localhost:8080/",
          "height": 307
        },
        "outputId": "372cd033-2333-40dc-b622-0d3f24bf3b86"
      },
      "source": [
        "plt.figure(figsize=(11,4))\n",
        "plt.subplot(121)\n",
        "plot_decision_boundary(tree_clf, X, y)\n",
        "plt.title(\"Decision Tree\", fontsize=14)\n",
        "plt.subplot(122)\n",
        "plot_decision_boundary(bag_clf, X, y)\n",
        "plt.title(\"Decision Trees with Bagging\", fontsize=14)\n",
        "#save_fig(\"decision_tree_without_and_with_bagging_plot\")\n",
        "plt.show()"
      ],
      "execution_count": 74,
      "outputs": [
        {
          "output_type": "display_data",
          "data": {
            "image/png": "[encoded data removed]",
            "text/plain": [
              "<Figure size 792x288 with 2 Axes>"
            ]
          },
          "metadata": {
            "tags": []
          }
        }
      ]
    },
    {
      "cell_type": "markdown",
      "metadata": {
        "id": "mar1iYpRueUt",
        "colab_type": "text"
      },
      "source": [
        "**Exercício**: Faça a representação gráfica dos limites de decisão de uma `Decision Tree`, do método de `Bagging` e do método de **`Pasting`** com 500 `Decision Trees` treinadas em amostras aleatórias de 100 instâncias cada, usando a mesma amostra do `moon's dataset`."
      ]
    },
    {
      "cell_type": "markdown",
      "metadata": {
        "id": "THF-IUrwznTx",
        "colab_type": "text"
      },
      "source": [
        "### Random Patches e Random Subspaces\n",
        "\n",
        "O Classificador `Bagging` também permite que se faça a amostragem nas `features` também (além das instâncias).\n",
        "\n",
        "> **Método `Random Patch`**: amostragem das instâncias e `features`;\n",
        "\n",
        "> **Método de `Random Subspaces`**: amostragem somente nas `features`.\n",
        "\n",
        "\n",
        "## Random Forests\n",
        "\n",
        "Podemos usar o método `RandomForestClassifier` do `scikit-learn` para uso das Random Forests.\n",
        "\n",
        "O algoritmo `RandomForestClassifier` introduz uma aleatoriedade ainda maior ao ***crescer árvores***: ao invés de escolher a melhor `feature` para o limite de decisão das `Decision Trees` da \"floresta\", ele escolhe a melhor `feature` de um subconjunto de `features`, escolhido aleatoriamente. "
      ]
    },
    {
      "cell_type": "code",
      "metadata": {
        "id": "f-cPR8E4I885",
        "colab_type": "code",
        "colab": {
          "base_uri": "https://localhost:8080/",
          "height": 34
        },
        "outputId": "613d2e7e-367f-478a-a3aa-b941fcd4b648"
      },
      "source": [
        "from sklearn.ensemble import RandomForestClassifier\n",
        "\n",
        "rnd_clf = RandomForestClassifier(n_estimators=500, max_leaf_nodes=16, n_jobs=-1, random_state=42)\n",
        "rnd_clf.fit(X_train, y_train)\n",
        "\n",
        "y_pred_rf = rnd_clf.predict(X_test)\n",
        "\n",
        "print(accuracy_score(y_test, y_pred_rf))"
      ],
      "execution_count": 76,
      "outputs": [
        {
          "output_type": "stream",
          "text": [
            "0.912\n"
          ],
          "name": "stdout"
        }
      ]
    },
    {
      "cell_type": "markdown",
      "metadata": {
        "id": "oIxb8JPvJcdj",
        "colab_type": "text"
      },
      "source": [
        "Podemos escrever um método de `Bagging` para produzir um `RandomForestCalssifier`:"
      ]
    },
    {
      "cell_type": "code",
      "metadata": {
        "id": "BtmfpubNJleR",
        "colab_type": "code",
        "colab": {
          "base_uri": "https://localhost:8080/",
          "height": 34
        },
        "outputId": "14d4aa82-e3d2-485f-bb76-f08c9171c9fb"
      },
      "source": [
        "bag_clf = BaggingClassifier(\n",
        "    DecisionTreeClassifier(splitter=\"random\", max_leaf_nodes=16, random_state=42),\n",
        "    n_estimators=500, max_samples=1.0, bootstrap=True, n_jobs=-1, random_state=42)\n",
        "\n",
        "bag_clf.fit(X_train, y_train)\n",
        "\n",
        "y_pred_bc = bag_clf.predict(X_test)\n",
        "\n",
        "print(accuracy_score(y_test, y_pred_bc))"
      ],
      "execution_count": 79,
      "outputs": [
        {
          "output_type": "stream",
          "text": [
            "0.92\n"
          ],
          "name": "stdout"
        }
      ]
    },
    {
      "cell_type": "markdown",
      "metadata": {
        "id": "Q3BEJ032KCmp",
        "colab_type": "text"
      },
      "source": [
        "### Extra Trees\n",
        "\n",
        "É possível introduzir ainda mais aleatoriedade ao método de `Random Forests`, estabelecendo os `thresholds` das `features` de forma aleatória (ao invés de procurar pelo melhor `threshold`) ==> **Extremely Randomized Trees ensemble**\n",
        "\n",
        "`ExtraTreesClassifier` e `ExtraTreesRegressor` estão disponíveis no `scikit-learn`.\n",
        "\n",
        "$\\boxed{\\text{Em geral é difícil dizer a priori qual o melhor método a se usar. O ideal é testar ambos e e comparar suas performances.} }$"
      ]
    },
    {
      "cell_type": "markdown",
      "metadata": {
        "id": "VQPgnHyrLoXP",
        "colab_type": "text"
      },
      "source": [
        "### Boosting\n",
        "\n",
        "Boosting é uma técnica geral que se refere a qualquer método de ensemble em que a combinação de estimadores/classificadores fracos individualmente, resulta em um método forte. \n",
        "\n",
        "Boosting: treinar estimadores **sequencialmente**, cada um tentando corrigir o seu antecessor.\n",
        "\n",
        "### AdaBoosting\n",
        "\n",
        "Um forma do novo estimador corrigir o antecessor é olhando para os casos de \"underfitting\". O resultado são novos estimadores que focam mais e mais nos casos difíceis.\n",
        "\n",
        "Por exemplo:\n",
        "\n",
        "1. Temos uma `Decision Tree` que classificou erroneamente algumas instâncias de treinamento;\n",
        "2. O peso relativo das instâncias mal classificadas é aumentado e passado para o estimador sucessor;\n",
        "3. O segundo classificador é treinado com esses pesos, faz predições e atualiza os pesos, que são passados para o quarto classificador e assim por diante.\n",
        "\n",
        "![adaboosting](http://dfnae.fis.uerj.br/twiki/pub/DFNAE/ML4PPGF/ada_boosting.png)"
      ]
    },
    {
      "cell_type": "markdown",
      "metadata": {
        "id": "KGlPlVM_RfT5",
        "colab_type": "text"
      },
      "source": [
        "A seguir, treinamos um classificador `AdaBoost` baseado em 200 `Decision Stumps` (que é uma `Decision Tree` com `max_depth=1`)."
      ]
    },
    {
      "cell_type": "code",
      "metadata": {
        "id": "5RXBNGkrR3H7",
        "colab_type": "code",
        "colab": {
          "base_uri": "https://localhost:8080/",
          "height": 272
        },
        "outputId": "786ad471-93b0-4e94-cee2-c9fef928cb8f"
      },
      "source": [
        "from sklearn.ensemble import AdaBoostClassifier\n",
        "\n",
        "ada_clf = AdaBoostClassifier(\n",
        "    DecisionTreeClassifier(max_depth=1), n_estimators=200,\n",
        "    algorithm=\"SAMME.R\", learning_rate=0.5, random_state=42)\n",
        "ada_clf.fit(X_train, y_train)"
      ],
      "execution_count": 86,
      "outputs": [
        {
          "output_type": "execute_result",
          "data": {
            "text/plain": [
              "AdaBoostClassifier(algorithm='SAMME.R',\n",
              "                   base_estimator=DecisionTreeClassifier(class_weight=None,\n",
              "                                                         criterion='gini',\n",
              "                                                         max_depth=1,\n",
              "                                                         max_features=None,\n",
              "                                                         max_leaf_nodes=None,\n",
              "                                                         min_impurity_decrease=0.0,\n",
              "                                                         min_impurity_split=None,\n",
              "                                                         min_samples_leaf=1,\n",
              "                                                         min_samples_split=2,\n",
              "                                                         min_weight_fraction_leaf=0.0,\n",
              "                                                         presort=False,\n",
              "                                                         random_state=None,\n",
              "                                                         splitter='best'),\n",
              "                   learning_rate=0.5, n_estimators=200, random_state=42)"
            ]
          },
          "metadata": {
            "tags": []
          },
          "execution_count": 86
        }
      ]
    },
    {
      "cell_type": "code",
      "metadata": {
        "id": "BSueem1TSN8t",
        "colab_type": "code",
        "colab": {
          "base_uri": "https://localhost:8080/",
          "height": 295
        },
        "outputId": "0e4453dd-ef5a-4d57-cb65-5ebaa1d876a4"
      },
      "source": [
        "plot_decision_boundary(ada_clf, X, y)"
      ],
      "execution_count": 87,
      "outputs": [
        {
          "output_type": "display_data",
          "data": {
            "image/png": "[encoded data removed]",
            "text/plain": [
              "<Figure size 432x288 with 1 Axes>"
            ]
          },
          "metadata": {
            "tags": []
          }
        }
      ]
    },
    {
      "cell_type": "markdown",
      "metadata": {
        "id": "nSly3gnDTEfZ",
        "colab_type": "text"
      },
      "source": [
        "Se o `AdaBoosting` estiver overfitting a amostra de treinamento, pode-se ajustar os hyperparâmetros `n_estimators`, `learning_rate`, ou tentar ***regularizar*** os estimadores base.\n",
        "\n"
      ]
    },
    {
      "cell_type": "markdown",
      "metadata": {
        "id": "sgy-6YDuTnWI",
        "colab_type": "text"
      },
      "source": [
        "### Gradient Boosting\n",
        "\n",
        "Assim como o `AdaBoosting`, o `Gradient Boosting` trabalha com estimadores sequenciais, cada um corrigindo o seu antecessor.\n",
        "\n",
        "Mas ao invés de aplicar pesos para corrigir o estimador antecessor, o `Gradient Boosting` tenta ajustar o novo estimador aos **erros residuais** do antecessor e assim corrigir a estimativa anterior."
      ]
    },
    {
      "cell_type": "markdown",
      "metadata": {
        "id": "mOGI4LjuWhef",
        "colab_type": "text"
      },
      "source": [
        "Vamos ver um exemplo de um estimador para uma função quadrática com ruído."
      ]
    },
    {
      "cell_type": "code",
      "metadata": {
        "id": "ujrhvJBAWOWQ",
        "colab_type": "code",
        "colab": {}
      },
      "source": [
        "def quadratic_plus_noise(m = 100):\n",
        "  \"\"\"Quadratic training set + noise\n",
        "    m: number of samples\n",
        "  \"\"\"\n",
        "  np.random.seed(42)\n",
        "  X = np.random.rand(m, 1) - 0.5\n",
        "  y = 3*X[:, 0]**2 + 0.05 * np.random.randn(m)\n",
        "  return X, y\n",
        "\n",
        "X, y = quadratic_plus_noise()"
      ],
      "execution_count": 0,
      "outputs": []
    },
    {
      "cell_type": "markdown",
      "metadata": {
        "id": "OcgT0QdHXDGT",
        "colab_type": "text"
      },
      "source": [
        "O primeiro estimador é uma `Decision Tree`. Vamos fazer a predição e olhar para os resíduos:"
      ]
    },
    {
      "cell_type": "code",
      "metadata": {
        "id": "yTDJrLe4XNCx",
        "colab_type": "code",
        "colab": {
          "base_uri": "https://localhost:8080/",
          "height": 102
        },
        "outputId": "8d62a1a0-8be6-4493-8ecf-fd66c4744519"
      },
      "source": [
        "from sklearn.tree import DecisionTreeRegressor\n",
        "\n",
        "tree_reg1 = DecisionTreeRegressor(max_depth=2, random_state=42)\n",
        "tree_reg1.fit(X, y)\n",
        "\n"
      ],
      "execution_count": 96,
      "outputs": [
        {
          "output_type": "execute_result",
          "data": {
            "text/plain": [
              "DecisionTreeRegressor(criterion='mse', max_depth=2, max_features=None,\n",
              "                      max_leaf_nodes=None, min_impurity_decrease=0.0,\n",
              "                      min_impurity_split=None, min_samples_leaf=1,\n",
              "                      min_samples_split=2, min_weight_fraction_leaf=0.0,\n",
              "                      presort=False, random_state=42, splitter='best')"
            ]
          },
          "metadata": {
            "tags": []
          },
          "execution_count": 96
        }
      ]
    },
    {
      "cell_type": "code",
      "metadata": {
        "id": "QV8ggq05W37d",
        "colab_type": "code",
        "colab": {
          "base_uri": "https://localhost:8080/",
          "height": 102
        },
        "outputId": "fd38a8c0-c939-4e88-b9a9-6f74d797037a"
      },
      "source": [
        "#resíduos:\n",
        "y2 = y - tree_reg1.predict(X)\n",
        "# tree sucessora:\n",
        "tree_reg2 = DecisionTreeRegressor(max_depth=2, random_state=42)\n",
        "tree_reg2.fit(X, y2)\n"
      ],
      "execution_count": 97,
      "outputs": [
        {
          "output_type": "execute_result",
          "data": {
            "text/plain": [
              "DecisionTreeRegressor(criterion='mse', max_depth=2, max_features=None,\n",
              "                      max_leaf_nodes=None, min_impurity_decrease=0.0,\n",
              "                      min_impurity_split=None, min_samples_leaf=1,\n",
              "                      min_samples_split=2, min_weight_fraction_leaf=0.0,\n",
              "                      presort=False, random_state=42, splitter='best')"
            ]
          },
          "metadata": {
            "tags": []
          },
          "execution_count": 97
        }
      ]
    },
    {
      "cell_type": "code",
      "metadata": {
        "id": "4E_zTThoX6HG",
        "colab_type": "code",
        "colab": {
          "base_uri": "https://localhost:8080/",
          "height": 102
        },
        "outputId": "5baefc0b-7aaa-48f5-afa5-a17405e0f4fe"
      },
      "source": [
        "y3 = y2 - tree_reg2.predict(X)\n",
        "tree_reg3 = DecisionTreeRegressor(max_depth=2, random_state=42)\n",
        "tree_reg3.fit(X, y3)"
      ],
      "execution_count": 98,
      "outputs": [
        {
          "output_type": "execute_result",
          "data": {
            "text/plain": [
              "DecisionTreeRegressor(criterion='mse', max_depth=2, max_features=None,\n",
              "                      max_leaf_nodes=None, min_impurity_decrease=0.0,\n",
              "                      min_impurity_split=None, min_samples_leaf=1,\n",
              "                      min_samples_split=2, min_weight_fraction_leaf=0.0,\n",
              "                      presort=False, random_state=42, splitter='best')"
            ]
          },
          "metadata": {
            "tags": []
          },
          "execution_count": 98
        }
      ]
    },
    {
      "cell_type": "markdown",
      "metadata": {
        "id": "fAixACZuYFaN",
        "colab_type": "text"
      },
      "source": [
        "Treinamos nosso método de ensemble com 3 `Decision Trees`, ajustando as duas últimas aos erros residuais.\n",
        "\n",
        "Vamos ver como nosso `Gradient Descent` prediz o valor de y para x=0.8"
      ]
    },
    {
      "cell_type": "code",
      "metadata": {
        "id": "Hspcm8elX7qO",
        "colab_type": "code",
        "colab": {
          "base_uri": "https://localhost:8080/",
          "height": 34
        },
        "outputId": "9941cf0c-7f1e-42b2-9f72-fb5f9f95d7f8"
      },
      "source": [
        "X_new = np.array([[0.8]])\n",
        "# o gradient descent é a soma dos resultados das 3 Decision Trees\n",
        "y_pred = sum(tree.predict(X_new) for tree in (tree_reg1, tree_reg2, tree_reg3))\n",
        "y_pred"
      ],
      "execution_count": 99,
      "outputs": [
        {
          "output_type": "execute_result",
          "data": {
            "text/plain": [
              "array([0.75026781])"
            ]
          },
          "metadata": {
            "tags": []
          },
          "execution_count": 99
        }
      ]
    },
    {
      "cell_type": "code",
      "metadata": {
        "id": "ZMeND22DZrmw",
        "colab_type": "code",
        "colab": {
          "base_uri": "https://localhost:8080/",
          "height": 687
        },
        "outputId": "37f18c27-2657-499f-f48a-de4e30d9c2ca"
      },
      "source": [
        "def plot_predictions(regressors, X, y, axes, label=None, style=\"r-\", data_style=\"b.\", data_label=None):\n",
        "    x1 = np.linspace(axes[0], axes[1], 500)\n",
        "    y_pred = sum(regressor.predict(x1.reshape(-1, 1)) for regressor in regressors)\n",
        "    plt.plot(X[:, 0], y, data_style, label=data_label)\n",
        "    plt.plot(x1, y_pred, style, linewidth=2, label=label)\n",
        "    if label or data_label:\n",
        "        plt.legend(loc=\"upper center\", fontsize=16)\n",
        "    plt.axis(axes)\n",
        "\n",
        "plt.figure(figsize=(11,11))\n",
        "\n",
        "plt.subplot(321)\n",
        "plot_predictions([tree_reg1], X, y, axes=[-0.5, 0.5, -0.1, 0.8], label=\"$h_1(x_1)$\", style=\"g-\", data_label=\"Training set\")\n",
        "plt.ylabel(\"$y$\", fontsize=16, rotation=0)\n",
        "plt.title(\"Residuals and tree predictions\", fontsize=16)\n",
        "\n",
        "plt.subplot(322)\n",
        "plot_predictions([tree_reg1], X, y, axes=[-0.5, 0.5, -0.1, 0.8], label=\"$h(x_1) = h_1(x_1)$\", data_label=\"Training set\")\n",
        "plt.ylabel(\"$y$\", fontsize=16, rotation=0)\n",
        "plt.title(\"Ensemble predictions\", fontsize=16)\n",
        "\n",
        "plt.subplot(323)\n",
        "plot_predictions([tree_reg2], X, y2, axes=[-0.5, 0.5, -0.5, 0.5], label=\"$h_2(x_1)$\", style=\"g-\", data_style=\"k+\", data_label=\"Residuals\")\n",
        "plt.ylabel(\"$y - h_1(x_1)$\", fontsize=16)\n",
        "\n",
        "plt.subplot(324)\n",
        "plot_predictions([tree_reg1, tree_reg2], X, y, axes=[-0.5, 0.5, -0.1, 0.8], label=\"$h(x_1) = h_1(x_1) + h_2(x_1)$\")\n",
        "plt.ylabel(\"$y$\", fontsize=16, rotation=0)\n",
        "\n",
        "plt.subplot(325)\n",
        "plot_predictions([tree_reg3], X, y3, axes=[-0.5, 0.5, -0.5, 0.5], label=\"$h_3(x_1)$\", style=\"g-\", data_style=\"k+\")\n",
        "plt.ylabel(\"$y - h_1(x_1) - h_2(x_1)$\", fontsize=16)\n",
        "plt.xlabel(\"$x_1$\", fontsize=16)\n",
        "\n",
        "plt.subplot(326)\n",
        "plot_predictions([tree_reg1, tree_reg2, tree_reg3], X, y, axes=[-0.5, 0.5, -0.1, 0.8], label=\"$h(x_1) = h_1(x_1) + h_2(x_1) + h_3(x_1)$\")\n",
        "plt.xlabel(\"$x_1$\", fontsize=16)\n",
        "plt.ylabel(\"$y$\", fontsize=16, rotation=0)\n",
        "\n",
        "#save_fig(\"gradient_boosting_plot\")\n",
        "plt.show()"
      ],
      "execution_count": 101,
      "outputs": [
        {
          "output_type": "display_data",
          "data": {
            "image/png": "[encoded data removed]",
            "text/plain": [
              "<Figure size 792x792 with 6 Axes>"
            ]
          },
          "metadata": {
            "tags": []
          }
        }
      ]
    },
    {
      "cell_type": "markdown",
      "metadata": {
        "id": "zHUezp6achmS",
        "colab_type": "text"
      },
      "source": [
        "O `scikit-learn` tem uma classe que implementa o `GradientBoostingRegressor Tree` (GBRT). "
      ]
    },
    {
      "cell_type": "code",
      "metadata": {
        "id": "L_2chy3Eczlj",
        "colab_type": "code",
        "colab": {
          "base_uri": "https://localhost:8080/",
          "height": 170
        },
        "outputId": "9a6fb0e2-6c4f-4c8b-e8ea-01911cd15c5e"
      },
      "source": [
        "from sklearn.ensemble import GradientBoostingRegressor\n",
        "\n",
        "gbrt = GradientBoostingRegressor(max_depth=2, n_estimators=3, learning_rate=1.0, random_state=42)\n",
        "gbrt.fit(X, y)"
      ],
      "execution_count": 102,
      "outputs": [
        {
          "output_type": "execute_result",
          "data": {
            "text/plain": [
              "GradientBoostingRegressor(alpha=0.9, criterion='friedman_mse', init=None,\n",
              "                          learning_rate=1.0, loss='ls', max_depth=2,\n",
              "                          max_features=None, max_leaf_nodes=None,\n",
              "                          min_impurity_decrease=0.0, min_impurity_split=None,\n",
              "                          min_samples_leaf=1, min_samples_split=2,\n",
              "                          min_weight_fraction_leaf=0.0, n_estimators=3,\n",
              "                          n_iter_no_change=None, presort='auto',\n",
              "                          random_state=42, subsample=1.0, tol=0.0001,\n",
              "                          validation_fraction=0.1, verbose=0, warm_start=False)"
            ]
          },
          "metadata": {
            "tags": []
          },
          "execution_count": 102
        }
      ]
    },
    {
      "cell_type": "markdown",
      "metadata": {
        "id": "jSF-mN1tdBCB",
        "colab_type": "text"
      },
      "source": [
        "O hyperparâmetro `learning_rate`, controla a contribuição de cada `Tree` do GBRT. \n",
        "\n",
        "Quanto menor a `learning_rate`, maior o número de `Trees` (`n_estimators`) necessários. Mas em geral, as predições são melhores ==> técnica de ***shrinkage*** (encolhimento).\n",
        "\n",
        "Vejamos dois exemplos de shrinkage, um com **underfitting** e outro com **overfitting**:"
      ]
    },
    {
      "cell_type": "code",
      "metadata": {
        "id": "9zHiLykId7Mo",
        "colab_type": "code",
        "colab": {
          "base_uri": "https://localhost:8080/",
          "height": 170
        },
        "outputId": "2076c604-4478-4959-bba0-0e45a5b1351e"
      },
      "source": [
        "from sklearn.ensemble import GradientBoostingRegressor\n",
        "\n",
        "gbrt = GradientBoostingRegressor(max_depth=2, n_estimators=3, learning_rate=1.0, random_state=42)\n",
        "gbrt.fit(X, y)\n",
        "\n"
      ],
      "execution_count": 105,
      "outputs": [
        {
          "output_type": "execute_result",
          "data": {
            "text/plain": [
              "GradientBoostingRegressor(alpha=0.9, criterion='friedman_mse', init=None,\n",
              "                          learning_rate=1.0, loss='ls', max_depth=2,\n",
              "                          max_features=None, max_leaf_nodes=None,\n",
              "                          min_impurity_decrease=0.0, min_impurity_split=None,\n",
              "                          min_samples_leaf=1, min_samples_split=2,\n",
              "                          min_weight_fraction_leaf=0.0, n_estimators=3,\n",
              "                          n_iter_no_change=None, presort='auto',\n",
              "                          random_state=42, subsample=1.0, tol=0.0001,\n",
              "                          validation_fraction=0.1, verbose=0, warm_start=False)"
            ]
          },
          "metadata": {
            "tags": []
          },
          "execution_count": 105
        }
      ]
    },
    {
      "cell_type": "code",
      "metadata": {
        "id": "PbqQz0pKeNub",
        "colab_type": "code",
        "colab": {
          "base_uri": "https://localhost:8080/",
          "height": 170
        },
        "outputId": "6a6ac35a-1cd0-4f7c-898f-9d4cbe5bf8a1"
      },
      "source": [
        "gbrt_slow = GradientBoostingRegressor(max_depth=2, n_estimators=200, learning_rate=0.1, random_state=42)\n",
        "gbrt_slow.fit(X, y)"
      ],
      "execution_count": 112,
      "outputs": [
        {
          "output_type": "execute_result",
          "data": {
            "text/plain": [
              "GradientBoostingRegressor(alpha=0.9, criterion='friedman_mse', init=None,\n",
              "                          learning_rate=0.1, loss='ls', max_depth=2,\n",
              "                          max_features=None, max_leaf_nodes=None,\n",
              "                          min_impurity_decrease=0.0, min_impurity_split=None,\n",
              "                          min_samples_leaf=1, min_samples_split=2,\n",
              "                          min_weight_fraction_leaf=0.0, n_estimators=200,\n",
              "                          n_iter_no_change=None, presort='auto',\n",
              "                          random_state=42, subsample=1.0, tol=0.0001,\n",
              "                          validation_fraction=0.1, verbose=0, warm_start=False)"
            ]
          },
          "metadata": {
            "tags": []
          },
          "execution_count": 112
        }
      ]
    },
    {
      "cell_type": "code",
      "metadata": {
        "id": "13AuMTUMeS6e",
        "colab_type": "code",
        "colab": {
          "base_uri": "https://localhost:8080/",
          "height": 285
        },
        "outputId": "24bdba01-6f36-4e1e-adbe-95781861ed4c"
      },
      "source": [
        "plt.figure(figsize=(11,4))\n",
        "\n",
        "plt.subplot(121)\n",
        "plot_predictions([gbrt], X, y, axes=[-0.5, 0.5, -0.1, 0.8], label=\"Ensemble predictions\")\n",
        "plt.title(\"learning_rate={}, n_estimators={}\".format(gbrt.learning_rate, gbrt.n_estimators), fontsize=14)\n",
        "\n",
        "plt.subplot(122)\n",
        "plot_predictions([gbrt_slow], X, y, axes=[-0.5, 0.5, -0.1, 0.8])\n",
        "plt.title(\"learning_rate={}, n_estimators={}\".format(gbrt_slow.learning_rate, gbrt_slow.n_estimators), fontsize=14)\n",
        "\n",
        "#save_fig(\"gbrt_learning_rate_plot\")\n",
        "plt.show()"
      ],
      "execution_count": 113,
      "outputs": [
        {
          "output_type": "display_data",
          "data": {
            "image/png": "[encoded data removed]",
            "text/plain": [
              "<Figure size 792x288 with 2 Axes>"
            ]
          },
          "metadata": {
            "tags": []
          }
        }
      ]
    },
    {
      "cell_type": "markdown",
      "metadata": {
        "id": "KBCghjfse7VJ",
        "colab_type": "text"
      },
      "source": [
        "### Gradient Boosting com `early stopping` (parada precoce)\n",
        "Para encontrar o número ideal de `Trees` podemos usar a técnica de *early stopping*:\n",
        "1. calcular o erro de validação a cada estágio do treinamento (com uma, duas, três, ... `Trees`)\n",
        "2. encontrar o número ideal de `Trees`;\n",
        "3. Treinar outro ensemble GBRT usando o número ideal de `Trees`. "
      ]
    },
    {
      "cell_type": "code",
      "metadata": {
        "id": "qZriLGm5gR9u",
        "colab_type": "code",
        "colab": {
          "base_uri": "https://localhost:8080/",
          "height": 170
        },
        "outputId": "7761aaeb-a1c0-4034-c355-10d1c7fcd243"
      },
      "source": [
        "import numpy as np\n",
        "from sklearn.model_selection import train_test_split\n",
        "from sklearn.metrics import mean_squared_error\n",
        "\n",
        "X_train, X_val, y_train, y_val = train_test_split(X, y, random_state=49)\n",
        "\n",
        "gbrt = GradientBoostingRegressor(max_depth=2, n_estimators=120, random_state=42)\n",
        "gbrt.fit(X_train, y_train)\n",
        "\n",
        "#calculo do erro para cada estágio da validação \n",
        "errors = [mean_squared_error(y_val, y_pred)\n",
        "          for y_pred in gbrt.staged_predict(X_val)]\n",
        "\n",
        "# o número de Trees será igual ao estágio em que o erro é o menor\n",
        "bst_n_estimators = np.argmin(errors) + 1\n",
        "\n",
        "gbrt_best = GradientBoostingRegressor(max_depth=2,n_estimators=bst_n_estimators, random_state=42)\n",
        "gbrt_best.fit(X_train, y_train)"
      ],
      "execution_count": 114,
      "outputs": [
        {
          "output_type": "execute_result",
          "data": {
            "text/plain": [
              "GradientBoostingRegressor(alpha=0.9, criterion='friedman_mse', init=None,\n",
              "                          learning_rate=0.1, loss='ls', max_depth=2,\n",
              "                          max_features=None, max_leaf_nodes=None,\n",
              "                          min_impurity_decrease=0.0, min_impurity_split=None,\n",
              "                          min_samples_leaf=1, min_samples_split=2,\n",
              "                          min_weight_fraction_leaf=0.0, n_estimators=56,\n",
              "                          n_iter_no_change=None, presort='auto',\n",
              "                          random_state=42, subsample=1.0, tol=0.0001,\n",
              "                          validation_fraction=0.1, verbose=0, warm_start=False)"
            ]
          },
          "metadata": {
            "tags": []
          },
          "execution_count": 114
        }
      ]
    },
    {
      "cell_type": "code",
      "metadata": {
        "id": "CgZE25rgibqo",
        "colab_type": "code",
        "colab": {
          "base_uri": "https://localhost:8080/",
          "height": 34
        },
        "outputId": "703118d3-7e29-4cf1-a2dc-9cb0a9d9704b"
      },
      "source": [
        "min_error = np.min(errors)\n",
        "print(min_error)"
      ],
      "execution_count": 120,
      "outputs": [
        {
          "output_type": "stream",
          "text": [
            "0.002712853325235463\n"
          ],
          "name": "stdout"
        }
      ]
    },
    {
      "cell_type": "code",
      "metadata": {
        "id": "ZAJwegJeif7t",
        "colab_type": "code",
        "colab": {
          "base_uri": "https://localhost:8080/",
          "height": 303
        },
        "outputId": "ef3107d8-d184-4739-e26d-86e8c5634ebe"
      },
      "source": [
        "plt.figure(figsize=(11, 4))\n",
        "\n",
        "plt.subplot(121)\n",
        "plt.plot(errors, \"b.-\")\n",
        "plt.plot([bst_n_estimators, bst_n_estimators], [0, min_error], \"k--\")\n",
        "plt.plot([0, 120], [min_error, min_error], \"k--\")\n",
        "plt.plot(bst_n_estimators, min_error, \"ko\")\n",
        "plt.text(bst_n_estimators, min_error*1.2, \"Minimum\", ha=\"center\", fontsize=14)\n",
        "plt.axis([0, 120, 0, 0.01])\n",
        "plt.xlabel(\"Number of trees\")\n",
        "plt.title(\"Validation error\", fontsize=14)\n",
        "\n",
        "plt.subplot(122)\n",
        "plot_predictions([gbrt_best], X, y, axes=[-0.5, 0.5, -0.1, 0.8])\n",
        "plt.title(\"Best model (%d trees)\" % bst_n_estimators, fontsize=14)\n",
        "\n",
        "#save_fig(\"early_stopping_gbrt_plot\")\n",
        "plt.show()\n"
      ],
      "execution_count": 116,
      "outputs": [
        {
          "output_type": "display_data",
          "data": {
            "image/png": "[encoded data removed]",
            "text/plain": [
              "<Figure size 792x288 with 2 Axes>"
            ]
          },
          "metadata": {
            "tags": []
          }
        }
      ]
    },
    {
      "cell_type": "markdown",
      "metadata": {
        "id": "5fOW1MJ0kUoO",
        "colab_type": "text"
      },
      "source": [
        "“Também é possível implementar a parada precoce, interrompendo o treinamento mais cedo. \n",
        "\n",
        "Você pode fazer isso configurando `warm_start = True`, o que faz o Scikit-Learn manter as árvores existentes quando o método fit () é chamado, permitindo treinamento incremental. O código a seguir interrompe o treinamento quando o erro de validação não melhora por cinco iterações seguidas. ”"
      ]
    },
    {
      "cell_type": "code",
      "metadata": {
        "id": "Lbs6OuzSk2Gq",
        "colab_type": "code",
        "colab": {}
      },
      "source": [
        "gbrt = GradientBoostingRegressor(max_depth=2, warm_start=True, random_state=42)\n",
        "\n",
        "min_val_error = float(\"inf\")\n",
        "error_going_up = 0\n",
        "for n_estimators in range(1, 120):\n",
        "    gbrt.n_estimators = n_estimators\n",
        "    gbrt.fit(X_train, y_train)\n",
        "    y_pred = gbrt.predict(X_val)\n",
        "    val_error = mean_squared_error(y_val, y_pred)\n",
        "    if val_error < min_val_error:\n",
        "        min_val_error = val_error\n",
        "        error_going_up = 0\n",
        "    else:\n",
        "        error_going_up += 1\n",
        "        if error_going_up == 5:\n",
        "            break  # early stopping"
      ],
      "execution_count": 0,
      "outputs": []
    },
    {
      "cell_type": "code",
      "metadata": {
        "id": "tM1-ZW9elDIr",
        "colab_type": "code",
        "colab": {
          "base_uri": "https://localhost:8080/",
          "height": 34
        },
        "outputId": "794d4099-f4ad-4268-bec6-b2614339d6b5"
      },
      "source": [
        "print(gbrt.n_estimators)\n"
      ],
      "execution_count": 118,
      "outputs": [
        {
          "output_type": "stream",
          "text": [
            "61\n"
          ],
          "name": "stdout"
        }
      ]
    },
    {
      "cell_type": "code",
      "metadata": {
        "id": "dIpFMaHhlDw9",
        "colab_type": "code",
        "colab": {
          "base_uri": "https://localhost:8080/",
          "height": 34
        },
        "outputId": "f486ad17-7dce-4be0-dea1-0b60a0a5df56"
      },
      "source": [
        "print(\"Minimum validation MSE:\", min_val_error)\n"
      ],
      "execution_count": 119,
      "outputs": [
        {
          "output_type": "stream",
          "text": [
            "Minimum validation MSE: 0.002712853325235463\n"
          ],
          "name": "stdout"
        }
      ]
    }
  ]
}