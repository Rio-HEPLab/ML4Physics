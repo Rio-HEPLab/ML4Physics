{
  "nbformat": 4,
  "nbformat_minor": 0,
  "metadata": {
    "colab": {
      "provenance": [],
      "include_colab_link": true
    },
    "kernelspec": {
      "name": "python3",
      "display_name": "Python 3"
    },
    "accelerator": "GPU"
  },
  "cells": [
    {
      "cell_type": "markdown",
      "metadata": {
        "id": "view-in-github",
        "colab_type": "text"
      },
      "source": [
        "<a href=\"https://colab.research.google.com/github/UERJ-FISICA/ML4PPGF_UERJ/blob/PPGF-2023-2/Exemplo_Denoising_Autoencoder.ipynb\" target=\"_parent\"><img src=\"https://colab.research.google.com/assets/colab-badge.svg\" alt=\"Open In Colab\"/></a>"
      ]
    },
    {
      "cell_type": "markdown",
      "metadata": {
        "id": "BQQxo-3ZdTWK"
      },
      "source": [
        "# Auto-encoder para limpar ruído"
      ]
    },
    {
      "cell_type": "code",
      "metadata": {
        "id": "7_ddIhNibjQ7"
      },
      "source": [
        "%matplotlib inline\n",
        "import matplotlib.pyplot as plt\n",
        "import numpy as np"
      ],
      "execution_count": 1,
      "outputs": []
    },
    {
      "cell_type": "code",
      "metadata": {
        "id": "NT7xOoNQbjRC",
        "outputId": "7078f5ce-72fa-459b-f3dc-8ae2b2a1a9f2",
        "colab": {
          "base_uri": "https://localhost:8080/"
        }
      },
      "source": [
        "import keras\n",
        "\n",
        "from keras.models import Model\n",
        "from keras.datasets import mnist\n",
        "from keras.layers import Convolution2D, MaxPooling2D\n",
        "from keras.layers import Input, UpSampling2D\n",
        "\n",
        "print(keras.__version__)"
      ],
      "execution_count": 2,
      "outputs": [
        {
          "output_type": "stream",
          "name": "stdout",
          "text": [
            "2.14.0\n"
          ]
        }
      ]
    },
    {
      "cell_type": "code",
      "metadata": {
        "id": "wgEH6-0RbjRJ"
      },
      "source": [
        "(x_train, _), (x_test, _) = mnist.load_data()"
      ],
      "execution_count": 3,
      "outputs": []
    },
    {
      "cell_type": "code",
      "metadata": {
        "id": "SdwUg_kKbjRN",
        "outputId": "0534f8a9-fd61-4709-cf95-9931e6f0dd0b",
        "colab": {
          "base_uri": "https://localhost:8080/"
        }
      },
      "source": [
        "# normalize train data\n",
        "x_train = x_train.astype('float32') / 255.\n",
        "x_train = np.reshape(x_train, (len(x_train), 28, 28, 1))\n",
        "print(x_train.shape)"
      ],
      "execution_count": 4,
      "outputs": [
        {
          "output_type": "stream",
          "name": "stdout",
          "text": [
            "(60000, 28, 28, 1)\n"
          ]
        }
      ]
    },
    {
      "cell_type": "code",
      "metadata": {
        "id": "3bWhIeOhbjRT",
        "outputId": "23ea766c-0a6b-4563-ea03-2a2142be0890",
        "colab": {
          "base_uri": "https://localhost:8080/"
        }
      },
      "source": [
        "# normalize test data (which serves as our labels)\n",
        "x_test = x_test.astype('float32') / 255.\n",
        "x_test = np.reshape(x_test, (len(x_test), 28, 28, 1))\n",
        "print(x_test.shape)"
      ],
      "execution_count": 5,
      "outputs": [
        {
          "output_type": "stream",
          "name": "stdout",
          "text": [
            "(10000, 28, 28, 1)\n"
          ]
        }
      ]
    },
    {
      "cell_type": "markdown",
      "source": [
        "## Aqui é onde adicionamos ***ruido*** nas nossas imagens.\n"
      ],
      "metadata": {
        "id": "Yyh1MNRpPzpY"
      }
    },
    {
      "cell_type": "code",
      "metadata": {
        "id": "IjDpf7ZhbjRZ"
      },
      "source": [
        "# create noisy data for train and test\n",
        "noise_factor = 0.5\n",
        "x_train_noisy = x_train + noise_factor * np.random.normal(loc=0.0, scale=1.0, size=x_train.shape)\n",
        "x_test_noisy = x_test + noise_factor * np.random.normal(loc=0.0, scale=1.0, size=x_test.shape)"
      ],
      "execution_count": 6,
      "outputs": []
    },
    {
      "cell_type": "code",
      "metadata": {
        "id": "419qdXvGbjRe"
      },
      "source": [
        "# renormalize through clipping\n",
        "# o clipping vai cortar o \"excedente\" do ruido nos extremos para voltar a ficar na escala escolhida\n",
        "x_train_noisy = np.clip(x_train_noisy, 0., 1.)\n",
        "x_test_noisy = np.clip(x_test_noisy, 0., 1.)"
      ],
      "execution_count": 7,
      "outputs": []
    },
    {
      "cell_type": "code",
      "metadata": {
        "id": "AI4rRjfFbjRj"
      },
      "source": [
        "# create the encode network\n",
        "input_img = Input(shape=(28,28,1))\n",
        "x = Convolution2D(32,(3,3),activation='relu', padding='same')(input_img)\n",
        "x = MaxPooling2D((2,2),padding='same')(x)\n",
        "x = Convolution2D(32,(3,3),activation='relu', padding='same')(x)\n",
        "encoded = MaxPooling2D((2,2), padding='same')(x)\n",
        "# 7,7,32"
      ],
      "execution_count": 8,
      "outputs": []
    },
    {
      "cell_type": "code",
      "metadata": {
        "id": "uXGYapMebjRp"
      },
      "source": [
        "# create the decode network\n",
        "x = Convolution2D(32,(3,3),activation='relu',padding='same')(encoded)\n",
        "x = UpSampling2D((2,2))(x)\n",
        "x = Convolution2D(32,(3,3),activation='relu',padding='same')(x)\n",
        "x = UpSampling2D((2,2))(x)\n",
        "decoded = Convolution2D(1,(3,3),activation='sigmoid',padding='same')(x)\n",
        "#back to 28,28,1"
      ],
      "execution_count": 9,
      "outputs": []
    },
    {
      "cell_type": "code",
      "metadata": {
        "id": "xYAIb142bjRu",
        "outputId": "cb78ca2e-51b9-49f1-913e-f058485053dc",
        "colab": {
          "base_uri": "https://localhost:8080/"
        }
      },
      "source": [
        "# create the autoencoder by tying the encode and decode networks together\n",
        "autoencoder = Model(input_img, decoded)\n",
        "autoencoder.compile(optimizer='adam',loss='binary_crossentropy')\n",
        "autoencoder.summary()"
      ],
      "execution_count": 10,
      "outputs": [
        {
          "output_type": "stream",
          "name": "stdout",
          "text": [
            "Model: \"model\"\n",
            "_________________________________________________________________\n",
            " Layer (type)                Output Shape              Param #   \n",
            "=================================================================\n",
            " input_1 (InputLayer)        [(None, 28, 28, 1)]       0         \n",
            "                                                                 \n",
            " conv2d (Conv2D)             (None, 28, 28, 32)        320       \n",
            "                                                                 \n",
            " max_pooling2d (MaxPooling2  (None, 14, 14, 32)        0         \n",
            " D)                                                              \n",
            "                                                                 \n",
            " conv2d_1 (Conv2D)           (None, 14, 14, 32)        9248      \n",
            "                                                                 \n",
            " max_pooling2d_1 (MaxPoolin  (None, 7, 7, 32)          0         \n",
            " g2D)                                                            \n",
            "                                                                 \n",
            " conv2d_2 (Conv2D)           (None, 7, 7, 32)          9248      \n",
            "                                                                 \n",
            " up_sampling2d (UpSampling2  (None, 14, 14, 32)        0         \n",
            " D)                                                              \n",
            "                                                                 \n",
            " conv2d_3 (Conv2D)           (None, 14, 14, 32)        9248      \n",
            "                                                                 \n",
            " up_sampling2d_1 (UpSamplin  (None, 28, 28, 32)        0         \n",
            " g2D)                                                            \n",
            "                                                                 \n",
            " conv2d_4 (Conv2D)           (None, 28, 28, 1)         289       \n",
            "                                                                 \n",
            "=================================================================\n",
            "Total params: 28353 (110.75 KB)\n",
            "Trainable params: 28353 (110.75 KB)\n",
            "Non-trainable params: 0 (0.00 Byte)\n",
            "_________________________________________________________________\n"
          ]
        }
      ]
    },
    {
      "cell_type": "code",
      "metadata": {
        "id": "4KgiCI4VbjR2",
        "outputId": "ddec65c8-1a05-4524-e4c3-8e18a8d67b13",
        "colab": {
          "base_uri": "https://localhost:8080/"
        }
      },
      "source": [
        "# train\n",
        "autoencoder.fit(x_train_noisy, x_train,\n",
        "  epochs=10,\n",
        "  batch_size=256,\n",
        "  shuffle=True,\n",
        "  validation_data=(x_test_noisy, x_test))"
      ],
      "execution_count": 11,
      "outputs": [
        {
          "output_type": "stream",
          "name": "stdout",
          "text": [
            "Epoch 1/10\n",
            "235/235 [==============================] - 7s 13ms/step - loss: 0.2021 - val_loss: 0.1256\n",
            "Epoch 2/10\n",
            "235/235 [==============================] - 3s 11ms/step - loss: 0.1210 - val_loss: 0.1155\n",
            "Epoch 3/10\n",
            "235/235 [==============================] - 3s 12ms/step - loss: 0.1142 - val_loss: 0.1105\n",
            "Epoch 4/10\n",
            "235/235 [==============================] - 3s 11ms/step - loss: 0.1103 - val_loss: 0.1082\n",
            "Epoch 5/10\n",
            "235/235 [==============================] - 3s 12ms/step - loss: 0.1079 - val_loss: 0.1077\n",
            "Epoch 6/10\n",
            "235/235 [==============================] - 3s 13ms/step - loss: 0.1061 - val_loss: 0.1043\n",
            "Epoch 7/10\n",
            "235/235 [==============================] - 5s 19ms/step - loss: 0.1046 - val_loss: 0.1030\n",
            "Epoch 8/10\n",
            "235/235 [==============================] - 4s 15ms/step - loss: 0.1035 - val_loss: 0.1026\n",
            "Epoch 9/10\n",
            "235/235 [==============================] - 3s 11ms/step - loss: 0.1025 - val_loss: 0.1012\n",
            "Epoch 10/10\n",
            "235/235 [==============================] - 3s 11ms/step - loss: 0.1016 - val_loss: 0.1003\n"
          ]
        },
        {
          "output_type": "execute_result",
          "data": {
            "text/plain": [
              "<keras.src.callbacks.History at 0x7efdf41214b0>"
            ]
          },
          "metadata": {},
          "execution_count": 11
        }
      ]
    },
    {
      "cell_type": "code",
      "metadata": {
        "id": "37I9k7fybjR9",
        "outputId": "b60f5ca1-287f-4397-ecf3-458bf75cad6c",
        "colab": {
          "base_uri": "https://localhost:8080/"
        }
      },
      "source": [
        "# create the encoder model\n",
        "encoder = Model(input_img, encoded)\n",
        "encoder.summary()"
      ],
      "execution_count": 12,
      "outputs": [
        {
          "output_type": "stream",
          "name": "stdout",
          "text": [
            "Model: \"model_1\"\n",
            "_________________________________________________________________\n",
            " Layer (type)                Output Shape              Param #   \n",
            "=================================================================\n",
            " input_1 (InputLayer)        [(None, 28, 28, 1)]       0         \n",
            "                                                                 \n",
            " conv2d (Conv2D)             (None, 28, 28, 32)        320       \n",
            "                                                                 \n",
            " max_pooling2d (MaxPooling2  (None, 14, 14, 32)        0         \n",
            " D)                                                              \n",
            "                                                                 \n",
            " conv2d_1 (Conv2D)           (None, 14, 14, 32)        9248      \n",
            "                                                                 \n",
            " max_pooling2d_1 (MaxPoolin  (None, 7, 7, 32)          0         \n",
            " g2D)                                                            \n",
            "                                                                 \n",
            "=================================================================\n",
            "Total params: 9568 (37.38 KB)\n",
            "Trainable params: 9568 (37.38 KB)\n",
            "Non-trainable params: 0 (0.00 Byte)\n",
            "_________________________________________________________________\n"
          ]
        }
      ]
    },
    {
      "cell_type": "code",
      "metadata": {
        "id": "_KUCQ7xjbjSF"
      },
      "source": [
        "# create the decoder model\n",
        "encoded_input = Input(shape=(7,7,32))\n",
        "\n",
        "def dodecoder(x,list_layers,nlayers):\n",
        "  layer_seq = list_layers[-nlayers:]\n",
        "  decoded_input = x\n",
        "  for decoder_ in layer_seq:\n",
        "      decoded_input = decoder_(decoded_input)\n",
        "  return decoded_input\n",
        "\n",
        "# this is pretty ugly.  there is a better way ABOVE!\n",
        "# decoder1 = autoencoder.layers[-5]\n",
        "# decoder2 = autoencoder.layers[-4]\n",
        "# decoder3 = autoencoder.layers[-3]\n",
        "# decoder4 = autoencoder.layers[-2]\n",
        "# decoder5 = autoencoder.layers[-1]\n",
        "# decoder = Model(encoded_input, decoder5(decoder4(decoder3(decoder2(decoder1(encoded_input))))))\n",
        "# decoder.summary()"
      ],
      "execution_count": 13,
      "outputs": []
    },
    {
      "cell_type": "code",
      "source": [
        "a=dodecoder(encoded_input,autoencoder.layers,5)\n",
        "new_decoder=Model(encoded_input,a)\n",
        "new_decoder.summary()"
      ],
      "metadata": {
        "id": "sU3FUskZIQ9z",
        "outputId": "9810e068-974d-49d7-ba01-c8f1bd21437a",
        "colab": {
          "base_uri": "https://localhost:8080/"
        }
      },
      "execution_count": 14,
      "outputs": [
        {
          "output_type": "stream",
          "name": "stdout",
          "text": [
            "Model: \"model_2\"\n",
            "_________________________________________________________________\n",
            " Layer (type)                Output Shape              Param #   \n",
            "=================================================================\n",
            " input_2 (InputLayer)        [(None, 7, 7, 32)]        0         \n",
            "                                                                 \n",
            " conv2d_2 (Conv2D)           (None, 7, 7, 32)          9248      \n",
            "                                                                 \n",
            " up_sampling2d (UpSampling2  (None, 14, 14, 32)        0         \n",
            " D)                                                              \n",
            "                                                                 \n",
            " conv2d_3 (Conv2D)           (None, 14, 14, 32)        9248      \n",
            "                                                                 \n",
            " up_sampling2d_1 (UpSamplin  (None, 28, 28, 32)        0         \n",
            " g2D)                                                            \n",
            "                                                                 \n",
            " conv2d_4 (Conv2D)           (None, 28, 28, 1)         289       \n",
            "                                                                 \n",
            "=================================================================\n",
            "Total params: 18785 (73.38 KB)\n",
            "Trainable params: 18785 (73.38 KB)\n",
            "Non-trainable params: 0 (0.00 Byte)\n",
            "_________________________________________________________________\n"
          ]
        }
      ]
    },
    {
      "cell_type": "code",
      "metadata": {
        "id": "rvVzDTSobjSM",
        "outputId": "076b2a74-11fd-4ba2-aed0-cb7853beae62",
        "colab": {
          "base_uri": "https://localhost:8080/"
        }
      },
      "source": [
        "# run noisy test data through the encoder\n",
        "encoded_imgs = encoder.predict(x_test_noisy)\n",
        "\n",
        "# run encoded noisy test image back through the decoder\n",
        "decoded_imgs = new_decoder.predict(encoded_imgs)\n",
        "\n",
        "# make sense of the shapes\n",
        "print(encoded_imgs.shape)\n",
        "print(decoded_imgs.shape)"
      ],
      "execution_count": 15,
      "outputs": [
        {
          "output_type": "stream",
          "name": "stdout",
          "text": [
            "313/313 [==============================] - 1s 2ms/step\n",
            "313/313 [==============================] - 1s 2ms/step\n",
            "(10000, 7, 7, 32)\n",
            "(10000, 28, 28, 1)\n"
          ]
        }
      ]
    },
    {
      "cell_type": "code",
      "metadata": {
        "id": "078A2ZAEbjST",
        "outputId": "472a7258-5ec9-4d2b-87e8-2634840dae92",
        "colab": {
          "base_uri": "https://localhost:8080/",
          "height": 263
        }
      },
      "source": [
        "# display n random images\n",
        "n = 9\n",
        "indxs = np.random.randint(0,9999,n)\n",
        "\n",
        "\n",
        "## achei um digito bem ambiguo que o algoritmo de denoising reconstruiu diferente\n",
        "## se o ruido subir para 0.7, vou salvar para ver como se comporta com outros niveis de ruido\n",
        "## com noise_factor <= 0.6 consegue voltar ao original\n",
        "\n",
        "indxs = np.append(indxs,1494)\n",
        "n=n+1\n",
        "\n",
        "\n",
        "plt.figure(figsize=(30,6))\n",
        "for j,i in enumerate(indxs):\n",
        "\n",
        "  # noisy images\n",
        "  ax = plt.subplot(3,n,j+1)\n",
        "  plt.imshow(x_test_noisy[i].reshape(28,28))\n",
        "  plt.gray()\n",
        "  ax.get_xaxis().set_visible(False)\n",
        "  ax.get_yaxis().set_visible(False)\n",
        "\n",
        "  # denoised images\n",
        "  ax = plt.subplot(3,n,j+1+n)\n",
        "  plt.imshow(decoded_imgs[i].reshape(28,28))\n",
        "  plt.gray()\n",
        "  ax.get_xaxis().set_visible(False)\n",
        "  ax.get_yaxis().set_visible(False)\n",
        "\n",
        "  # original images\n",
        "  ax = plt.subplot(3,n,j+1+n*2)\n",
        "  plt.imshow(x_test[i].reshape(28,28))\n",
        "  plt.gray()\n",
        "  ax.get_xaxis().set_visible(False)\n",
        "  ax.get_yaxis().set_visible(False)\n",
        "plt.show()"
      ],
      "execution_count": 16,
      "outputs": [
        {
          "output_type": "display_data",
          "data": {
            "text/plain": [
              "<Figure size 3000x600 with 30 Axes>"
            ],
            "image/png": "[encoded data removed]"
          },
          "metadata": {}
        }
      ]
    },
    {
      "cell_type": "markdown",
      "source": [
        "### Proposta de exercício:\n",
        "   * Tente mudar o fator de ruido para valores maiores (0.8-0.9) e retreinar o algoritmo, se ve alguma diferença? (Observe o que acontece se achar numeros muito ambiguos, ex. a imagem de indice = 1494 que parece um 7 esquisito)\n",
        "   * O que acontece tambem se aumentar o ruido so no dataset de teste e aplicar o modelo que foi treinado com ruido moderado (0.5-0.6) nas imagens com ruido alto (0.8-0.9)??"
      ],
      "metadata": {
        "id": "9LLKW3MVSujN"
      }
    },
    {
      "cell_type": "code",
      "source": [
        "new_noise=0.9\n",
        "x_test_supernoisy  = x_test + new_noise* np.random.normal(loc=0.0, scale=1.0, size=x_test.shape)"
      ],
      "metadata": {
        "id": "BVa-CZpPOual"
      },
      "execution_count": 17,
      "outputs": []
    },
    {
      "cell_type": "code",
      "source": [
        "# run noisy test data through the encoder\n",
        "encoded_imgs_sn = encoder.predict(x_test_supernoisy)\n",
        "\n",
        "# run encoded noisy test image back through the decoder\n",
        "decoded_imgs_sn = new_decoder.predict(encoded_imgs_sn)"
      ],
      "metadata": {
        "id": "LTpQVNwfUBhB",
        "outputId": "f07b7565-b876-41e2-f5b6-749231da04b2",
        "colab": {
          "base_uri": "https://localhost:8080/"
        }
      },
      "execution_count": 18,
      "outputs": [
        {
          "output_type": "stream",
          "name": "stdout",
          "text": [
            "313/313 [==============================] - 1s 2ms/step\n",
            "313/313 [==============================] - 1s 2ms/step\n"
          ]
        }
      ]
    },
    {
      "cell_type": "code",
      "source": [
        "plt.figure(figsize=(10,6))\n",
        "i=1494\n",
        "#i=np.random.randint(0,9999)\n",
        "# noisy images for training\n",
        "ax = plt.subplot(1,5,1)\n",
        "plt.imshow(x_test_noisy[i].reshape(28,28))\n",
        "plt.gray()\n",
        "ax.get_xaxis().set_visible(False)\n",
        "\n",
        "# denoised images\n",
        "ax = plt.subplot(1,5,2)\n",
        "plt.imshow(decoded_imgs[i].reshape(28,28))\n",
        "plt.gray()\n",
        "ax.get_xaxis().set_visible(False)\n",
        "ax.get_yaxis().set_visible(False)\n",
        "\n",
        "\n",
        "#super noisy images for test\n",
        "ax.get_yaxis().set_visible(False)\n",
        "ax = plt.subplot(1,5,3)\n",
        "plt.imshow(x_test_supernoisy[i].reshape(28,28))\n",
        "plt.gray()\n",
        "ax.get_xaxis().set_visible(False)\n",
        "ax.get_yaxis().set_visible(False)\n",
        "\n",
        "# denoised images\n",
        "ax = plt.subplot(1,5,4)\n",
        "plt.imshow(decoded_imgs_sn[i].reshape(28,28))\n",
        "plt.gray()\n",
        "ax.get_xaxis().set_visible(False)\n",
        "ax.get_yaxis().set_visible(False)\n",
        "\n",
        "# original images\n",
        "ax = plt.subplot(1,5,5)\n",
        "plt.imshow(x_test[i].reshape(28,28))\n",
        "plt.gray()\n",
        "ax.get_xaxis().set_visible(False)\n",
        "ax.get_yaxis().set_visible(False)\n",
        "plt.show()"
      ],
      "metadata": {
        "id": "GGRrr6yEUNxd",
        "outputId": "ba04c660-f3dd-4518-c6b4-b4d82b507aa7",
        "colab": {
          "base_uri": "https://localhost:8080/",
          "height": 173
        }
      },
      "execution_count": 33,
      "outputs": [
        {
          "output_type": "display_data",
          "data": {
            "text/plain": [
              "<Figure size 1000x600 with 5 Axes>"
            ],
            "image/png": "[encoded data removed]"
          },
          "metadata": {}
        }
      ]
    },
    {
      "cell_type": "code",
      "source": [],
      "metadata": {
        "id": "ZrJYwLKDW36B",
        "outputId": "792e3ec6-8009-426f-98f2-1ebe6bf38500",
        "colab": {
          "base_uri": "https://localhost:8080/"
        }
      },
      "execution_count": 32,
      "outputs": [
        {
          "output_type": "execute_result",
          "data": {
            "text/plain": [
              "8212"
            ]
          },
          "metadata": {},
          "execution_count": 32
        }
      ]
    }
  ]
}