{
  "nbformat": 4,
  "nbformat_minor": 0,
  "metadata": {
    "colab": {
      "name": "ajustes.ipynb",
      "version": "0.3.2",
      "provenance": [],
      "collapsed_sections": [],
      "include_colab_link": true
    },
    "kernelspec": {
      "name": "python3",
      "display_name": "Python 3"
    }
  },
  "cells": [
    {
      "cell_type": "markdown",
      "metadata": {
        "id": "view-in-github",
        "colab_type": "text"
      },
      "source": [
        "<a href=\"https://colab.research.google.com/github/clemencia/ML4PPGF_UERJ/blob/master/ajustes.ipynb\" target=\"_parent\"><img src=\"https://colab.research.google.com/assets/colab-badge.svg\" alt=\"Open In Colab\"/></a>"
      ]
    },
    {
      "cell_type": "markdown",
      "metadata": {
        "id": "5OSuU4UyQn1d",
        "colab_type": "text"
      },
      "source": [
        "# Teste de Hipótese e Goodness of Fit\n",
        "\n",
        "No exemplo abaixo, geramos uma distribuição Gaussiana, realizamos um ajuste na distribução, comparamos os valores obtidos dos parâmetros com os usados na geração e obtemos a **qualidade** do ajuste através do teste de $\\chi^{2}$ e *p-value*. \n",
        "\n",
        "Lembrando da [Aula 4](https://http://dfnae.fis.uerj.br/twiki/pub/DFNAE/ML4PPGF/Aula4_HipotesesEFits.pdf):\n",
        "\n",
        "\\begin{equation*}\n",
        "\\chi^{2} = \\sum_i^{N}\\frac{(n_{obs} - n_{expected})^2}{n_{expected}}\n",
        "\\end{equation*}\n",
        "\n",
        "onde:\n",
        "\n",
        "* $n_{obs}$: número de eventos por bin\n",
        "* $n_{expected}$: número de eventos esperados (de acordo com um certo modelo)\n",
        "* $N$: número de bins\n",
        "\n",
        "\\\\\n",
        "O valor **$\\chi^{2}$/número de graus de liberdade** é uma medida da qualidade de um ajuste.\n",
        "\n",
        "\\\n",
        "\n",
        "O **número de graus de liberdade** é determinado como sendo o número total de bins, N, subtraído do número de parâmetros da função de ajuste.\n",
        "\n",
        "\n",
        "O *p-value* é esperado ser uma variável aleatória uniformemente distribuída entre 0 e 1 (assumindo-se que os dados seguem uma distribuição Gaussiana). Um valor de *p-value* pequeno pode ser uma indicação de uma descrição ruim dos dados pelo modelo escolhido (função de ajuste)."
      ]
    },
    {
      "cell_type": "code",
      "metadata": {
        "id": "Sy-HLFvbqXR7",
        "colab_type": "code",
        "outputId": "689dc9c1-9331-4552-a15d-f558c286fd00",
        "colab": {
          "base_uri": "https://localhost:8080/",
          "height": 349
        }
      },
      "source": [
        "import numpy as np\n",
        "from scipy.stats import norm\n",
        "import matplotlib.pyplot as plt\n",
        "from scipy.optimize import curve_fit\n",
        "import scipy.stats\n",
        "\n",
        "def gaussian(u, mean, sigma):\n",
        "   return  1/(( 2*np.pi )**0.5*sigma)*np.exp( -(u-mean)**2/(2*sigma**2) ) \n",
        "  \n",
        "def chisq(expected, observed):\n",
        "  \"\"\"função para calcular chi2\n",
        "     toma como input o objeto expected (numpy array) obtido com matplotlib.pyplot\n",
        "     e observed: numpy array com os valores da função obtida com o ajuste\n",
        "  \"\"\"\n",
        "  Chi2 = 0\n",
        "  for i in range(expected.shape[0]):\n",
        "    if expected[i] != 0:\n",
        "      Chi2 = Chi2 + (observed[i] - expected[i])**2/expected[i]\n",
        "  return Chi2\n",
        "\n",
        "# Gerar dados distribuidos de acordo com uma gaussiana.\n",
        "mean=10.\n",
        "sigma=2.5\n",
        "N=10000\n",
        "data = norm.rvs(loc=mean, scale=sigma, size=N)\n",
        "\n",
        "# Plotar o histograma.\n",
        "nbins = 50\n",
        "histogram = plt.hist(data, bins=nbins, color='darkorchid', range=(5, 15), density=1) #density=True\n",
        "x = 0.5*( histogram[1][0:-1] + histogram[1][1:] )\n",
        "y=histogram[0]\n",
        "#print(max(y))\n",
        "    \n",
        "  \n",
        "# Fazer o ajuste de uma distribuição gaussiana aos dados. \n",
        "# O retorno da função são os parâmetros ajustados, \n",
        "# mu (valor esperado) e std (desvio padrão):\n",
        "mu, std = norm.fit(data)\n",
        "##normalization = N\n",
        "##initials = [mu, std, normalization]\n",
        "initials=[mu, std]\n",
        "best, covariance = curve_fit(gaussian, x, y, p0=initials, sigma=np.sqrt(y))\n",
        "error = np.diag(covariance)\n",
        "print(best)\n",
        "print(error)\n",
        "\n",
        "\n",
        "# Plotar a PDF.\n",
        "xmin, xmax = plt.xlim()\n",
        "xx = np.linspace(xmin, xmax, nbins)\n",
        "p = gaussian(xx, best[0], best[1])\n",
        "plt.plot(xx, p,'k',linewidth=2)\n",
        "title = r\"Fit results: \\mu = {:.4f} +- {:.4f},  std = {:.4f} +- {:.4f}\".format(best[0], error[0], best[1], error[1])\n",
        "plt.title(title)\n",
        "\n",
        "plt.show()\n",
        "\n",
        "# obtenção do chi2. Atenção: a função scipy.stats.chisquare não funciona para os bins\n",
        "# em que (f_obs - f_exp) < 5.\n",
        "chi2, pvalue = scipy.stats.chisquare(f_obs=gaussian(xx, *best), f_exp=histogram[0], ddof=len(best)) \n",
        "chi_sq = chisq(histogram[0], gaussian(xx, *best))  #chi2 calculado \"à mão\". \n",
        "print(\"chi_sq/ndof = \", chi_sq/len(best))\n",
        "print(\"chi2/ndof = \", chi2/len(best), \" , p-value = \", pvalue)"
      ],
      "execution_count": 1,
      "outputs": [
        {
          "output_type": "stream",
          "text": [
            "[10.02993638  2.45972017]\n",
            "[0.00109729 0.00096649]\n"
          ],
          "name": "stdout"
        },
        {
          "output_type": "display_data",
          "data": {
            "image/png": "[encoded data removed]",
            "text/plain": [
              "<Figure size 432x288 with 1 Axes>"
            ]
          },
          "metadata": {
            "tags": []
          }
        },
        {
          "output_type": "stream",
          "text": [
            "chi_sq/ndof =  0.07696295369163794\n",
            "chi2/ndof =  0.07696295369163794  , p-value =  1.0\n"
          ],
          "name": "stdout"
        }
      ]
    },
    {
      "cell_type": "markdown",
      "metadata": {
        "id": "m7343syyrhTS",
        "colab_type": "text"
      },
      "source": [
        "**Exercício 1:** Modifique o código acima para, ao invés de usar o método _scipy.stats.norm.rvs_ para gerar a pdf, você próprio escreva uma função de geração de números aleatórios, distribuídos de acordo com uma Gaussiana.\n",
        "\n",
        "**Exercício 2:** Gere uma PDF da Breit-Wigner com o método da inversão, realize o ajuste na distribuição e o teste de qualidade do ajuste, $\\chi^2$."
      ]
    }
  ]
}