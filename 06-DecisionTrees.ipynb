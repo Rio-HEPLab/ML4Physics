{
  "nbformat": 4,
  "nbformat_minor": 0,
  "metadata": {
    "colab": {
      "name": "DecisionTrees.ipynb",
      "version": "0.3.2",
      "provenance": [],
      "collapsed_sections": [],
      "include_colab_link": true
    },
    "kernelspec": {
      "name": "python3",
      "display_name": "Python 3"
    }
  },
  "cells": [
    {
      "cell_type": "markdown",
      "metadata": {
        "id": "view-in-github",
        "colab_type": "text"
      },
      "source": [
        "<a href=\"https://colab.research.google.com/github/clemencia/ML4PPGF_UERJ/blob/master/DecisionTrees.ipynb\" target=\"_parent\"><img src=\"https://colab.research.google.com/assets/colab-badge.svg\" alt=\"Open In Colab\"/></a>"
      ]
    },
    {
      "cell_type": "markdown",
      "metadata": {
        "id": "oqcTcKOufdGq",
        "colab_type": "text"
      },
      "source": [
        "<!--BOOK_INFORMATION-->\n",
        "<img align=\"left\" width= 150 style=\"padding-right:10px;\" src=\"https://covers.oreillystatic.com/images/0636920052289/lrg.jpg\">\n",
        "\n",
        "*Essa aula é inteiramente baseada no **capítulo 6** do livro [Hands-On Machine Learning with Scikit-Learn & TensorFlow](http://shop.oreilly.com/product/0636920052289.do) by Aurélien Geron; os notebooks do livro estão disponíveis [no GitHub](https://github.com/ageron/handson-ml).*"
      ]
    },
    {
      "cell_type": "markdown",
      "metadata": {
        "id": "SMO280z2aBpn",
        "colab_type": "text"
      },
      "source": [
        "# Decision Trees\n",
        "\n",
        "As Decision Trees são algoritmos versáteis de ML **Supervisionado**, que podem ser usadas para para **classificação** e **regressão**.\n",
        "\n",
        "## O que são Decision Trees\n",
        "\n",
        "Para entender o que é uma Decision Tree, vamos começar **Treinando e Visualizando uma Decision Tree**.\n",
        "\n",
        "Construiremos um Decision Tree e veremos como ela faz predições.\n",
        "\n",
        "O código abaixo treina um _DecisionTreeClassifier_ no conjunto de dados de iris.\n",
        "\n",
        "**Iris dataset**: Famoso conjunto de dados o comprimento e a largura das pétalas e sépalas de 150 flores Iris de 3 espécies diferentes: Iris-Setosa, Iris-Versicolor e Iris-Virginica.\n",
        "\n",
        "![](https://s3.amazonaws.com/assets.datacamp.com/blog_assets/Machine+Learning+R/iris-machinelearning.png)\n"
      ]
    },
    {
      "cell_type": "markdown",
      "metadata": {
        "id": "R0UxdVXzKoDq",
        "colab_type": "text"
      },
      "source": [
        "Vamos começar com os imports e setups habituais."
      ]
    },
    {
      "cell_type": "code",
      "metadata": {
        "id": "w42W5DisKvxE",
        "colab_type": "code",
        "colab": {}
      },
      "source": [
        "# Common imports\n",
        "import numpy as np\n",
        "import os\n",
        "\n",
        "# to make this notebook's output stable across runs\n",
        "np.random.seed(42)\n",
        "\n",
        "# To plot pretty figures\n",
        "%matplotlib inline\n",
        "import matplotlib as mpl\n",
        "import matplotlib.pyplot as plt\n",
        "mpl.rc('axes', labelsize=14)\n",
        "mpl.rc('xtick', labelsize=12)\n",
        "mpl.rc('ytick', labelsize=12)"
      ],
      "execution_count": 0,
      "outputs": []
    },
    {
      "cell_type": "code",
      "metadata": {
        "id": "SR20P98DZ9iD",
        "colab_type": "code",
        "outputId": "10e957d4-f068-41bf-b90f-9ab9d6b6d37e",
        "colab": {
          "base_uri": "https://localhost:8080/",
          "height": 204
        }
      },
      "source": [
        "from sklearn.datasets import load_iris\n",
        "from sklearn.tree import DecisionTreeClassifier\n",
        "\n",
        "iris = load_iris() # returns a dictionary-like object\n",
        "print(\"iris dataset keys: \", iris.keys())\n",
        "print('iris[\"target_names\"]: ', iris['target_names'])\n",
        "print(\"iris['target'] = \", iris['target'])\n",
        "print(\"target lenght: \", len(iris['target']))\n",
        "print(\"iris['feature_names: ']\", iris['feature_names'])\n",
        "print(\"iris['data'][0,:] = \", iris.data[0,:])\n",
        "print(\"iris['data'][0, 2:] = \", iris.data[0,2:])"
      ],
      "execution_count": 0,
      "outputs": [
        {
          "output_type": "stream",
          "text": [
            "iris dataset keys:  dict_keys(['data', 'target', 'target_names', 'DESCR', 'feature_names', 'filename'])\n",
            "iris[\"target_names\"]:  ['setosa' 'versicolor' 'virginica']\n",
            "iris['target'] =  [0 0 0 0 0 0 0 0 0 0 0 0 0 0 0 0 0 0 0 0 0 0 0 0 0 0 0 0 0 0 0 0 0 0 0 0 0\n",
            " 0 0 0 0 0 0 0 0 0 0 0 0 0 1 1 1 1 1 1 1 1 1 1 1 1 1 1 1 1 1 1 1 1 1 1 1 1\n",
            " 1 1 1 1 1 1 1 1 1 1 1 1 1 1 1 1 1 1 1 1 1 1 1 1 1 1 2 2 2 2 2 2 2 2 2 2 2\n",
            " 2 2 2 2 2 2 2 2 2 2 2 2 2 2 2 2 2 2 2 2 2 2 2 2 2 2 2 2 2 2 2 2 2 2 2 2 2\n",
            " 2 2]\n",
            "target lenght:  150\n",
            "iris['feature_names: '] ['sepal length (cm)', 'sepal width (cm)', 'petal length (cm)', 'petal width (cm)']\n",
            "iris['data'][0,:] =  [5.1 3.5 1.4 0.2]\n",
            "iris['data'][0, 2:] =  [1.4 0.2]\n"
          ],
          "name": "stdout"
        }
      ]
    },
    {
      "cell_type": "code",
      "metadata": {
        "id": "zTQ-ubF_lbdm",
        "colab_type": "code",
        "outputId": "139e07d6-3d11-4211-fb9b-5717f9977a3a",
        "colab": {
          "base_uri": "https://localhost:8080/",
          "height": 119
        }
      },
      "source": [
        "X = iris.data[:, 2:] # petal length and width\n",
        "y = iris.target\n",
        "\n",
        "tree_clf = DecisionTreeClassifier(max_depth=2, random_state=42)\n",
        "tree_clf.fit(X, y)"
      ],
      "execution_count": 0,
      "outputs": [
        {
          "output_type": "execute_result",
          "data": {
            "text/plain": [
              "DecisionTreeClassifier(class_weight=None, criterion='gini', max_depth=2,\n",
              "                       max_features=None, max_leaf_nodes=None,\n",
              "                       min_impurity_decrease=0.0, min_impurity_split=None,\n",
              "                       min_samples_leaf=1, min_samples_split=2,\n",
              "                       min_weight_fraction_leaf=0.0, presort=False,\n",
              "                       random_state=42, splitter='best')"
            ]
          },
          "metadata": {
            "tags": []
          },
          "execution_count": 106
        }
      ]
    },
    {
      "cell_type": "markdown",
      "metadata": {
        "id": "ZjSos7aNHSTh",
        "colab_type": "text"
      },
      "source": [
        "Para visualizar a Decision tree que foi treinada, vamos usar a função [export_graphviz](https://scikit-learn.org/stable/modules/generated/sklearn.tree.export_graphviz.html), do módulo ***sklearn.tree***, que produz um arquivo de saída ***.dot***, que pode então ser convertido para *.png*"
      ]
    },
    {
      "cell_type": "code",
      "metadata": {
        "id": "DkSbzAbXML5M",
        "colab_type": "code",
        "outputId": "f4d7e5ef-8875-4657-fcef-f64cd9f002a5",
        "colab": {
          "base_uri": "https://localhost:8080/",
          "height": 34
        }
      },
      "source": [
        "from google.colab import drive\n",
        "drive.mount('/content/drive')"
      ],
      "execution_count": 0,
      "outputs": [
        {
          "output_type": "stream",
          "text": [
            "Drive already mounted at /content/drive; to attempt to forcibly remount, call drive.mount(\"/content/drive\", force_remount=True).\n"
          ],
          "name": "stdout"
        }
      ]
    },
    {
      "cell_type": "code",
      "metadata": {
        "id": "ZaP9wDJKNjRy",
        "colab_type": "code",
        "outputId": "82ca056c-dc17-42a4-9592-c375c04c0a4d",
        "colab": {
          "base_uri": "https://localhost:8080/",
          "height": 34
        }
      },
      "source": [
        "import os     \n",
        "print(os.getcwd())"
      ],
      "execution_count": 0,
      "outputs": [
        {
          "output_type": "stream",
          "text": [
            "/content\n"
          ],
          "name": "stdout"
        }
      ]
    },
    {
      "cell_type": "code",
      "metadata": {
        "id": "U7kRV4T0KLQo",
        "colab_type": "code",
        "colab": {}
      },
      "source": [
        "from sklearn.tree import export_graphviz\n",
        "\n",
        "export_graphviz(\n",
        "        tree_clf,\n",
        "        out_file=\"/content/iris_tree.dot\",\n",
        "        feature_names=iris.feature_names[2:],\n",
        "        class_names=iris.target_names,\n",
        "        rounded=True,\n",
        "        filled=True\n",
        "    )"
      ],
      "execution_count": 0,
      "outputs": []
    },
    {
      "cell_type": "code",
      "metadata": {
        "id": "QEX0RcamQgu_",
        "colab_type": "code",
        "colab": {}
      },
      "source": [
        "from google.colab import files\n",
        "files.download( \"iris_tree.dot\" )   "
      ],
      "execution_count": 0,
      "outputs": []
    },
    {
      "cell_type": "markdown",
      "metadata": {
        "id": "tHX1nQ-kkkOO",
        "colab_type": "text"
      },
      "source": [
        "Você pode instalar o pacote **graphviz** no seu sistema local e executar o comando (na linha de comando do seu terminal) para converter o arquivo ***dot*** em ***png***:\n",
        "\n",
        "> dot -Tpng iris_tree.dot -o iris_tree.png\n",
        "\n",
        "obs.: o **graphviz** precisa ser instalado no seu sistema (e não apenas para o usuário local) ou o comando acima não funciona."
      ]
    },
    {
      "cell_type": "markdown",
      "metadata": {
        "id": "uCeFFmI6lOrd",
        "colab_type": "text"
      },
      "source": [
        "![tree](http://dfnae.fis.uerj.br/twiki/pub/DFNAE/ML4PPGF/iris_tree.png)"
      ]
    },
    {
      "cell_type": "markdown",
      "metadata": {
        "id": "SSjxVt3oBto5",
        "colab_type": "text"
      },
      "source": [
        "A **Decision Tree** tem uma estrutura de ***fluxograma***. \n",
        "\n",
        "* Cada \"caixinha\" é chamada de ***node***\n",
        "* **Root Node:** Representa a população ou amostra e é subdividido em conjuntos homogêneos (de acordo com a decisão do node)\n",
        "* **Splitting:** é o processo de sub-dividir o node em sub-nodes\n",
        "* **Decision Node:** Quando um node se divide em outros sub-nodes, ele é um node de decisão\n",
        "* **Leaf/ Terminal Node:** Os nodes que não se sub-dividem mais são chamados de \"folhas\" (***leafs***) ou \"nodes terminais\".\n",
        "* **Pruning:** Quando removemos sub-nodes de um node de decisão, chamamos esse processo de ***prunning***.\n",
        "* **Branch / Sub-Tree:** Uma sub-seção de uma tree inteira é chamada de \"galho\" (***branch***) ou ***sub-tree***.\n",
        "* **Parent and Child Node:** Um node que é sub-dividido em sub-nodes é chamado de ***parent node***. Os sub-nodes são chamados de ***child node***."
      ]
    },
    {
      "cell_type": "markdown",
      "metadata": {
        "id": "FXs9MKG0J52I",
        "colab_type": "text"
      },
      "source": [
        "## Fazendo predições com a Decision Tree\n",
        "\n",
        "Partimos de uma amostra de treinamento ( conjunto de dados de ***iris***) e construímos uma **decision tree** que aprendeu com o nosso conjunto de dados de treinamento.\n",
        "\n",
        "Para fazer predições sobre o tipo de uma flor de íris desconhecida, a nossa tree começará pelo **root node** e seguirá o fluxograma até determinar o tipo de flor de íris. E assim por diante para cada nova flor de íris a ser classificada.\n",
        "\n",
        "Na figura acima, cada node tem uma série de variáveis:\n",
        "\n",
        "* **samples**: é um atributo. Conta a quantas instâncias de treinamento o node se aplica. \n",
        "* **depth**: é a ***profundidade da tree***, definida pelas \"camadas\" formadas pelos sub-nodes. Nosso exemplo tem depth=2.\n",
        "* **value**: O atributo de um node chamado *value*, nos diz a quantas instâncias de cada classificação (***target_names***) o node se aplica. Por exemplo: [0,1,45] nos diz que esse node se aplica a 0 iris do tipo Setosa, 1 do tipo Versicolor e 45 do tipo Virginica.\n",
        "* **gini**: atributo que mede a ***impureza*** do node.\n",
        "   * **node puro:** gini = 0 ==> todas as instâncias às quais o node se aplica pertencem somente a uma classificação."
      ]
    },
    {
      "cell_type": "markdown",
      "metadata": {
        "id": "LbZbCOl8OsCk",
        "colab_type": "text"
      },
      "source": [
        "A impureza de Gini (**gini score**) é calculada a partir da seguinte equação:\n",
        "\n",
        "\\begin{equation*}\n",
        "G_i = 1 - \\sum_{k=1}^{n} p_{i,k}^{2}\n",
        "\\end{equation*}\n",
        "\n",
        "onde $p_{i,k}$ é razão do número de instâncias da classe $k$ sobre todas as instâncias de treinamento do *i-ésimo* node.\n",
        "\n",
        "Por exemplo: O node de depth=2 da esquerda na figura (o node verde) tem o seguinte *gini score*:\n",
        "\n",
        "\\begin{equation*}\n",
        "G_i = 1 - \\left[\\left(\\frac{1}{54}\\right)^2 + \\left(\\frac{49}{54}\\right)^2 + \\left(\\frac{5}{54}\\right)^2\\right] \\approx 0.168\n",
        "\\end{equation*}\n"
      ]
    },
    {
      "cell_type": "markdown",
      "metadata": {
        "id": "vpDCJfWmRW7N",
        "colab_type": "text"
      },
      "source": [
        "**Limites de decisão pela Decision Tree**\n",
        "\n",
        "A seguinte função ajuda na visualização dos limites determinados pela Decision Tree"
      ]
    },
    {
      "cell_type": "code",
      "metadata": {
        "id": "gZXPw68ES71b",
        "colab_type": "code",
        "colab": {}
      },
      "source": [
        "## script de vizualização da tree\n",
        "from matplotlib.colors import ListedColormap\n",
        "\n",
        "def plot_decision_boundary(clf, X, y, axes=[0, 7.5, 0, 3], iris=True, legend=False, plot_training=True):\n",
        "    x1s = np.linspace(axes[0], axes[1], 100)\n",
        "    x2s = np.linspace(axes[2], axes[3], 100)\n",
        "    x1, x2 = np.meshgrid(x1s, x2s)\n",
        "    X_new = np.c_[x1.ravel(), x2.ravel()]\n",
        "    y_pred = clf.predict(X_new).reshape(x1.shape)\n",
        "    custom_cmap = ListedColormap(['#fafab0','#9898ff','#a0faa0'])\n",
        "    plt.contourf(x1, x2, y_pred, alpha=0.3, cmap='rainbow')\n",
        "    if not iris:\n",
        "        plt.contour(x1, x2, y_pred, cmap='rainbow', alpha=0.8)\n",
        "    if plot_training:\n",
        "        plt.plot(X[:, 0][y==0], X[:, 1][y==0], \"yo\", label=\"Iris-Setosa\")\n",
        "        plt.plot(X[:, 0][y==1], X[:, 1][y==1], \"bs\", label=\"Iris-Versicolor\")\n",
        "        plt.plot(X[:, 0][y==2], X[:, 1][y==2], \"g^\", label=\"Iris-Virginica\")\n",
        "        plt.axis(axes)\n",
        "    if iris:\n",
        "        plt.xlabel(\"Petal length\", fontsize=14)\n",
        "        plt.ylabel(\"Petal width\", fontsize=14)\n",
        "    else:\n",
        "        plt.xlabel(r\"$x_1$\", fontsize=18)\n",
        "        plt.ylabel(r\"$x_2$\", fontsize=18, rotation=0)\n",
        "    if legend:\n",
        "        plt.legend(loc=\"lower right\", fontsize=14)\n",
        "\n",
        "        \n",
        "plt.figure(figsize=(8, 4))\n",
        "plot_decision_boundary(tree_clf, X, y)\n",
        "plt.plot([2.45, 2.45], [0, 3], \"k-\", linewidth=2)\n",
        "plt.plot([2.45, 7.5], [1.75, 1.75], \"k--\", linewidth=2)\n",
        "plt.plot([4.95, 4.95], [0, 1.75], \"k:\", linewidth=2)\n",
        "plt.plot([4.85, 4.85], [1.75, 3], \"k:\", linewidth=2)\n",
        "plt.text(1.40, 1.0, \"Depth=0\", fontsize=15)\n",
        "plt.text(3.2, 1.80, \"Depth=1\", fontsize=13)\n",
        "plt.text(4.05, 0.5, \"(Depth=2)\", fontsize=11)\n",
        "\n",
        "#save_fig(\"decision_tree_decision_boundaries_plot\")\n",
        "plt.show()"
      ],
      "execution_count": 0,
      "outputs": []
    },
    {
      "cell_type": "markdown",
      "metadata": {
        "id": "e8jONd0lP3wt",
        "colab_type": "text"
      },
      "source": [
        "**Exercício:** Generalize o ***script de visualização da tree*** acima para traçar as retas de decisão para qualquer tree, acessando diretamente os valores de decisão (***threshold***) do objeto tree_ de treinamento. Você pode utilizar esse [script](https://scikit-learn.org/stable/auto_examples/tree/plot_unveil_tree_structure.html#sphx-glr-auto-examples-tree-plot-unveil-tree-structure-py) do *scikit-learn* como exemplo de acesso à estrutura da tree."
      ]
    },
    {
      "cell_type": "markdown",
      "metadata": {
        "id": "-Zre8LuieFEC",
        "colab_type": "text"
      },
      "source": [
        "No exemplo acima, o **depth=0** representa o limite de decisão do ***root node***. \n",
        "\n",
        "* A área da esquerda é **pura** (Iris-Setosa, gini=0.0, **leaf** da esquerda na nossa tree), ela não pode ser mais divida. \n",
        "\n",
        "* As áreas da direita são divididas pelo limite de decisão tracejado em negrito (depth=1). Como especificamos no nosso treinamento ***max_depth=2***, essas áreas não podem ser subdivididas.\n",
        "\n",
        "* As linhas tracejadas mais claras representam como as áreas rosa e verde seriam sub-divididas caso tivéssemos permitido que nossa tree tivesse uma profundidade (depth) maior."
      ]
    },
    {
      "cell_type": "markdown",
      "metadata": {
        "id": "9jBVAw_SjrFp",
        "colab_type": "text"
      },
      "source": [
        "## Fazendo estimativas de classes e probabilidades\n",
        "\n",
        "Uma Decision Tree também pode estimar a probabilidade de uma instância pertencer a uma determinada classe $k$:\n",
        "\n",
        "1. percorre a Decision Tree até encontrar o **leaf node**;\n",
        "1. retorna a razão entre as instâncias de treinamento da classe $k$ no node.\n",
        "\n",
        "Por exemplo, se encontrarmos uma folha com pétalas de 5cm de comprimento e 1.5 cm de largura. Isso corresponde à folha da direita em depth=2 do nosso exemplo.\n",
        "* probabilidade de que seja uma iris-setosa: $\\frac{0}{54} = 0\\%$\n",
        "* probabilidade de que seja uma iris-versicolor: $\\frac{49}{54} = 90.7\\%$\n",
        "* probabilidade de que seja uma iris-virginica: $\\frac{5}{54} = 9.3\\%$\n",
        "\n",
        "==> predição da classe: **iris-versicolor** (classe 1), pois tem a maior probabilidade."
      ]
    },
    {
      "cell_type": "code",
      "metadata": {
        "id": "9p-iIA-0mI3Q",
        "colab_type": "code",
        "colab": {}
      },
      "source": [
        "tree_clf.predict_proba([[5, 1.5]]) \n",
        "# lembrando que treinamos a tree somente com os atributos de comprimento e largura\n",
        "# X = iris.data[:, 2:] # petal length and width"
      ],
      "execution_count": 0,
      "outputs": []
    },
    {
      "cell_type": "code",
      "metadata": {
        "id": "jwMMS-ULoWqN",
        "colab_type": "code",
        "colab": {}
      },
      "source": [
        "tree_clf.predict([[5, 1.5]]) # para prever a classe.\n",
        "# lembrando que 0: iris-setosa, 1: iris-versicolor, 2: iris-virginica"
      ],
      "execution_count": 0,
      "outputs": []
    },
    {
      "cell_type": "markdown",
      "metadata": {
        "id": "8TOXUp0Uo6mc",
        "colab_type": "text"
      },
      "source": [
        "## O algoritmo de treinamento CART\n",
        "\n",
        "O **scikit-learn** usa o algoritmo de ***Classification and Regression Tree (CART)*** para treinar as Decision Trees.\n",
        "\n",
        "O algoritmo CART:\n",
        "1. Procura pelo par $(k, t_k)$ = (`feature`, `threshold`) que **maximiza a pureza** de seus sub-conjuntos (ou sub-nodes), pesando cada sub-node de acordo com seu tamanho;\n",
        "1. Uma vez a amostra dividida em duas sub-amostras, divide novamente cada ***node*** aplicando a mesma lógica;\n",
        "1. Aplica essa lógica recursivamente até atingir o valor do hyperparâmetro `max_depth` ou se não conseguir encontrar um valor que reduza a impureza.\n",
        "1. Alguns outros hyperparâmetros controlam a parada do algoritmo: `min_samples_split`, `min_samples_leaf`, `min_weight_fraction_leaf`, `max_leaf_nodes`.\n",
        "\n",
        "A função que o algoritmo tenta minimizar é a seguinte:\n",
        "\n",
        "\\begin{equation*}\n",
        "J(k, t_k) = \\frac{m_{left}}{m}G_{left} + \\frac{m_{right}}{m}G_{right}\n",
        "\\end{equation*}\n",
        "\n",
        "Onde\n",
        "* $G_{left/right}$ mede a impureza do subconjunto à esquerda/direita\n",
        "* $m_{left/right}$ é o número de instâncias no subconjunto à esquerda/direita\n",
        "\n",
        "\\\\\n",
        "O algoritmo CART minimiza a função a nível de `depth`, ou seja, não executa a minimização em outros níveis mais à frente."
      ]
    },
    {
      "cell_type": "markdown",
      "metadata": {
        "id": "7vmX2THx6CMB",
        "colab_type": "text"
      },
      "source": [
        "### Impureza Gini ou Entropia?\n",
        "\n",
        "Quando o classificador `tree.DecisionTreeClassifier` é chamado, o hyperparâmetro `criterion='gini'` por default. \n",
        "\n",
        "Mas existe uma outra possibilidade: `criterion='entropy'`, que também é usada para medir a impureza de um node. A entropia é zero quando um `node` contém instâncias de somente uma classe.\n",
        "\n",
        "A equação abaixo mostra a definição de entropia para o `i-ésimo node`:\n",
        "\n",
        "\\begin{equation*}\n",
        "H_i = - \\sum_{k=1}^{n} p_{i,k}log(p_{i,k})\n",
        "\\end{equation*}\n",
        "\n",
        "A entropia para o `node` à esquerda em `depth=2` é dada por:"
      ]
    },
    {
      "cell_type": "code",
      "metadata": {
        "id": "I33t9KHc_Su0",
        "colab_type": "code",
        "outputId": "02a19bf7-88e6-47b0-cc49-479fd802cb95",
        "colab": {
          "base_uri": "https://localhost:8080/",
          "height": 34
        }
      },
      "source": [
        "import math\n",
        "H_i = -(49/54)*math.log(49/54) - (5/54)*math.log(5/54)\n",
        "print(round(H_i,2))"
      ],
      "execution_count": 0,
      "outputs": [
        {
          "output_type": "stream",
          "text": [
            "0.31\n"
          ],
          "name": "stdout"
        }
      ]
    },
    {
      "cell_type": "markdown",
      "metadata": {
        "id": "_0jdWbjZ_m_s",
        "colab_type": "text"
      },
      "source": [
        "Em geral ambos hyperparâmetros levam a Trees similares e o parâmetro Gini é mais rápido de calcular.\n",
        "\n",
        "Quando os dois parâmetros diferem, o Gini tende a isolar a classe mais frequente em uma única `branch`, enquanto a `entropy` produz uma Tree mais balanceada."
      ]
    },
    {
      "cell_type": "markdown",
      "metadata": {
        "id": "BjUyKsfVAZy_",
        "colab_type": "text"
      },
      "source": [
        "### Hyperparâmetros de Regularização\n",
        "\n",
        "As Decision Trees não têm parâmetros pré-definidos, como é o caso, por exemplo de modelos lineares. Sendo assim, se deixadas sem restrições de parâmetros, as `decision trees` tendem a reproduzir os dados de treinamento e consequentemente, resultar em um `overfitting`.\n",
        "\n",
        "Para evitar o `overfitting` dos dados de treinamento, é preciso restringir a \"liberdade\" da `Decision Tree` durante o treinamento ==> **regularização**.\n",
        "\n",
        "Hyperparâmetros de regularização:\n",
        "* `max_depth`: restringe a \"profundidade\" da tree. No scikit-learn, o default é \"None\";\n",
        "* `min_samples_split`: número mínimo de amostras um `node` deve ter antes de se dividir;\n",
        "* `min_samples_leaf`: número mínimo de amostras que um `node` `leaf` deve ter;\n",
        "* `min_weight_fraction_leaf`: fração mínima de amostras em relação ao número de instâncias consideradas com peso. \n",
        "* `max_leaf_nodes`: número máximo de `nodes leaf`;\n",
        "* `max_features`: número máximo de `features` que são consideradas para dividir cada `node`\n",
        "\n",
        "O modelo será **regularizado** ao aumentarmos o valor dos hyperparâmetros `min_*` e diminuirmos os `max_*`\n",
        "\n",
        "A seguir vemos um exemplo de regularização, utilizando um conjunto de dados de \"luas\" para treinar a nossa Tree."
      ]
    },
    {
      "cell_type": "code",
      "metadata": {
        "id": "NwHKbW34LSOo",
        "colab_type": "code",
        "outputId": "d7241331-01b4-4dd3-be96-2ca362ca0b38",
        "colab": {
          "base_uri": "https://localhost:8080/",
          "height": 308
        }
      },
      "source": [
        "from sklearn.datasets import make_moons\n",
        "Xm, ym = make_moons(n_samples=100, noise=0.25, random_state=53)\n",
        "\n",
        "deep_tree_clf1 = DecisionTreeClassifier(random_state=42)\n",
        "deep_tree_clf2 = DecisionTreeClassifier(min_samples_leaf=4, random_state=42)\n",
        "\n",
        "deep_tree_clf1.fit(Xm, ym)\n",
        "deep_tree_clf2.fit(Xm, ym)\n",
        "\n",
        "plt.figure(figsize=(11, 4))\n",
        "plt.subplot(121)\n",
        "plot_decision_boundary(deep_tree_clf1, Xm, ym, axes=[-1.5, 2.5, -1, 1.5], iris=False)\n",
        "plt.title(\"No restrictions\", fontsize=16)\n",
        "plt.subplot(122)\n",
        "plot_decision_boundary(deep_tree_clf2, Xm, ym, axes=[-1.5, 2.5, -1, 1.5], iris=False)\n",
        "plt.title(\"min_samples_leaf = {}\".format(deep_tree_clf2.min_samples_leaf), fontsize=14)\n",
        "\n",
        "#save_fig(\"min_samples_leaf_plot\")\n",
        "plt.show()"
      ],
      "execution_count": 0,
      "outputs": [
        {
          "output_type": "display_data",
          "data": {
            "image/png": "[encoded data removed]",
            "text/plain": [
              "<Figure size 792x288 with 2 Axes>"
            ]
          },
          "metadata": {
            "tags": []
          }
        }
      ]
    },
    {
      "cell_type": "markdown",
      "metadata": {
        "id": "4GvSPyWgPUpE",
        "colab_type": "text"
      },
      "source": [
        "**Exercício:** Adicione uma terceira Tree, com diferentes hyperparâmetros e compare o resultado com os mostrados acima."
      ]
    },
    {
      "cell_type": "markdown",
      "metadata": {
        "id": "2JEm9UfYNyUG",
        "colab_type": "text"
      },
      "source": [
        "## Regressão\n",
        "\n",
        "As `Decision Trees` também são capazes de executar tarefas de **regressão**. Vamos construir uma `Tree de regressão` usando a classe do scikit-learn [`DecisionTreeRegressor`](https://scikit-learn.org/stable/modules/generated/sklearn.tree.DecisionTreeRegressor.html#sklearn.tree.DecisionTreeRegressor).\n",
        "\n",
        "> treiná-la em um conjunto de dados ruidoso, com `max_depth=2`.\n"
      ]
    },
    {
      "cell_type": "code",
      "metadata": {
        "id": "u4-gcczeQ9m_",
        "colab_type": "code",
        "colab": {}
      },
      "source": [
        "def quadratic_plus_noise(m = 200):\n",
        "  \"\"\"Quadratic training set + noise\n",
        "    m: number of samples\n",
        "  \"\"\"\n",
        "  np.random.seed(42)\n",
        "  X = np.random.rand(m, 1)\n",
        "  y = 4 * (X - 0.5) ** 2\n",
        "  y = y + np.random.randn(m, 1) / 10\n",
        "  return X, y\n",
        "\n",
        "X, y = quadratic_plus_noise()"
      ],
      "execution_count": 0,
      "outputs": []
    },
    {
      "cell_type": "code",
      "metadata": {
        "id": "327KYjYEUOna",
        "colab_type": "code",
        "outputId": "1bcbda37-479f-4415-f286-924ce219d93f",
        "colab": {
          "base_uri": "https://localhost:8080/",
          "height": 51
        }
      },
      "source": [
        "from sklearn.tree import DecisionTreeRegressor\n",
        "\n",
        "tree_reg = DecisionTreeRegressor(max_depth=2, random_state=42)\n",
        "tree_reg.fit(X, y)\n",
        "print(tree_reg.tree_.threshold)"
      ],
      "execution_count": 0,
      "outputs": [
        {
          "output_type": "stream",
          "text": [
            "[ 0.19734927  0.09169627 -2.         -2.          0.77175754 -2.\n",
            " -2.        ]\n"
          ],
          "name": "stdout"
        }
      ]
    },
    {
      "cell_type": "code",
      "metadata": {
        "id": "h2Fi72Z7Ug9G",
        "colab_type": "code",
        "colab": {}
      },
      "source": [
        "from sklearn.tree import export_graphviz\n",
        "\n",
        "export_graphviz(\n",
        "        tree_reg,\n",
        "        out_file=\"/content/tree_reg_quad_noise.dot\",\n",
        "        feature_names=['x1'],\n",
        "        rounded=True,\n",
        "        filled=True,\n",
        "        precision=4\n",
        "    )"
      ],
      "execution_count": 0,
      "outputs": []
    },
    {
      "cell_type": "code",
      "metadata": {
        "id": "7sodRzcdVOtq",
        "colab_type": "code",
        "colab": {}
      },
      "source": [
        "from google.colab import files\n",
        "files.download( \"tree_reg_quad_noise.dot\" )   "
      ],
      "execution_count": 0,
      "outputs": []
    },
    {
      "cell_type": "markdown",
      "metadata": {
        "id": "o_iQEUVHfVvQ",
        "colab_type": "text"
      },
      "source": [
        "A `Tree` resultante está mostrada abaixo:\n",
        "\n",
        "![tree](http://dfnae.fis.uerj.br/twiki/pub/DFNAE/ML4PPGF/tree_reg_quad_noise.png)"
      ]
    },
    {
      "cell_type": "markdown",
      "metadata": {
        "id": "tjPrS3pNg50y",
        "colab_type": "text"
      },
      "source": [
        "A `Tree` acima é bem similar à que obtivemos anteriormente. A principal diferença é que ao invés de prever uma classe em cada `node`, ela prevê **um valor**.\n",
        "\n",
        "Se quisermos prever um valor para uma nova instância, $x_1 = 0.6$.\n",
        "> percorremos a `Tree` do topo;\n",
        "\n",
        "> chegamos na `leaf` em que `value = 0.1106` ==> Esse valor é a média dos valores `targets` das 110 instâncias (`sample=110`) desse `node leaf`;\n",
        "\n",
        "> o erro associado a esse valor é o `Erro Quadrático Médio (MSE)`,  $\\left(\\sigma/\\sqrt{N}\\right)^2$. \n",
        "\n",
        "> No nosso exemplo $MSE = 0.0151$\n"
      ]
    },
    {
      "cell_type": "markdown",
      "metadata": {
        "id": "zVLxqNYhlykd",
        "colab_type": "text"
      },
      "source": [
        "Vamos visualizar as predições da nossa `Tree`, do modelo Quadrático com ruído, que geramos acima.\n",
        "\n",
        "Utilizamos duas configurações diferentes de hyperparâmetros."
      ]
    },
    {
      "cell_type": "code",
      "metadata": {
        "id": "W_azJjhnlkPK",
        "colab_type": "code",
        "outputId": "e9245aa8-1f2d-42e1-cecb-4a1177ba8ca6",
        "colab": {
          "base_uri": "https://localhost:8080/",
          "height": 307
        }
      },
      "source": [
        "from sklearn.tree import DecisionTreeRegressor\n",
        "\n",
        "tree_reg1 = DecisionTreeRegressor(random_state=42, max_depth=2)\n",
        "tree_reg2 = DecisionTreeRegressor(random_state=42, max_depth=3)\n",
        "tree_reg1.fit(X, y)\n",
        "tree_reg2.fit(X, y)\n",
        "\n",
        "def plot_regression_predictions(tree_reg, X, y, axes=[0, 1, -0.2, 1], ylabel=\"$y$\"):\n",
        "    x1 = np.linspace(axes[0], axes[1], 500).reshape(-1, 1)\n",
        "    y_pred = tree_reg.predict(x1)\n",
        "    plt.axis(axes)\n",
        "    plt.xlabel(\"$x_1$\", fontsize=18)\n",
        "    if ylabel:\n",
        "        plt.ylabel(ylabel, fontsize=18, rotation=0)\n",
        "    plt.plot(X, y, \"b.\")\n",
        "    plt.plot(x1, y_pred, \"r.-\", linewidth=2, label=r\"$\\hat{y}$\")\n",
        "\n",
        "plt.figure(figsize=(11, 4))\n",
        "plt.subplot(121)\n",
        "plot_regression_predictions(tree_reg1, X, y)\n",
        "for split, style in ((0.1973, \"k-\"), (0.0917, \"k--\"), (0.7718, \"k--\")):\n",
        "    plt.plot([split, split], [-0.2, 1], style, linewidth=2)\n",
        "plt.text(0.21, 0.65, \"Depth=0\", fontsize=15)\n",
        "plt.text(0.01, 0.2, \"Depth=1\", fontsize=13)\n",
        "plt.text(0.65, 0.8, \"Depth=1\", fontsize=13)\n",
        "plt.legend(loc=\"upper center\", fontsize=18)\n",
        "plt.title(\"max_depth=2\", fontsize=14)\n",
        "\n",
        "plt.subplot(122)\n",
        "plot_regression_predictions(tree_reg2, X, y, ylabel=None)\n",
        "for split, style in ((0.1973, \"k-\"), (0.0917, \"k--\"), (0.7718, \"k--\")):\n",
        "    plt.plot([split, split], [-0.2, 1], style, linewidth=2)\n",
        "for split in (0.0458, 0.1298, 0.2873, 0.9040):\n",
        "    plt.plot([split, split], [-0.2, 1], \"k:\", linewidth=1)\n",
        "plt.text(0.3, 0.5, \"Depth=2\", fontsize=13)\n",
        "plt.title(\"max_depth=3\", fontsize=14)\n",
        "\n",
        "#save_fig(\"tree_regression_plot\")\n",
        "plt.show()"
      ],
      "execution_count": 0,
      "outputs": [
        {
          "output_type": "display_data",
          "data": {
            "image/png": "[encoded data removed]",
            "text/plain": [
              "<Figure size 792x288 with 2 Axes>"
            ]
          },
          "metadata": {
            "tags": []
          }
        }
      ]
    },
    {
      "cell_type": "markdown",
      "metadata": {
        "id": "z44ouCKZq_Kw",
        "colab_type": "text"
      },
      "source": [
        "Note que os valores de predição equivalem à média dos valores das `targets` das instâncias de cada região."
      ]
    },
    {
      "cell_type": "markdown",
      "metadata": {
        "id": "zzlF8QkVqjWk",
        "colab_type": "text"
      },
      "source": [
        "**Exercício:** Generalize o script acima para pegar diretamente do objeto tree_ os valores de `threshold` de cada `node` e use esse valores para fazer a visualização da `Tree`."
      ]
    },
    {
      "cell_type": "markdown",
      "metadata": {
        "id": "3IdstmAfzK48",
        "colab_type": "text"
      },
      "source": [
        "### Overfitting na Regressão\n",
        "Assim como para Classificação, as `Decision Trees` estão sujeitas ao overfitting se não regularizarmos os hyperparâmetros."
      ]
    },
    {
      "cell_type": "code",
      "metadata": {
        "id": "Ck5mLEdbz0Ij",
        "colab_type": "code",
        "outputId": "b46e8b5b-27b3-4020-94ca-14f4c527ca40",
        "colab": {
          "base_uri": "https://localhost:8080/",
          "height": 307
        }
      },
      "source": [
        "tree_reg1 = DecisionTreeRegressor(random_state=42)\n",
        "tree_reg2 = DecisionTreeRegressor(random_state=42, min_samples_leaf=10)\n",
        "tree_reg1.fit(X, y)\n",
        "tree_reg2.fit(X, y)\n",
        "\n",
        "x1 = np.linspace(0, 1, 500).reshape(-1, 1)\n",
        "y_pred1 = tree_reg1.predict(x1)\n",
        "y_pred2 = tree_reg2.predict(x1)\n",
        "\n",
        "plt.figure(figsize=(11, 4))\n",
        "\n",
        "plt.subplot(121)\n",
        "plt.plot(X, y, \"b.\")\n",
        "plt.plot(x1, y_pred1, \"r.-\", linewidth=2, label=r\"$\\hat{y}$\")\n",
        "plt.axis([0, 1, -0.2, 1.1])\n",
        "plt.xlabel(\"$x_1$\", fontsize=18)\n",
        "plt.ylabel(\"$y$\", fontsize=18, rotation=0)\n",
        "plt.legend(loc=\"upper center\", fontsize=18)\n",
        "plt.title(\"No restrictions\", fontsize=14)\n",
        "\n",
        "plt.subplot(122)\n",
        "plt.plot(X, y, \"b.\")\n",
        "plt.plot(x1, y_pred2, \"r.-\", linewidth=2, label=r\"$\\hat{y}$\")\n",
        "plt.axis([0, 1, -0.2, 1.1])\n",
        "plt.xlabel(\"$x_1$\", fontsize=18)\n",
        "plt.title(\"min_samples_leaf={}\".format(tree_reg2.min_samples_leaf), fontsize=14)\n",
        "\n",
        "#save_fig(\"tree_regression_regularization_plot\")\n",
        "plt.show()"
      ],
      "execution_count": 0,
      "outputs": [
        {
          "output_type": "display_data",
          "data": {
            "image/png": "[encoded data removed]",
            "text/plain": [
              "<Figure size 792x288 with 2 Axes>"
            ]
          },
          "metadata": {
            "tags": []
          }
        }
      ]
    },
    {
      "cell_type": "markdown",
      "metadata": {
        "id": "hjZGIW6n1MRW",
        "colab_type": "text"
      },
      "source": [
        "**Exercício:** Tente diferentes configurações de hyperparâmetros e veja como a `Tree` se comporta."
      ]
    },
    {
      "cell_type": "markdown",
      "metadata": {
        "id": "TneUEk-U1YRJ",
        "colab_type": "text"
      },
      "source": [
        "### Instabilidade\n",
        "\n",
        "As `Decision Trees` são muito sensíveis a variações do conjunto de dados de treino.\n",
        "\n",
        "Por exemplo, vejamos o que acontece se retirarmos do conjunto de dados de treino das flores íris com o qual começamos essa aula, a íris-Versicolor com maior largura."
      ]
    },
    {
      "cell_type": "code",
      "metadata": {
        "id": "zneEE8V82mLQ",
        "colab_type": "code",
        "outputId": "78fb166d-53dc-4497-89fb-6af3a5ed5c41",
        "colab": {
          "base_uri": "https://localhost:8080/",
          "height": 34
        }
      },
      "source": [
        "X = iris.data[:, 2:] # petal length and width\n",
        "y = iris.target\n",
        "\n",
        "X[(X[:, 1]==X[:, 1][y==1].max()) & (y==1)] # widest Iris-Versicolor flower"
      ],
      "execution_count": 0,
      "outputs": [
        {
          "output_type": "execute_result",
          "data": {
            "text/plain": [
              "array([[4.8, 1.8]])"
            ]
          },
          "metadata": {
            "tags": []
          },
          "execution_count": 121
        }
      ]
    },
    {
      "cell_type": "code",
      "metadata": {
        "id": "37rftKWg28xk",
        "colab_type": "code",
        "outputId": "00d1122a-0cbc-4865-aba5-3b1e3328d11b",
        "colab": {
          "base_uri": "https://localhost:8080/",
          "height": 119
        }
      },
      "source": [
        "not_widest_versicolor = (X[:, 1]!=1.8) | (y==2)\n",
        "X_tweaked = X[not_widest_versicolor]\n",
        "y_tweaked = y[not_widest_versicolor]\n",
        "\n",
        "tree_clf_tweaked = DecisionTreeClassifier(max_depth=2, random_state=40)\n",
        "#tree_clf_tweaked.fit(X_tweaked, y_tweaked)\n",
        "tree_clf_tweaked.fit(X,y)"
      ],
      "execution_count": 0,
      "outputs": [
        {
          "output_type": "execute_result",
          "data": {
            "text/plain": [
              "DecisionTreeClassifier(class_weight=None, criterion='gini', max_depth=2,\n",
              "                       max_features=None, max_leaf_nodes=None,\n",
              "                       min_impurity_decrease=0.0, min_impurity_split=None,\n",
              "                       min_samples_leaf=1, min_samples_split=2,\n",
              "                       min_weight_fraction_leaf=0.0, presort=False,\n",
              "                       random_state=40, splitter='best')"
            ]
          },
          "metadata": {
            "tags": []
          },
          "execution_count": 138
        }
      ]
    },
    {
      "cell_type": "code",
      "metadata": {
        "id": "j39Sx9-L8AJv",
        "colab_type": "code",
        "outputId": "8dd1560c-852a-4def-f43e-c576cfc041b6",
        "colab": {
          "base_uri": "https://localhost:8080/",
          "height": 291
        }
      },
      "source": [
        "plt.figure(figsize=(8, 4))\n",
        "plot_decision_boundary(tree_clf_tweaked, X_tweaked, y_tweaked, legend=False)\n",
        "plt.plot([0, 7.5], [0.8, 0.8], \"k-\", linewidth=2)\n",
        "plt.plot([0, 7.5], [1.75, 1.75], \"k--\", linewidth=2)\n",
        "plt.text(1.0, 0.9, \"Depth=0\", fontsize=15)\n",
        "plt.text(1.0, 1.80, \"Depth=1\", fontsize=13)\n",
        "\n",
        "#save_fig(\"decision_tree_instability_plot\")\n",
        "pyp.show()"
      ],
      "execution_count": 0,
      "outputs": [
        {
          "output_type": "display_data",
          "data": {
            "image/png": "[encoded data removed]",
            "text/plain": [
              "<Figure size 576x288 with 1 Axes>"
            ]
          },
          "metadata": {
            "tags": []
          }
        }
      ]
    },
    {
      "cell_type": "markdown",
      "metadata": {
        "id": "Wyv6wcWiYQBX",
        "colab_type": "text"
      },
      "source": [
        "### Exercícios (livro, capítulo 6):\n",
        "\n",
        "7. Treine e ajuste a `Decision Tree` do conjunto de dados de \"luas\" (*moon's dataset*).\n",
        "\n",
        "   1. Gere o conjunto de dados de \"luas\" usando `make_moons(n_samples=10000, noise=0.4)`;\n",
        "   \n",
        "   1. Divida-o em um conjunto de treino e um de teste, usando a função `train_test_split()`;\n",
        "   \n",
        "   1. Use o método de busca com validação cruzada (*grid search with cross-validation*), com a ajuda da classe `GridSearchCV` para encontrar bons valores de hyperparâmetros para um `DecisionTreeClassifier`. Dica: tente diferentes valores para `max_leaf_nodes`;\n",
        "   \n",
        "   1. Treine o estimador no conjunto de dados completo usando esses hyperparâmetros e meça o desempenho do seu modelo no conjunto de dados de teste. Você deve obter uma acurácia de aproximadamente 85% a 87%.\n",
        "   \n",
        "   \n",
        "8. Faça crescer uma floresta.\n",
        "\n",
        "   1. Continuando do exercício anterior, gere 1000 sub-conjuntos do conjunto de treinamento, cada sub-conjunto contendo 100 instâncias selecionadas aleatoriamente. Dica: você pode usar a classe do scikit-learn, `ShuffleSplit`;\n",
        "   \n",
        "   1. Treine uma `Decision Tree` em cada sub-conjunto, usando os melhores valores de hyperparâmetro encontrados no exercício anterior. Estime o desempenho desses 1000 conjuntos de treinamento no conjunto de teste (como eles foram treinados em um número menor de amostras, a performance será um pouco pior do que a encontrada no exercício anterior, com uma acurácia em torno de 80%);\n",
        "   \n",
        "   1. Para cada instância do conjunto de teste, gere as predições das 1000 `Decision Trees` e só guarde as predições mais frequentes (você pode usar a função `mode()` do  SciPy). Isso fornece o que é conhecido como *majority vote predictions* do conjunto de teste;\n",
        "   \n",
        "   1. Estime as predições no conjunto de teste: você deve obteve no conjunto de teste: a acurácia deve ser um pouco maior que a do item anterior (da ordem de 0.5 a 1.5%). **Parabéns!** Você treinou um classificador `Random Forest`! :-)"
      ]
    },
    {
      "cell_type": "markdown",
      "metadata": {
        "id": "Akm1iQguaPZi",
        "colab_type": "text"
      },
      "source": [
        "## Referências\n",
        "\n",
        "* Como acessar a **estrutura** da Decision Tree no ***scikit-learn***: https://scikit-learn.org/stable/auto_examples/tree/plot_unveil_tree_structure.html#sphx-glr-auto-examples-tree-plot-unveil-tree-structure-py"
      ]
    }
  ]
}