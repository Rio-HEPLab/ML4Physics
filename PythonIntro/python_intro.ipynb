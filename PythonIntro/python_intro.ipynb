{
 "cells": [
  {
   "cell_type": "markdown",
   "metadata": {},
   "source": [
    "# O que é Python?\n",
    "\n",
    "Python é uma linguagem de programação de alto nível, orientada a objetos, moderna e de propósito geral.\n",
    "\n",
    "#### Características gerais de Python:\n",
    "\n",
    "   * **linguagem simples e limpa**: código intuitivo e fácil de ler, sintaxe minimalista de fácil aprendizado, capacidade de manutenção escalável bem com o tamanho dos projetos.\n",
    "   * **linguagem expressiva**: Menos linhas de código, menos bugs, mais fáceis de manter.\n",
    "   \n",
    "#### Detalhes técnicos:\n",
    "\n",
    "   * **Digitado dinamicamente**: Não há necessidade de definir o tipo de variáveis, argumentos de função ou tipos de retorno.\n",
    "   * **Gerenciamento automático de memória**: Não é necessário alocar e desalocar explicitamente a memória para variáveis e matrizes de dados. Não há vazamentos de memória (memory leak bugs).\n",
    "   * **interpretado**: Não há necessidade de compilar o código. O interpretador Python lê e executa o código python diretamente.\n",
    "\n",
    "#### Vantagens:\n",
    "\n",
    "   * A principal vantagem é a facilidade de programação, minimizando o tempo necessário para desenvolver, *debugar* (procurar por erros no programa) e manter o código.\n",
    "   * Linguagem bem projetada que incentiva muitas boas práticas de programação:\n",
    "      * Programação modular e orientada a objetos, bom sistema para empacotamento e reutilização de código. Isso geralmente resulta em código mais transparente, sustentável e livre de bugs.\n",
    "      * Documentação totalmente integrada com o código.\n",
    "      * Uma grande biblioteca padrão e uma grande coleção de pacotes complementares.\n",
    "   * Muita documentação disponível!\n",
    "      \n",
    "#### Desvantagens:\n",
    "\n",
    "   * Como o Python é uma linguagem de programação interpretada e dinamicamente digitada, a execução do código python pode ser lenta em comparação com as linguagens de programação compiladas estaticamente, como C e Fortran."
   ]
  },
  {
   "cell_type": "code",
   "execution_count": 5,
   "metadata": {},
   "outputs": [],
   "source": [
    "import antigravity"
   ]
  },
  {
   "cell_type": "markdown",
   "metadata": {},
   "source": [
    "# Por que Python?\n",
    "\n",
    "## Popularidade de Python no mundo\n",
    "últimos cinco anos (set. 2018)\n",
    "![title](pics/python_trend.png)\n",
    "\n",
    "**Python foi a linguagem de programação que mais cresceu no mundo nos últimos 5 anos (14,5%) e php foi a que mais decresceu (-6,5%)**\n",
    "\n",
    "http://pypl.github.io/PYPL.html"
   ]
  },
  {
   "cell_type": "markdown",
   "metadata": {},
   "source": [
    "# A linguagem de programação Python\n",
    "\n",
    "   * Python é um exemplo de uma linguagem de programação de **alto nível**; \n",
    "   \n",
    "   \n",
    "   * Exemplos de outras linguagens de alto nível: C, C ++, Perl e Java.\n",
    "   \n",
    "   \n",
    "   * Linguagens de programação de **baixo nível**: \"linguagens de máquina\" ou \"linguagens de montagem\" (assembly language).\n",
    "      * Posto de forma não muito rígida, os computadores só podem executar programas escritos em linguagens de baixo nível. \n",
    "      * Os programas escritos em uma linguagem de alto nível precisam ser *processados* antes de poderem ser *executados*. \n",
    "      * Esse processamento extra leva algum tempo, o que é uma pequena desvantagem das linguagens de alto nível.\n",
    "   \n",
    "#### As vantagens de um programa de alto nível:\n",
    "   \n",
    "   * É muito mais fácil de programar. \n",
    "  \n",
    "  \n",
    "   * Demora menos tempo para ser escrito, é mais curto e fácil de ler, além de ter maior probabilidade de estar correto. \n",
    "   \n",
    "   \n",
    "   * É **portátil**: pode ser executado em diferentes tipos de computadores com poucas ou nenhuma modificação.\n",
    "   \n",
    "   \n",
    "   * Programas de **baixo nível** podem ser executados em apenas **um tipo de computador** e precisam ser reescritos para serem executados em outro.\n",
    "   \n",
    "   \n",
    "   * Por conta dessas vantagens quase todos os programas são escritos em linguagem de alto nível, a não ser aplicações específicas que necessitam linguagem de baixo nível."
   ]
  },
  {
   "cell_type": "markdown",
   "metadata": {},
   "source": [
    "### Interpretadores e compiladores\n",
    "\n",
    "São dois tipos de programas que processam linguagem de alto nível em linguagem de baixo nível. \n",
    "\n",
    "#### Interpretador:\n",
    "\n",
    "   * Lê um programa de alto nível e o executa: faz o que o programa comanda. \n",
    "   \n",
    "   \n",
    "   * Processa o programa um pouco por vez, lendo linhas e realizando cálculos alternadamente.\n",
    "   \n",
    "   <img src=\"pics/python_interpretor.png\" style=\"max-width:40%; width: 40%\">"
   ]
  },
  {
   "cell_type": "markdown",
   "metadata": {},
   "source": [
    "#### Compilador:\n",
    "   \n",
    "* Lê o programa por completo e traduz antes de executar.     \n",
    "\n",
    "\n",
    "* O programa de alto nível é chamado de **código-fonte** e o programa traduzido é chamado de **código-objeto** ou **executável**. \n",
    "\n",
    "\n",
    "* Depois que um programa é compilado, você pode executá-lo repetidamente sem mais traduções.\n",
    "\n",
    "<img src=\"pics/python_compiler.png\" style=\"max-width:50%; width: 50%\">"
   ]
  },
  {
   "cell_type": "markdown",
   "metadata": {},
   "source": [
    "# Python: uma linguagem interpretada\n",
    "\n",
    "#### Interpretador de Python\n",
    "\n",
    "   * modo imediato (prompt)\n",
    "   * modo script\n",
    "\n",
    "### Interpretador de Python Modo Prompt\n",
    "\n",
    "   * abrir um terminal de Linux (com Python previamente instalado)\n",
    "   * python\n",
    "   * para sair: ctrl + D\n",
    "   * Para Windows, você pode usar o PyScripter para acessar o prompt ou rodar um script.\n",
    "   \n",
    "   <img src=\"pics/terminal.png\" style=\"max-width:50%; width: 50%\">   "
   ]
  },
  {
   "cell_type": "code",
   "execution_count": 1,
   "metadata": {},
   "outputs": [
    {
     "data": {
      "text/plain": [
       "27"
      ]
     },
     "execution_count": 1,
     "metadata": {},
     "output_type": "execute_result"
    }
   ],
   "source": [
    "3*(7+2)"
   ]
  },
  {
   "cell_type": "markdown",
   "metadata": {
    "slideshow": {
     "slide_type": "slide"
    }
   },
   "source": [
    "# Rodando Python -- Rodando programas\n",
    "\n",
    "* execute seu programa:\n",
    "<img src=\"pythonProgram.png\" alt=\"\" style=\"width: 400px;\"/>\n",
    "\n",
    "* ou torne seu programa executável adicionando a seguinte linha no topo do seu programa (altamente dependende de plataforma): ** #!/usr/bin/env **"
   ]
  },
  {
   "cell_type": "markdown",
   "metadata": {
    "slideshow": {
     "slide_type": "slide"
    }
   },
   "source": [
    "# Um exemplo de código\n",
    "\n"
   ]
  },
  {
   "cell_type": "code",
   "execution_count": 3,
   "metadata": {},
   "outputs": [
    {
     "name": "stdout",
     "output_type": "stream",
     "text": [
      "12\n",
      "Podemos imprimir a frase: \"Hello World!\"\n"
     ]
    }
   ],
   "source": [
    "x = 34 - 23                      # comentário\n",
    "\n",
    "y = \"Hello\"                      # outro comentário\n",
    "\n",
    "z = 3.45\n",
    "\n",
    "if z == 3.45 or y == \"Hello\":\n",
    "    x = x + 1\n",
    "    y = y + \" World!\"            # concatenação de string\n",
    "    \n",
    "print (x)\n",
    "print ('Podemos imprimir a frase: \"%s\"' % y)  #formatação de string"
   ]
  },
  {
   "cell_type": "markdown",
   "metadata": {
    "slideshow": {
     "slide_type": "slide"
    }
   },
   "source": [
    "\n",
    "* **atribuição de valores** com **'='** e comparações com **'=='**\n",
    "* para números, o uso dos operadores **'+ - * / %'** é como o esperado\n",
    "  * uso especial do operador **'+'** para concatenação de string\n",
    "  * uso especial de **'%'** para formatação de string\n",
    "* **operadores lógicos** são palavras (**and**, **or**, **not** ) e não símbolos\n",
    "* comando básico para imprimir na tela é a função **<font color='red'>print</font>**\n",
    "* tipagem **dinâmica**: uma variável é criada em sua primeira atribuição\n",
    "   * os tipos das variáveis não precisam ser declarados\n",
    "   * o Python reconhece sozinho o tipo de cada variável\n"
   ]
  },
  {
   "cell_type": "markdown",
   "metadata": {
    "slideshow": {
     "slide_type": "slide"
    }
   },
   "source": [
    "# Tipos de dados simples em Python\n",
    "\n",
    "* **Inteiros**"
   ]
  },
  {
   "cell_type": "code",
   "execution_count": 8,
   "metadata": {
    "slideshow": {
     "slide_type": "fragment"
    }
   },
   "outputs": [
    {
     "name": "stdout",
     "output_type": "stream",
     "text": [
      "2.5 2\n"
     ]
    }
   ],
   "source": [
    "z = 5/2     # divisão de número inteiro em Python 3\n",
    "t = int(5/2)\n",
    "print (z, t)"
   ]
  },
  {
   "cell_type": "markdown",
   "metadata": {
    "slideshow": {
     "slide_type": "fragment"
    }
   },
   "source": [
    "* **Floats**\n",
    "x = 3.456"
   ]
  },
  {
   "cell_type": "markdown",
   "metadata": {
    "slideshow": {
     "slide_type": "fragment"
    }
   },
   "source": [
    "* **Strings**"
   ]
  },
  {
   "cell_type": "code",
   "execution_count": 7,
   "metadata": {
    "slideshow": {
     "slide_type": "fragment"
    }
   },
   "outputs": [
    {
     "name": "stdout",
     "output_type": "stream",
     "text": [
      "abc, abc, abc\n"
     ]
    }
   ],
   "source": [
    "s = 'abc'\n",
    "st = \"abc\"\n",
    "stri = \"\"\"abc\"\"\"\n",
    "print ('%s, %s, %s' % (s, st, stri))"
   ]
  },
  {
   "cell_type": "markdown",
   "metadata": {
    "slideshow": {
     "slide_type": "slide"
    }
   },
   "source": [
    "**Tratamento de nomenclatura das variáveis em Python**"
   ]
  },
  {
   "cell_type": "markdown",
   "metadata": {},
   "source": [
    "## Objetos e referências\n",
    "\n",
    "Se executarmos os seguintes comandos:"
   ]
  },
  {
   "cell_type": "code",
   "execution_count": 17,
   "metadata": {},
   "outputs": [],
   "source": [
    "a = \"objeto\"\n",
    "b = \"objeto\""
   ]
  },
  {
   "cell_type": "markdown",
   "metadata": {},
   "source": [
    "Sabemos que ***a*** e ***b*** se referirão a uma ***string*** mas não sabemos se eles apontam para o mesmo objeto de Python.\n",
    "\n",
    "O interpretador pode organizar sua memória de duas maneiras:\n",
    "\n",
    "* referir ***a*** e ***b*** a dois objetos distintos com os mesmos valores\n",
    "* referir ***a*** e ***b*** ao mesmo objeto\n",
    "\n",
    "![refstring](pics/ref_string.png)\n",
    "\n",
    "Podemos testar se duas variáveis se referem ao mesmo objeto:"
   ]
  },
  {
   "cell_type": "code",
   "execution_count": 18,
   "metadata": {},
   "outputs": [
    {
     "data": {
      "text/plain": [
       "True"
      ]
     },
     "execution_count": 18,
     "metadata": {},
     "output_type": "execute_result"
    }
   ],
   "source": [
    "a is b"
   ]
  },
  {
   "cell_type": "markdown",
   "metadata": {},
   "source": [
    "Nesse caso, ***a*** e ***b*** têm o mesmo valor mas não se referem ao mesmo objeto.\n",
    "\n",
    "![refstring](pics/ref_list.png)\n",
    "\n",
    "## Alias\n",
    "\n",
    "Podemos forçar ***a*** e ***b*** a se referirem ao mesmo objeto. Com isso, criamos um **alias** (apelido)."
   ]
  },
  {
   "cell_type": "code",
   "execution_count": 19,
   "metadata": {},
   "outputs": [
    {
     "data": {
      "text/plain": [
       "False"
      ]
     },
     "execution_count": 19,
     "metadata": {},
     "output_type": "execute_result"
    }
   ],
   "source": [
    "a = [4, 5, 6]\n",
    "b = [4, 5, 6]\n",
    "a is b"
   ]
  },
  {
   "cell_type": "code",
   "execution_count": 20,
   "metadata": {},
   "outputs": [
    {
     "data": {
      "text/plain": [
       "True"
      ]
     },
     "execution_count": 20,
     "metadata": {},
     "output_type": "execute_result"
    }
   ],
   "source": [
    "a = b\n",
    "a is b"
   ]
  },
  {
   "cell_type": "code",
   "execution_count": 21,
   "metadata": {},
   "outputs": [
    {
     "name": "stdout",
     "output_type": "stream",
     "text": [
      "a =  [4, 5, 6, 88] , b =  [4, 5, 6, 88]\n"
     ]
    }
   ],
   "source": [
    "a.append(88)\n",
    "print('a = ', a, ', b = ', b)"
   ]
  },
  {
   "cell_type": "markdown",
   "metadata": {},
   "source": [
    "### O que aconteceu???\n",
    "\n",
    "![difflists](pics/diff_lists.png)\n",
    "![samelists](pics/same_lists.png)\n",
    "\n",
    "\n",
    "### Recomendações em relação a **aliases**:\n",
    "Em geral, é mais seguro evitar fazer um **alias** de objetos **mutáveis**, como listas. Para objetos **imutáveis**, como strings, não há restrições de se fazer **aliases**.\n",
    "\n",
    "## Clonagem de listas\n",
    "\n",
    "Se quisermos modificar uma lista e ao mesmo tempo mantermos uma cópia inalterada dessa lista, devemos **cloná-la**:"
   ]
  },
  {
   "cell_type": "code",
   "execution_count": 22,
   "metadata": {},
   "outputs": [
    {
     "data": {
      "text/plain": [
       "[1, 2, 3]"
      ]
     },
     "execution_count": 22,
     "metadata": {},
     "output_type": "execute_result"
    }
   ],
   "source": [
    "lista = [1, 2, 3]\n",
    "clone_lista = lista[:]\n",
    "clone_lista"
   ]
  },
  {
   "cell_type": "markdown",
   "metadata": {},
   "source": [
    "Podemos então criar uma nova lista ao tomar uma **fatia** de **toda a lista**.\n",
    "\n",
    "![reflist](pics/ref_list.png)\n",
    "\n",
    "\n",
    "E agora, como cada uma das listas é uma referência a um objeto diferente, podemos modificar uma variável, sem modificar a outra:"
   ]
  },
  {
   "cell_type": "code",
   "execution_count": 23,
   "metadata": {},
   "outputs": [
    {
     "name": "stdout",
     "output_type": "stream",
     "text": [
      "a:  [1, 2, 3, 88] , b:  [1, 2, 3]\n",
      "a:  [1, 2, 3, 88] , b:  [1, 2, 199]\n"
     ]
    }
   ],
   "source": [
    "a = [1, 2, 3]\n",
    "b = a[:]\n",
    "a.append(88)\n",
    "print ('a: ', a, ', b: ', b)\n",
    "\n",
    "b[2] = 199\n",
    "print ('a: ', a, ', b: ', b)"
   ]
  },
  {
   "cell_type": "markdown",
   "metadata": {
    "slideshow": {
     "slide_type": "slide"
    }
   },
   "source": [
    "# Tipos de Sequências: Tuplas, Listas e Strings"
   ]
  },
  {
   "cell_type": "markdown",
   "metadata": {
    "slideshow": {
     "slide_type": "slide"
    }
   },
   "source": [
    "* <font color=red> Tupla </font>  \n",
    "   * Uma sequência simples e imutável de ítens.\n",
    "   * Ítens podem ser de tipos mistos, incluindo sequências de tipos "
   ]
  },
  {
   "cell_type": "markdown",
   "metadata": {
    "slideshow": {
     "slide_type": "fragment"
    }
   },
   "source": [
    "* <font color=red> Strings </font>\n",
    "   * Imutável\n",
    "   * conceitualmente muito parecida com uma Tupla"
   ]
  },
  {
   "cell_type": "markdown",
   "metadata": {
    "slideshow": {
     "slide_type": "fragment"
    }
   },
   "source": [
    "* <font color=red> Lista </font>\n",
    "   * Mutável, uma sequência ordenada de tipos mistos"
   ]
  },
  {
   "cell_type": "markdown",
   "metadata": {
    "slideshow": {
     "slide_type": "slide"
    }
   },
   "source": [
    "* Todos os três tipos de sequência compartilham bastante da mesma sintaxe e funcionalidade\n",
    "\n",
    "\n",
    "* Diferenças mais importantes:\n",
    "   * tuplas e strings são imutáveis\n",
    "   * listas são mutáveis\n",
    "\n",
    "\n",
    "* Os exemplos que mostraremos podem ser aplicados a todos os tipos de sequência"
   ]
  },
  {
   "cell_type": "markdown",
   "metadata": {
    "slideshow": {
     "slide_type": "slide"
    }
   },
   "source": [
    "# Tipos de Sequências: Definições\n",
    "\n",
    "* Tuplas são definidas usando parênteses (e vírgulas)."
   ]
  },
  {
   "cell_type": "code",
   "execution_count": 31,
   "metadata": {
    "collapsed": true,
    "slideshow": {
     "slide_type": "fragment"
    }
   },
   "outputs": [],
   "source": [
    "tupla = (3, 'abc', 4.56, (2, 23), 'k')"
   ]
  },
  {
   "cell_type": "markdown",
   "metadata": {
    "slideshow": {
     "slide_type": "fragment"
    }
   },
   "source": [
    "* Listas são definidas usando colchete (e vírgulas)."
   ]
  },
  {
   "cell_type": "code",
   "execution_count": 20,
   "metadata": {
    "collapsed": true,
    "slideshow": {
     "slide_type": "fragment"
    }
   },
   "outputs": [],
   "source": [
    "lista = ['abc', 34, 3.1415, 23]"
   ]
  },
  {
   "cell_type": "markdown",
   "metadata": {
    "slideshow": {
     "slide_type": "fragment"
    }
   },
   "source": [
    "* Strings são definidas usando aspas"
   ]
  },
  {
   "cell_type": "code",
   "execution_count": 33,
   "metadata": {
    "collapsed": true,
    "slideshow": {
     "slide_type": "fragment"
    }
   },
   "outputs": [],
   "source": [
    "st = 'Hello'\n",
    "st = \"Hello\"\n",
    "st = \"\"\"Hello\"\"\""
   ]
  },
  {
   "cell_type": "markdown",
   "metadata": {
    "slideshow": {
     "slide_type": "slide"
    }
   },
   "source": [
    "# Tipos de Sequências: acessando membros\n",
    "\n",
    "* Membros individuais de uma **tupla**, **lista** ou **string** podem ser acessados usando uma notação de colchete.\n",
    "* Os tipos de sequências são todos baseados no 0 (zero), os índices são contados a partir do 0."
   ]
  },
  {
   "cell_type": "code",
   "execution_count": 45,
   "metadata": {
    "slideshow": {
     "slide_type": "fragment"
    }
   },
   "outputs": [
    {
     "name": "stdout",
     "output_type": "stream",
     "text": [
      "abc\n"
     ]
    }
   ],
   "source": [
    "tupla = (3, 'abc', 4.56, (2, 23), 'k')\n",
    "print (tupla[1])"
   ]
  },
  {
   "cell_type": "code",
   "execution_count": 47,
   "metadata": {
    "slideshow": {
     "slide_type": "fragment"
    }
   },
   "outputs": [
    {
     "name": "stdout",
     "output_type": "stream",
     "text": [
      "34\n"
     ]
    }
   ],
   "source": [
    "lista = ['abc', 34, 3.1415, 23]\n",
    "print (lista[1])"
   ]
  },
  {
   "cell_type": "code",
   "execution_count": 48,
   "metadata": {
    "slideshow": {
     "slide_type": "fragment"
    }
   },
   "outputs": [
    {
     "name": "stdout",
     "output_type": "stream",
     "text": [
      "e\n"
     ]
    }
   ],
   "source": [
    "st = 'Hello'\n",
    "print (st[1])"
   ]
  },
  {
   "cell_type": "markdown",
   "metadata": {
    "slideshow": {
     "slide_type": "slide"
    }
   },
   "source": [
    "# Tipos de Sequências: índices negativos\n",
    "\n",
    "* índice positivo: contar da esquerda para a direita, começando do zero\n",
    "* índice negativo: contar da direita para a esquerda, começando do -1."
   ]
  },
  {
   "cell_type": "code",
   "execution_count": 49,
   "metadata": {
    "slideshow": {
     "slide_type": "fragment"
    }
   },
   "outputs": [
    {
     "name": "stdout",
     "output_type": "stream",
     "text": [
      "abc\n"
     ]
    }
   ],
   "source": [
    "tupla = (3, 'abc', 4.56, (2, 23), 'k')\n",
    "print (tupla[1])"
   ]
  },
  {
   "cell_type": "code",
   "execution_count": 50,
   "metadata": {
    "slideshow": {
     "slide_type": "fragment"
    }
   },
   "outputs": [
    {
     "name": "stdout",
     "output_type": "stream",
     "text": [
      "k\n"
     ]
    }
   ],
   "source": [
    "print (tupla[-1])"
   ]
  },
  {
   "cell_type": "markdown",
   "metadata": {
    "slideshow": {
     "slide_type": "slide"
    }
   },
   "source": [
    "# Tipos de Sequências: fatiamento (\"slicing\")\n",
    "\n",
    "* Você pode retornar uma cópia do container (lista, tupla, string, ...) com um sub-conjunto dos membros originais, usando uma notação de cólon (dois pontos)."
   ]
  },
  {
   "cell_type": "code",
   "execution_count": 51,
   "metadata": {
    "slideshow": {
     "slide_type": "fragment"
    }
   },
   "outputs": [
    {
     "name": "stdout",
     "output_type": "stream",
     "text": [
      "('abc', 4.56, (2, 23))\n"
     ]
    }
   ],
   "source": [
    "tupla = (3, 'abc', 4.56, (2, 23), 'k')\n",
    "print (tupla[1:4])"
   ]
  },
  {
   "cell_type": "code",
   "execution_count": 52,
   "metadata": {
    "slideshow": {
     "slide_type": "fragment"
    }
   },
   "outputs": [
    {
     "name": "stdout",
     "output_type": "stream",
     "text": [
      "('abc', 4.56, (2, 23))\n"
     ]
    }
   ],
   "source": [
    "print (tupla[1:-1])"
   ]
  },
  {
   "cell_type": "markdown",
   "metadata": {
    "slideshow": {
     "slide_type": "slide"
    }
   },
   "source": [
    "# Tuplas Vs. Listas\n",
    "\n",
    "* **Listas** são mais lentas, porém mais poderosas do que as **tuplas**\n",
    "   * As **listas** podem ser modificadas e têm várias operações úteis que podemos fazer com elas (_reverse, sort, count, remove, index, insert_, ...)\n",
    "   * As **tuplas** são imutáveis e têm menos funcionalidades.\n",
    "   \n",
    "   \n",
    "* Podemos converter listas e tuplas com as funções **_list()_** e **_tuple()_**"
   ]
  },
  {
   "cell_type": "code",
   "execution_count": 13,
   "metadata": {
    "slideshow": {
     "slide_type": "fragment"
    }
   },
   "outputs": [
    {
     "data": {
      "text/plain": [
       "[3, 'abc', 4.56, (2, 23), 'k']"
      ]
     },
     "execution_count": 13,
     "metadata": {},
     "output_type": "execute_result"
    }
   ],
   "source": [
    "list(tupla)"
   ]
  },
  {
   "cell_type": "markdown",
   "metadata": {
    "slideshow": {
     "slide_type": "slide"
    }
   },
   "source": [
    "# Mais um tipo de dados: dicionários\n",
    "\n",
    "* Dicionários são containers que armazenam um **mapeamento** entre um conjunto de **_chaves_** (keys) e um conjunto de **_valores_**\n",
    "   * Chaves podem ser qualquer tipo **imutável**.\n",
    "   * Valores podem ser qualquer tipo.\n",
    "   * Um único dicionário pode guardar valores de tipos diferentes.\n",
    "   \n",
    "   \n",
    "* O usuário pode modificar, ver, procurar e deletar o par chave-valor no dicionário."
   ]
  },
  {
   "cell_type": "markdown",
   "metadata": {
    "slideshow": {
     "slide_type": "slide"
    }
   },
   "source": [
    "# Exemplos de dicionários"
   ]
  },
  {
   "cell_type": "code",
   "execution_count": 14,
   "metadata": {
    "slideshow": {
     "slide_type": "fragment"
    }
   },
   "outputs": [
    {
     "data": {
      "text/plain": [
       "'bozo'"
      ]
     },
     "execution_count": 14,
     "metadata": {},
     "output_type": "execute_result"
    }
   ],
   "source": [
    "d = {'user': 'bozo', 'pwd': 1234}          # criação de um dicionário\n",
    "d['user']"
   ]
  },
  {
   "cell_type": "code",
   "execution_count": 15,
   "metadata": {
    "slideshow": {
     "slide_type": "fragment"
    }
   },
   "outputs": [
    {
     "data": {
      "text/plain": [
       "1234"
      ]
     },
     "execution_count": 15,
     "metadata": {},
     "output_type": "execute_result"
    }
   ],
   "source": [
    "d['pwd']"
   ]
  },
  {
   "cell_type": "code",
   "execution_count": 16,
   "metadata": {
    "slideshow": {
     "slide_type": "fragment"
    }
   },
   "outputs": [
    {
     "ename": "KeyError",
     "evalue": "'bozo'",
     "output_type": "error",
     "traceback": [
      "\u001b[0;31m---------------------------------------------------------------------------\u001b[0m",
      "\u001b[0;31mKeyError\u001b[0m                                  Traceback (most recent call last)",
      "\u001b[0;32m<ipython-input-16-c8479a31e72b>\u001b[0m in \u001b[0;36m<module>\u001b[0;34m()\u001b[0m\n\u001b[0;32m----> 1\u001b[0;31m \u001b[0md\u001b[0m\u001b[0;34m[\u001b[0m\u001b[0;34m'bozo'\u001b[0m\u001b[0;34m]\u001b[0m\u001b[0;34m\u001b[0m\u001b[0m\n\u001b[0m",
      "\u001b[0;31mKeyError\u001b[0m: 'bozo'"
     ]
    }
   ],
   "source": [
    "d['bozo']"
   ]
  },
  {
   "cell_type": "code",
   "execution_count": 17,
   "metadata": {
    "slideshow": {
     "slide_type": "fragment"
    }
   },
   "outputs": [
    {
     "name": "stdout",
     "output_type": "stream",
     "text": [
      "{'user': 'bozo', 'pwd': 1234}\n"
     ]
    }
   ],
   "source": [
    "print (d)"
   ]
  },
  {
   "cell_type": "code",
   "execution_count": 18,
   "metadata": {
    "slideshow": {
     "slide_type": "slide"
    }
   },
   "outputs": [
    {
     "data": {
      "text/plain": [
       "{'pwd': 1234, 'user': 'clown'}"
      ]
     },
     "execution_count": 18,
     "metadata": {},
     "output_type": "execute_result"
    }
   ],
   "source": [
    "d['user'] = 'clown'\n",
    "d"
   ]
  },
  {
   "cell_type": "code",
   "execution_count": 19,
   "metadata": {
    "slideshow": {
     "slide_type": "fragment"
    }
   },
   "outputs": [
    {
     "data": {
      "text/plain": [
       "{'id': 45, 'pwd': 1234, 'user': 'clown'}"
      ]
     },
     "execution_count": 19,
     "metadata": {},
     "output_type": "execute_result"
    }
   ],
   "source": [
    "d['id'] = 45\n",
    "d"
   ]
  },
  {
   "cell_type": "code",
   "execution_count": 26,
   "metadata": {
    "slideshow": {
     "slide_type": "fragment"
    }
   },
   "outputs": [
    {
     "data": {
      "text/plain": [
       "{'id': 45, 'pwd': 1234}"
      ]
     },
     "execution_count": 26,
     "metadata": {},
     "output_type": "execute_result"
    }
   ],
   "source": [
    "del d['user']           # remover um ítem do dicionário\n",
    "d"
   ]
  },
  {
   "cell_type": "code",
   "execution_count": 27,
   "metadata": {
    "slideshow": {
     "slide_type": "fragment"
    }
   },
   "outputs": [
    {
     "data": {
      "text/plain": [
       "{}"
      ]
     },
     "execution_count": 27,
     "metadata": {},
     "output_type": "execute_result"
    }
   ],
   "source": [
    "d.clear()               # remover todos os ítens do dicionário\n",
    "d"
   ]
  },
  {
   "cell_type": "code",
   "execution_count": 53,
   "metadata": {
    "slideshow": {
     "slide_type": "slide"
    }
   },
   "outputs": [
    {
     "data": {
      "text/plain": [
       "['i', 'p', 'user']"
      ]
     },
     "execution_count": 53,
     "metadata": {},
     "output_type": "execute_result"
    }
   ],
   "source": [
    "d = {'user': {'bozo': 0}, 'p': 1234, 'i': 34}\n",
    "d.keys()                                 # lista das chaves do dicionário"
   ]
  },
  {
   "cell_type": "code",
   "execution_count": 29,
   "metadata": {
    "slideshow": {
     "slide_type": "fragment"
    }
   },
   "outputs": [
    {
     "data": {
      "text/plain": [
       "dict_values(['bozo', 1234, 34])"
      ]
     },
     "execution_count": 29,
     "metadata": {},
     "output_type": "execute_result"
    }
   ],
   "source": [
    "d.values()                               # lista dos valores"
   ]
  },
  {
   "cell_type": "code",
   "execution_count": 30,
   "metadata": {
    "slideshow": {
     "slide_type": "fragment"
    }
   },
   "outputs": [
    {
     "data": {
      "text/plain": [
       "dict_items([('user', 'bozo'), ('p', 1234), ('i', 34)])"
      ]
     },
     "execution_count": 30,
     "metadata": {},
     "output_type": "execute_result"
    }
   ],
   "source": [
    "d.items()                               # lista dos ítens"
   ]
  },
  {
   "cell_type": "markdown",
   "metadata": {
    "slideshow": {
     "slide_type": "slide"
    }
   },
   "source": [
    "# Espaço\n",
    "\n",
    "* O espaço em branco é significativo em Python: especialmente indentação e colocação de novas linhas\n",
    "* Use uma nova linha para terminar uma linha de código\n",
    "* Não se usa chaves {} para blocos de código!\n",
    "* Usa-se **indentação** para blocos de código"
   ]
  },
  {
   "cell_type": "code",
   "execution_count": 54,
   "metadata": {
    "slideshow": {
     "slide_type": "subslide"
    }
   },
   "outputs": [
    {
     "name": "stdout",
     "output_type": "stream",
     "text": [
      "bem-vindos\n",
      "Hoje às 15:07:07\n",
      "alunos e alunas\n",
      "ao curso de python\n"
     ]
    }
   ],
   "source": [
    "import time\n",
    "\n",
    "saudacoes = {'quem': 'alunos e alunas', 'que': 'bem-vindos', 'aonde': 'ao curso de python', 'quando': time.strftime(\"%H:%M:%S\")}\n",
    "for key in saudacoes.keys():\n",
    "    if (key == 'quem'):\n",
    "        print (saudacoes[key])\n",
    "    if key == 'que':\n",
    "        print (saudacoes[key])\n",
    "    if (key == 'aonde'):\n",
    "        print (saudacoes[key])\n",
    "    if (key == 'quando'):\n",
    "        print ('Hoje às ' + saudacoes[key])"
   ]
  },
  {
   "cell_type": "markdown",
   "metadata": {
    "slideshow": {
     "slide_type": "slide"
    }
   },
   "source": [
    "# Funções\n",
    "\n",
    "* **'def'** cria uma função e atribui um nome\n",
    "* **'return'** envia um resultado de volta ao chamador da função\n",
    "* argumentos são passados por designação\n",
    "* os tipos dos argumentos e do retorno da função não são declarados\n",
    "\n",
    "def __nome_da_função__(arg1, arg2, ...argN):\n",
    "\n",
    "    **_declarações_**\n",
    "\n",
    "    return **_valor_a_retornar_**\n"
   ]
  },
  {
   "cell_type": "code",
   "execution_count": 27,
   "metadata": {
    "slideshow": {
     "slide_type": "subslide"
    }
   },
   "outputs": [],
   "source": [
    "def produto(x, y):\n",
    "    return x*y"
   ]
  },
  {
   "cell_type": "code",
   "execution_count": 28,
   "metadata": {
    "slideshow": {
     "slide_type": "fragment"
    }
   },
   "outputs": [
    {
     "data": {
      "text/plain": [
       "10"
      ]
     },
     "execution_count": 28,
     "metadata": {},
     "output_type": "execute_result"
    }
   ],
   "source": [
    "produto(2,5)"
   ]
  },
  {
   "cell_type": "markdown",
   "metadata": {
    "slideshow": {
     "slide_type": "slide"
    }
   },
   "source": [
    "# Passagem de argumento para funções\n",
    "\n",
    "* Argumentos são passados por designação\n",
    "* Argumentos que são passados são designados como nomes locais\n",
    "* Designação de nomes de argumentos não afeta o chamador.\n",
    "* Designação de objetos mutáveis pode afetar o chamador."
   ]
  },
  {
   "cell_type": "code",
   "execution_count": 56,
   "metadata": {
    "slideshow": {
     "slide_type": "subslide"
    }
   },
   "outputs": [
    {
     "name": "stdout",
     "output_type": "stream",
     "text": [
      "8\n",
      "1\n"
     ]
    }
   ],
   "source": [
    "x = 8\n",
    "y = [1, 2]\n",
    "print (x)\n",
    "print (y[0])"
   ]
  },
  {
   "cell_type": "code",
   "execution_count": 57,
   "metadata": {
    "slideshow": {
     "slide_type": "fragment"
    }
   },
   "outputs": [
    {
     "name": "stdout",
     "output_type": "stream",
     "text": [
      "x = 8\n"
     ]
    }
   ],
   "source": [
    "def modificador(x, y):\n",
    "    x = 2              # modifica somente o valor local de x\n",
    "    y[0] = 'hi'        # modifica o objeto compartilhado\n",
    "\n",
    "modificador(x, y)      # chamada da função\n",
    "\n",
    "print ('x = %i' % x)"
   ]
  },
  {
   "cell_type": "code",
   "execution_count": 58,
   "metadata": {
    "slideshow": {
     "slide_type": "fragment"
    }
   },
   "outputs": [
    {
     "name": "stdout",
     "output_type": "stream",
     "text": [
      "('y[0] =', 'hi')\n"
     ]
    }
   ],
   "source": [
    "print ('y[0] =', y[0])"
   ]
  },
  {
   "cell_type": "markdown",
   "metadata": {
    "slideshow": {
     "slide_type": "slide"
    }
   },
   "source": [
    "# Pegadinhas de funções\n",
    "\n",
    "\n",
    "<font size=\"2.5\">\n",
    "<ul>\n",
    "<li> Todas as funções em Python retornam um valor!\n",
    "<li> Funções sem retorno especificado, retornam o valor especial 'None'\n",
    "<li> Não existe sobrecarga de função (_function overloading_) em Python.\n",
    "   <ul>\n",
    "   <li> Duas funções diferentes não podem ter o mesmo nome, mesmo com argumentos diferentes.\n",
    "   </ul>\n",
    "   \n",
    "<li> Funções podem ser usadas como qualquer outro tipo. Elas podem ser:\n",
    "   <ul>\n",
    "   <li> argumentos de outras funções\n",
    "   <li> valores de retorno de funções\n",
    "   <li> designadas a variáveis\n",
    "   <li> partes de listas, tuplas, etc.\n",
    "   </ul>\n",
    "</ul>   "
   ]
  },
  {
   "cell_type": "markdown",
   "metadata": {
    "slideshow": {
     "slide_type": "slide"
    }
   },
   "source": [
    "# Se divertindo com funções"
   ]
  },
  {
   "cell_type": "code",
   "execution_count": 71,
   "metadata": {
    "scrolled": true,
    "slideshow": {
     "slide_type": "fragment"
    }
   },
   "outputs": [
    {
     "name": "stdout",
     "output_type": "stream",
     "text": [
      "32\n",
      "207\n",
      "2.5555555555555554\n"
     ]
    }
   ],
   "source": [
    "def f(x, y):\n",
    "    return x + y\n",
    "\n",
    "def g(x, y):\n",
    "    return x*y\n",
    "\n",
    "def h(x, y):\n",
    "    if y == 0:\n",
    "        return 0\n",
    "    else:\n",
    "        return x/y\n",
    "    \n",
    "lista_de_funcoes = [f, g, h]\n",
    "\n",
    "a = 23\n",
    "b = 9\n",
    "for function in lista_de_funcoes:\n",
    "    #print (function)\n",
    "    print (function(a, b))"
   ]
  },
  {
   "cell_type": "markdown",
   "metadata": {},
   "source": [
    "# Listas e loops ***for***\n",
    "\n",
    "Suponha que temos duas listas. Se elas forem de tamanhos iguais, queremos imprimir seus valores em um único loop."
   ]
  },
  {
   "cell_type": "code",
   "execution_count": 24,
   "metadata": {},
   "outputs": [
    {
     "data": {
      "text/plain": [
       "True"
      ]
     },
     "execution_count": 24,
     "metadata": {},
     "output_type": "execute_result"
    }
   ],
   "source": [
    "lista1 = [1,3,5,7,9,11,13,15]\n",
    "lista2 = [2,4,6,8,10,12,14,16]\n",
    "\n",
    "# as listas têm o mesmo tamanho?\n",
    "len(lista1) == len(lista2)"
   ]
  },
  {
   "cell_type": "code",
   "execution_count": 25,
   "metadata": {},
   "outputs": [
    {
     "name": "stdout",
     "output_type": "stream",
     "text": [
      "range(0, 8)\n",
      "1\n",
      "2\n",
      "3\n",
      "4\n",
      "5\n",
      "6\n",
      "7\n",
      "8\n",
      "9\n",
      "10\n",
      "11\n",
      "12\n",
      "13\n",
      "14\n",
      "15\n",
      "16\n"
     ]
    }
   ],
   "source": [
    "# se as listas têm o mesmo número de elementos, imprima todos os elementos de cada uma das listas\n",
    "if (len(lista1) == len(lista2)):\n",
    "    print(range(len(lista1)))\n",
    "    for i in range(len(lista1)):\n",
    "        print(lista1[i])\n",
    "        print(lista2[i])"
   ]
  },
  {
   "cell_type": "code",
   "execution_count": 26,
   "metadata": {},
   "outputs": [
    {
     "name": "stdout",
     "output_type": "stream",
     "text": [
      "Ana  tem  16  anos\n",
      "Luiz  tem  18  anos\n",
      "Maria  tem  17  anos\n",
      "Joana  tem  19  anos\n"
     ]
    }
   ],
   "source": [
    "alunos = ['Ana', 'Luiz', 'Maria', 'Joana']\n",
    "idades = [16, 18, 17, 19]\n",
    "\n",
    "if (len(alunos)==len(idades)):\n",
    "    for (i, valor) in enumerate(alunos):\n",
    "        print(valor, ' tem ', idades[i], ' anos')"
   ]
  },
  {
   "cell_type": "markdown",
   "metadata": {},
   "source": [
    "# List Comprehension\n",
    "\n",
    "A compreensão de listas fornece uma maneira concisa de criar listas. \n",
    "Aplicações comuns são fazer novas listas onde cada elemento é o resultado de algumas operações aplicadas a cada membro de outra seqüência ou iterável, ou criar uma subsequência daqueles elementos que satisfazem uma determinada condição."
   ]
  },
  {
   "cell_type": "code",
   "execution_count": 29,
   "metadata": {},
   "outputs": [
    {
     "data": {
      "text/plain": [
       "[0, 1, 4, 9, 16, 25, 36, 49, 64, 81]"
      ]
     },
     "execution_count": 29,
     "metadata": {},
     "output_type": "execute_result"
    }
   ],
   "source": [
    "squares = []\n",
    "for x in range(10):\n",
    "    squares.append(x**2)\n",
    "\n",
    "squares\n",
    "[0, 1, 4, 9, 16, 25, 36, 49, 64, 81]"
   ]
  },
  {
   "cell_type": "code",
   "execution_count": 30,
   "metadata": {},
   "outputs": [
    {
     "name": "stdout",
     "output_type": "stream",
     "text": [
      "[0, 1, 4, 9, 16, 25, 36, 49, 64, 81]\n"
     ]
    }
   ],
   "source": [
    "squares2 = [x**2 for x in range(10)]\n",
    "print(squares2)"
   ]
  },
  {
   "cell_type": "code",
   "execution_count": 31,
   "metadata": {},
   "outputs": [
    {
     "data": {
      "text/plain": [
       "[(1, 3), (1, 4), (2, 3), (2, 1), (2, 4), (3, 1), (3, 4)]"
      ]
     },
     "execution_count": 31,
     "metadata": {},
     "output_type": "execute_result"
    }
   ],
   "source": [
    "[(x, y) for x in [1,2,3] for y in [3,1,4] if x != y]"
   ]
  },
  {
   "cell_type": "code",
   "execution_count": 32,
   "metadata": {},
   "outputs": [
    {
     "data": {
      "text/plain": [
       "['3.1', '3.14', '3.142', '3.1416', '3.14159']"
      ]
     },
     "execution_count": 32,
     "metadata": {},
     "output_type": "execute_result"
    }
   ],
   "source": [
    "from math import pi\n",
    "[str(round(pi, i)) for i in range(1, 6)]"
   ]
  },
  {
   "cell_type": "markdown",
   "metadata": {
    "slideshow": {
     "slide_type": "slide"
    }
   },
   "source": [
    "# Python em Física\n",
    "Python é certo para mim?\n",
    "![title](pics/physics.png)"
   ]
  },
  {
   "cell_type": "markdown",
   "metadata": {
    "slideshow": {
     "slide_type": "slide"
    }
   },
   "source": [
    "# Preciso...manipular grandes estruturas de dados\n",
    "\n",
    "* Talvez você queira dar uma olha em Pandas. ![title](pics/pandas.png)\n",
    "* Uma biblioteca de software escrita para Python para manipulação e anaálise de dados.<img src=\"table.png\" alt=\"\" style=\"width: 400px;\"/>\n",
    "   * alinhamento de dados\n",
    "   * funcionalidade de séries temporais\n",
    "   * agrupamento por, giro"
   ]
  },
  {
   "cell_type": "markdown",
   "metadata": {
    "slideshow": {
     "slide_type": "slide"
    }
   },
   "source": [
    "# Preciso...lidar com grandes 'arrays', matrizes\n",
    "<img src=\"numPy.png\" alt=\"\" style=\"width: 100px;\"/>\n",
    "* NumPy é uma extensão escrita para adicionar suporte a arrays e matrizes grandes e multi-dimensionais, junto com uma grande biblioteca de funções matemáticas de alto nível para manipular esses arrays.\n",
    "* Exemplo: multiplicação de elementos de grandes arrays\n",
    "<table>\n",
    "   <tr>\n",
    "      <td>\n",
    "        <font size=\"4\">\n",
    "        <b>Python</b>\n",
    "        <img src='pics/pyEx.png'>\n",
    "        Slow\n",
    "      </td>\n",
    "      <td>\n",
    "        <font size=\"4\">\n",
    "        <b>NumPy</b>\n",
    "        <img src='pics/numPyEx.png'>\n",
    "        Fast (C)\n",
    "      </td>\n",
    "   </tr>\n",
    "</table>"
   ]
  },
  {
   "cell_type": "markdown",
   "metadata": {
    "slideshow": {
     "slide_type": "slide"
    }
   },
   "source": [
    "# Preciso...fazer computação científica\n",
    "<img src=\"pics/sciPy.png\" alt=\"\" style=\"width: 200px;\"/>\n",
    "<table>\n",
    "   <tr>\n",
    "      <td>\n",
    "        <li>SciPy vem com suporte para:\n",
    "        <li>otimização\n",
    "        <li>álgebra linear\n",
    "        <li>integração\n",
    "        <li>interpolação\n",
    "        <li>funções especiais\n",
    "        <li>FFT\n",
    "        <li>equações diferenciais ordinárias\n",
    "        <li>ajuste de funções    \n",
    "        <li>...\n",
    "   </td>\n",
    "      <td>\n",
    "      <img src='pics/sciPy2.png'>\n",
    "      </td>\n",
    "   </tr>\n",
    "</table>"
   ]
  },
  {
   "cell_type": "markdown",
   "metadata": {
    "slideshow": {
     "slide_type": "slide"
    }
   },
   "source": [
    "# Preciso...de ROOT\n",
    "![](pics/rootpy.png)\n",
    "* **Rootpy** é uma camada \"pythonica\" em cima de ***Pyroot*** (que é uma interface de Python para ROOT)\n",
    "* Não tem a intenção de recriar ROOT ou alterar o comportamento padrão de ROOT\n",
    "* Não é um \"framework\" de análise, mas uma biblioteca para ser usada pelo framework de análise de alguém\n",
    "* Fornece interface para os pacotes de Python científico (Pandas, NumPy, SciPy, ...)\n",
    "\n",
    "\n",
    "* **uproot** é um \"desenpacotador\" de ROOT en Python: https://github.com/scikit-hep/uproot"
   ]
  },
  {
   "cell_type": "markdown",
   "metadata": {},
   "source": [
    "# Machine Learning!\n",
    "\n",
    "Python é a ferramenta mais usada para a implementação de aprendizado de máquina.\n",
    "\n",
    "Nesse curso, veremos:\n",
    "\n",
    "* scikit-learn\n",
    "* Keras\n",
    "* Tensor Flow\n",
    "* PyTorch"
   ]
  },
  {
   "cell_type": "markdown",
   "metadata": {
    "slideshow": {
     "slide_type": "slide"
    }
   },
   "source": [
    "# E tem mais...\n",
    "* QuTiP: simulação da dinâmica de sistemas quânticos abertos (open quantum system)\n",
    "* SymPy: biblioteca para matemática simbólica\n",
    "* scikit-learn: aprendizado de máquinas (machine learning) em Python\n",
    "* astropy: pacote para astronomia \n",
    "* cosmocalc: versão de Python do \"Cosmology Calculator\"\n",
    "* ALPS: algoritmos e bibliotecas para simulações em física\n",
    "* SunPy: física solar"
   ]
  },
  {
   "cell_type": "markdown",
   "metadata": {},
   "source": [
    "## Referências\n",
    "\n",
    "1. http://github.com/jrjohansson/scientific-python-lectures\n",
    "1. http://greenteapress.com/thinkpython/html/index.html\n",
    "1. http://python.org/"
   ]
  }
 ],
 "metadata": {
  "kernelspec": {
   "display_name": "Python 3",
   "language": "python",
   "name": "python3"
  },
  "language_info": {
   "codemirror_mode": {
    "name": "ipython",
    "version": 3
   },
   "file_extension": ".py",
   "mimetype": "text/x-python",
   "name": "python",
   "nbconvert_exporter": "python",
   "pygments_lexer": "ipython3",
   "version": "3.7.0"
  }
 },
 "nbformat": 4,
 "nbformat_minor": 2
}
