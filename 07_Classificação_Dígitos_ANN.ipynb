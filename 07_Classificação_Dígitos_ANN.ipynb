{
 "cells": [
  {
   "cell_type": "markdown",
   "metadata": {
    "colab_type": "text",
    "id": "view-in-github"
   },
   "source": [
    "<a href=\"https://colab.research.google.com/github/UERJ-FISICA/ML4PPGF_UERJ/blob/PPGF-2022-1/07_Classifica%C3%A7%C3%A3o_D%C3%ADgitos_ANN.ipynb\" target=\"_parent\"><img src=\"https://colab.research.google.com/assets/colab-badge.svg\" alt=\"Open In Colab\"/></a>"
   ]
  },
  {
   "cell_type": "code",
   "execution_count": 1,
   "metadata": {
    "colab": {
     "base_uri": "https://localhost:8080/"
    },
    "id": "5hICNkJMnlP0",
    "outputId": "169f646b-f090-4283-e456-41875d52d545"
   },
   "outputs": [
    {
     "name": "stdout",
     "output_type": "stream",
     "text": [
      "sklearn: 0.23.2\n",
      "tensorflow: 2.1.0\n"
     ]
    }
   ],
   "source": [
    "import numpy as np\n",
    "import pandas as pd\n",
    "import h5py\n",
    "import matplotlib.pyplot as plt\n",
    "from joblib import dump, load\n",
    "\n",
    "import sklearn\n",
    "import tensorflow as tf\n",
    "from tensorflow import keras\n",
    "\n",
    "print ( \"sklearn: {}\".format(sklearn.__version__) )\n",
    "print ( \"tensorflow: {}\".format(tf.__version__) )"
   ]
  },
  {
   "cell_type": "code",
   "execution_count": 2,
   "metadata": {
    "colab": {
     "base_uri": "https://localhost:8080/"
    },
    "id": "bjytgCy9n139",
    "outputId": "cf41aa4e-cccb-4f9a-c5d0-5d6df6c95dc9"
   },
   "outputs": [
    {
     "name": "stdout",
     "output_type": "stream",
     "text": [
      "[PhysicalDevice(name='/physical_device:GPU:0', device_type='GPU')]\n"
     ]
    }
   ],
   "source": [
    "gpus = tf.config.experimental.list_physical_devices('GPU')\n",
    "for gpu in gpus:\n",
    "    tf.config.experimental.set_memory_growth(gpu, True)\n",
    "if gpus:\n",
    "    tf.config.experimental.set_visible_devices(gpus[0], 'GPU')\n",
    "    \n",
    "print ( gpus )"
   ]
  },
  {
   "cell_type": "code",
   "execution_count": 3,
   "metadata": {
    "id": "18fBo9_pn7AL"
   },
   "outputs": [],
   "source": [
    "train_model = True\n",
    "run_grid_search = True\n",
    "save_model = True\n",
    "\n",
    "model_path = \"\"\n",
    "scaler_path = \"\"\n",
    "if not train_model:\n",
    "#     model_path = \"keras_model.h5\"\n",
    "    model_path = \"models/ANN/keras_model.h5\"\n",
    "#     scaler_path = \"standard_scaler.joblib\"\n",
    "    scaler_path = \"models/ANN/standard_scaler.joblib\""
   ]
  },
  {
   "cell_type": "markdown",
   "metadata": {
    "id": "FRPhchMcqi0i"
   },
   "source": [
    "### Amostra de dígitos"
   ]
  },
  {
   "cell_type": "code",
   "execution_count": 4,
   "metadata": {
    "colab": {
     "base_uri": "https://localhost:8080/"
    },
    "id": "VKWyKjI0qeER",
    "outputId": "25cd2428-9dc9-4216-a47b-4faf2f2d7291"
   },
   "outputs": [
    {
     "name": "stdout",
     "output_type": "stream",
     "text": [
      "(50000, 784)\n",
      "(10000, 784)\n",
      "(10000, 784)\n"
     ]
    }
   ],
   "source": [
    "def sort_by_target(mnist):\n",
    "    reorder_train = np.array(sorted([(target, i) for i, target in enumerate(mnist.target[:50000])]))[:, 1]\n",
    "    reorder_valid = np.array(sorted([(target, i) for i, target in enumerate(mnist.target[50000:60000])]))[:, 1]\n",
    "    reorder_test = np.array(sorted([(target, i) for i, target in enumerate(mnist.target[60000:])]))[:, 1]\n",
    "    mnist.data[:50000] = mnist.data[reorder_train]\n",
    "    mnist.target[:50000] = mnist.target[reorder_train]\n",
    "    mnist.data[50000:60000] = mnist.data[reorder_valid + 50000]\n",
    "    mnist.target[50000:60000] = mnist.target[reorder_valid + 50000]\n",
    "    mnist.data[60000:] = mnist.data[reorder_test + 60000]\n",
    "    mnist.target[60000:] = mnist.target[reorder_test + 60000]\n",
    "\n",
    "from sklearn.datasets import fetch_openml\n",
    "mnist = fetch_openml('mnist_784', version=1, cache=True, as_frame=False)\n",
    "mnist.target = mnist.target.astype(np.int8)\n",
    "sort_by_target(mnist)\n",
    "X_train_raw = mnist.data[:50000]\n",
    "y_train = mnist.target[:50000]\n",
    "X_valid_raw = mnist.data[50000:60000]\n",
    "y_valid = mnist.target[50000:60000]\n",
    "X_test_raw = mnist.data[60000:]\n",
    "y_test = mnist.target[60000:]\n",
    "\n",
    "print ( X_train_raw.shape )\n",
    "print ( X_valid_raw.shape )\n",
    "print ( X_test_raw.shape )"
   ]
  },
  {
   "cell_type": "code",
   "execution_count": 5,
   "metadata": {
    "colab": {
     "base_uri": "https://localhost:8080/"
    },
    "id": "7oEqxWQWqn1z",
    "outputId": "266e0d3c-e179-4e3a-98ff-d43ed29f5229"
   },
   "outputs": [
    {
     "name": "stdout",
     "output_type": "stream",
     "text": [
      "StandardScaler()\n"
     ]
    }
   ],
   "source": [
    "from sklearn.preprocessing import StandardScaler\n",
    "\n",
    "scaler = None\n",
    "X_train = None\n",
    "if train_model:\n",
    "    scaler = StandardScaler()\n",
    "    X_train = scaler.fit_transform( X_train_raw )\n",
    "else:\n",
    "    scaler = load( scaler_path )\n",
    "    X_train = scaler.transform( X_train_raw )\n",
    "X_valid = scaler.transform( X_valid_raw )\n",
    "X_test  = scaler.transform( X_test_raw )\n",
    "\n",
    "print ( scaler )\n",
    "\n",
    "if train_model and save_model:\n",
    "    dump( scaler, \"standard_scaler.joblib\")\n",
    "    # dump( scaler, \"models/standard_scaler.joblib\")"
   ]
  },
  {
   "cell_type": "code",
   "execution_count": 6,
   "metadata": {
    "colab": {
     "base_uri": "https://localhost:8080/",
     "height": 1000
    },
    "id": "O-Ve4vq55tv0",
    "outputId": "0e00062f-7407-4955-95d8-c6a5ebeb3fe1"
   },
   "outputs": [
    {
     "name": "stdout",
     "output_type": "stream",
     "text": [
      "9\n",
      "[ 0.          0.          0.          0.          0.          0.\n",
      "  0.          0.          0.          0.          0.          0.\n",
      " -0.00483977 -0.00630411 -0.00447218 -0.00447218  0.          0.\n",
      "  0.          0.          0.          0.          0.          0.\n",
      "  0.          0.          0.          0.          0.          0.\n",
      "  0.          0.         -0.00447218 -0.00515922 -0.00963928 -0.01211949\n",
      " -0.01436819 -0.01737385 -0.02270852 -0.02757692 -0.02980096 -0.03081968\n",
      " -0.03110097 -0.03015775 -0.03021858 -0.02670023 -0.02103146 -0.01838468\n",
      " -0.0166327  -0.01131016 -0.00800445 -0.00479882  0.          0.\n",
      "  0.          0.          0.          0.         -0.00447218 -0.00447218\n",
      " -0.00889745 -0.01236598 -0.01790015 -0.02738895 -0.0371536  -0.05175937\n",
      " -0.06602942 -0.082747   -0.10052937 -0.11606085 -0.12843945 -0.13638324\n",
      " -0.13592586 -0.1297393  -0.11885722 -0.10081914 -0.07808218 -0.05640676\n",
      " -0.03917999 -0.02442581 -0.01543332 -0.00857831  0.          0.\n",
      "  0.          0.         -0.00480648 -0.00792476 -0.01350897 -0.02305728\n",
      " -0.03675283 -0.05651848 -0.07996566 -0.10789098 -0.13717676 -0.1675795\n",
      " -0.19639485 -0.22350232 -0.24610818 -0.25827009 -0.2590034  -0.24467124\n",
      " -0.22078665 -0.18624877 -0.14653398 -0.10656296 -0.07637269 -0.04821238\n",
      " -0.03175796 -0.0163279  -0.00578804  0.          0.         -0.00447218\n",
      " -0.00761524 -0.01354566 -0.02356253 -0.05137218 -0.08020379 -0.11750308\n",
      " -0.16241352 -0.21330374 -0.26899571 -0.32686827 -0.39041111 -0.45056344\n",
      " -0.4967508  -0.52059481 -0.51489604 -0.47851531 -0.42104505 -0.35480148\n",
      " -0.28196098 -0.21503618 -0.15638759 -0.1066878  -0.06978584 -0.03894476\n",
      " -0.01503749 -0.00632128  0.          0.         -0.01107246 -0.02121946\n",
      " -0.05297996 -0.09232851 -0.14147666 -0.19812267 -0.26537533 -0.34168528\n",
      " -0.4240365  -0.51554144 -0.61468864 -0.71400208 -0.79153901 -0.83134981\n",
      " -0.8200426  -0.75861399 -0.66244182 -0.5531722  -0.44480776 -0.34490608\n",
      " -0.25826057 -0.18765999 -0.12933666 -0.07425653 -0.0317093  -0.00802123\n",
      "  0.         -0.00610182 -0.01619952 -0.03654125 -0.07983131 -0.13484564\n",
      " -0.2007511  -0.27704659 -0.36588063 -0.46497976 -0.57600467 -0.69926563\n",
      " -0.79182447 -0.47013123  0.20206208  1.04224825  1.18916269  1.03738142\n",
      "  0.41233461 -0.32551146 -0.57846991 -0.45093344 -0.3385303  -0.2478624\n",
      " -0.17206781 -0.10357149 -0.04747595 -0.01527628 -0.00447218 -0.01376423\n",
      " -0.02622963 -0.0588792  -0.11339616 -0.1787765  -0.2592552  -0.35280458\n",
      " -0.46165463 -0.58578294 -0.72576103 -0.63368844  0.15007201  1.15118372\n",
      "  1.07722571  1.05429354  1.08267497  1.13074137  1.24742101  1.45785665\n",
      "  0.31017018 -0.53347881 -0.39881757 -0.28902851 -0.19839418 -0.1227961\n",
      " -0.05740856 -0.01680793 -0.00447218 -0.01728329 -0.04257959 -0.08477564\n",
      " -0.1395194  -0.21082835 -0.30068934 -0.40887983 -0.53510098 -0.68289337\n",
      " -0.21834831  0.92110482  1.20321125  0.98197169  0.39651333 -0.49996204\n",
      " -0.6095823  -0.37563961  0.46241569  1.29311586  1.62036148  0.54624486\n",
      " -0.42659762 -0.30230382 -0.20087625 -0.12264561 -0.05406494 -0.01410597\n",
      " -0.00581884 -0.02198644 -0.05288511 -0.0919033  -0.14984404 -0.2262574\n",
      " -0.32367843 -0.44272532 -0.58662442 -0.26225443  1.33573837  1.27181465\n",
      "  0.60409907 -0.75318758 -0.91655207 -0.92336604 -0.96221945 -1.00917717\n",
      " -1.00154265  1.14400911  1.67814882  1.53165419 -0.42406451 -0.29456955\n",
      " -0.18586749 -0.10779609 -0.04813734 -0.01484815 -0.00449629 -0.02313396\n",
      " -0.05115267 -0.09058773 -0.14670603 -0.22716451 -0.33250061 -0.46371199\n",
      "  0.19674623  1.24353813  1.38561721  0.67722186 -0.87049005 -0.80281285\n",
      " -0.77961067 -0.81186989 -0.88188273 -0.95698929 -0.96293957  1.20674396\n",
      "  1.77026195  1.6393739  -0.40062192 -0.27500924 -0.16276549 -0.08407583\n",
      " -0.03866894 -0.01221681 -0.00727473 -0.02027671 -0.04518533 -0.08125134\n",
      " -0.13684943 -0.22558136 -0.33934687  0.13095222  1.52990781  1.52678395\n",
      "  0.64660023 -0.78747316 -0.78719732 -0.73818858 -0.74760618 -0.80890518\n",
      " -0.90578511 -0.97970495 -0.95457822  1.25721555  1.88838338  1.79029288\n",
      " -0.37251253 -0.26083069 -0.15173997 -0.06277582 -0.0285639  -0.00999613\n",
      " -0.00581064 -0.01617002 -0.03476054 -0.06812647 -0.12776451 -0.227277\n",
      " -0.35412813  2.09991799  1.80662687  1.07999826 -0.76965779 -0.8415228\n",
      " -0.76801061 -0.77492972 -0.82547179 -0.92143644 -1.03127643 -1.05955498\n",
      " -0.70433541  1.39900648  2.03235755  0.85917988 -0.35723121 -0.25715799\n",
      " -0.15533204 -0.05400354 -0.02163001 -0.01086909 -0.00447218 -0.0117266\n",
      " -0.02512495 -0.05784934 -0.12606988 -0.23961151  1.46343386  2.24971171\n",
      "  1.6213276  -0.29966505 -0.88142286 -0.84380134 -0.82092207 -0.89701428\n",
      " -0.98232148 -1.11410838 -1.1822011  -0.89519315  0.90593212  1.62491237\n",
      "  1.31286825 -0.3523399  -0.35748906 -0.26510267 -0.16551634 -0.06028298\n",
      " -0.023198   -0.00811107 -0.00447218 -0.00875085 -0.01794985 -0.05180498\n",
      " -0.13026269 -0.25827293  2.34824158  2.20170988  0.3835124  -0.82728662\n",
      " -0.87144597 -0.86542894 -0.91001553 -1.04059738 -1.15168973 -1.27805294\n",
      " -0.87615887  0.33868472  1.31186801  1.65842842 -0.05813411 -0.47404599\n",
      " -0.36973972 -0.27501496 -0.17442164 -0.06961337 -0.02582437 -0.00765161\n",
      " -0.00522559 -0.0045893  -0.01977104 -0.05445044 -0.14026818 -0.27744383\n",
      "  2.20559001  2.16980678  0.40084655 -0.79381171 -0.84467129 -0.87403834\n",
      " -0.96319277 -1.0995315  -1.21185113  0.10286758  1.08688288  1.15896692\n",
      "  1.37035236  0.69470622 -0.61137082 -0.48783277 -0.38257771 -0.27996016\n",
      " -0.17776621 -0.07903328 -0.03174663 -0.00837149 -0.00447218 -0.00734749\n",
      " -0.02281509 -0.0624148  -0.15743174 -0.29686641  1.00335996  2.20257086\n",
      "  1.55463788  0.41802039  0.01033539 -0.74173925 -0.48494076 -0.05679709\n",
      "  0.61987269  1.05927952  1.17496438  1.26440982  1.18349086 -0.5612068\n",
      " -0.61639504 -0.49435233 -0.38166446 -0.27509477 -0.17602235 -0.08532006\n",
      " -0.03471488 -0.00751298  0.         -0.00978469 -0.0268014  -0.07529317\n",
      " -0.17678586 -0.31262898 -0.30183317  0.32823461  1.4557366   1.79363138\n",
      "  1.71115796  1.39274967  1.39304573  1.34727809  1.23648302  1.2165256\n",
      "  1.26589899  1.34109652 -0.22721361 -0.73994245 -0.61282114 -0.48619086\n",
      " -0.3694385  -0.2622676  -0.17023319 -0.08951973 -0.03662293 -0.01154643\n",
      " -0.00472708 -0.00695842 -0.03443043 -0.09300889 -0.19730747 -0.32734594\n",
      " -0.44023268 -0.53656148 -0.6084196  -0.15426979  0.16339781 -0.13119049\n",
      "  0.28623243  0.38455426  1.14519612  1.26503297  1.29383388  0.83571403\n",
      " -0.85739671 -0.73244094 -0.5952218  -0.464794   -0.35028025 -0.2467387\n",
      " -0.15895784 -0.08589359 -0.03247775 -0.0106921  -0.00447218 -0.01152099\n",
      " -0.04181997 -0.10528528 -0.2111008  -0.33718988 -0.45273697 -0.5536244\n",
      " -0.63302876 -0.69523038 -0.73981457 -0.77367562 -0.83374976 -0.80667642\n",
      "  0.5301994   1.21081526  1.18857607 -0.03648562 -0.84525405 -0.70171438\n",
      " -0.55692604 -0.42884469 -0.31755309 -0.22078996 -0.14089787 -0.07758395\n",
      " -0.02875367 -0.00852966  0.         -0.01132933 -0.04497391 -0.11085406\n",
      " -0.2084603  -0.33050552 -0.45499241 -0.56842655 -0.67107076 -0.75939748\n",
      " -0.82934888 -0.8902126  -0.96443149 -0.54257297  1.14193584  1.14113595\n",
      "  0.17314766 -0.93812181 -0.78883581 -0.62989899 -0.48989353 -0.37054405\n",
      " -0.26906833 -0.18683213 -0.12044814 -0.06553743 -0.02517532 -0.00447218\n",
      " -0.00447218 -0.01096497 -0.04194506 -0.10115714 -0.18828343 -0.30022187\n",
      " -0.42702555 -0.55327186 -0.67917525 -0.79909849 -0.90915211 -1.01167759\n",
      " -0.98866024  0.57644333  1.08943238  1.1463522  -0.87740179 -0.83543737\n",
      " -0.67159745 -0.52589264 -0.40106751 -0.29765634 -0.21300866 -0.14782398\n",
      " -0.09580318 -0.04960943 -0.01938116 -0.00447218 -0.00447218 -0.00657807\n",
      " -0.03501924 -0.08017565 -0.14917591 -0.24454798 -0.36126608 -0.48510315\n",
      " -0.6198049  -0.75317331 -0.88597024 -1.00015543  0.16601579  1.14085486\n",
      "  1.18143676  0.18370163 -0.82110104 -0.66868419 -0.5270622  -0.40468734\n",
      " -0.30465308 -0.22329511 -0.15999411 -0.10981066 -0.07013486 -0.03658156\n",
      " -0.01177169 -0.00447218  0.          0.         -0.02355532 -0.0531492\n",
      " -0.10183056 -0.17083072 -0.26268777 -0.37122923 -0.49029411 -0.61413691\n",
      " -0.73687142 -0.83935727  1.05900793  1.39443345  1.32348264 -0.52363422\n",
      " -0.61533284 -0.49496513 -0.38285336 -0.29125441 -0.21585445 -0.15667794\n",
      " -0.11130095 -0.07503046 -0.04319669 -0.01929954 -0.01060359  0.\n",
      "  0.          0.         -0.01123683 -0.0293156  -0.05876448 -0.09734814\n",
      " -0.15631799 -0.22573701 -0.30517364 -0.38882707 -0.46883794  0.90169438\n",
      "  2.23252971  2.23787105  1.4262832  -0.46910561 -0.39817672 -0.32613382\n",
      " -0.25724443 -0.19677429 -0.14674953 -0.10445281 -0.07314391 -0.04918897\n",
      " -0.02591803 -0.01210505 -0.00520653  0.          0.          0.\n",
      " -0.00730041 -0.01201084 -0.02891582 -0.05311107 -0.08941937 -0.13118965\n",
      " -0.17876794 -0.22533864 -0.26709618  3.70613916  4.05181301  4.07187952\n",
      "  1.87709891 -0.26391704 -0.23486123 -0.20168865 -0.16418905 -0.12952559\n",
      " -0.09563233 -0.06821228 -0.04785807 -0.02997947 -0.01601679 -0.00621701\n",
      " -0.00447218  0.          0.          0.          0.         -0.00447218\n",
      " -0.01542686 -0.03250616 -0.05438863 -0.08020865 -0.10942772 -0.13473053\n",
      " -0.15610831 -0.17204601 -0.17823432 -0.17741231 -0.1682314  -0.15347929\n",
      " -0.13655793 -0.11668146 -0.09343085 -0.07271581 -0.05282763 -0.03817471\n",
      " -0.02283939 -0.01318397 -0.00447218 -0.00447218  0.          0.\n",
      "  0.          0.          0.          0.         -0.00634283 -0.00923075\n",
      " -0.01677182 -0.02279941 -0.02629175 -0.0305711  -0.04154857 -0.04490705\n",
      " -0.05094694 -0.05410434 -0.05784706 -0.05443462 -0.04973766 -0.04120458\n",
      " -0.03242812 -0.02294027 -0.0168988  -0.01252351 -0.00986708 -0.00632117\n",
      "  0.          0.          0.          0.        ]\n"
     ]
    },
    {
     "data": {
      "text/plain": [
       "<matplotlib.image.AxesImage at 0x2029b6edb48>"
      ]
     },
     "execution_count": 6,
     "metadata": {},
     "output_type": "execute_result"
    },
    {
     "data": {
      "image/png": "[encoded data removed]",
      "text/plain": [
       "<Figure size 720x720 with 1 Axes>"
      ]
     },
     "metadata": {
      "needs_background": "light"
     },
     "output_type": "display_data"
    }
   ],
   "source": [
    "idx = 9900\n",
    "print ( y_valid[ idx ] )\n",
    "print ( X_valid[ idx ] )\n",
    "\n",
    "fig = plt.figure( figsize=(10,10) )\n",
    "plt.imshow( X_valid_raw[ idx ].reshape(28,28), cmap='binary' )"
   ]
  },
  {
   "cell_type": "markdown",
   "metadata": {
    "id": "PNJVFco4rhrx"
   },
   "source": [
    "### Treinamento"
   ]
  },
  {
   "cell_type": "code",
   "execution_count": 7,
   "metadata": {
    "id": "OAxERketN5c-"
   },
   "outputs": [],
   "source": [
    "shuffle_index = np.random.permutation( 50000 )\n",
    "X_train_shuffle, y_train_shuffle = X_train[ shuffle_index ], y_train[ shuffle_index ]"
   ]
  },
  {
   "cell_type": "markdown",
   "metadata": {
    "id": "C0Wsrs3rrjTb"
   },
   "source": [
    "### Definição do modelo"
   ]
  },
  {
   "cell_type": "code",
   "execution_count": 8,
   "metadata": {
    "id": "jBhOBwP6rvC-"
   },
   "outputs": [],
   "source": [
    "class Model:\n",
    "    def __init__(self, input_shape, learning_rate):\n",
    "        self.input_shape = input_shape\n",
    "        self.learning_rate = learning_rate\n",
    "        \n",
    "    def __call__(self, n_hidden, n_neurons, dropout):\n",
    "        \n",
    "        input_shape = self.input_shape\n",
    "        learning_rate = self.learning_rate\n",
    "        \n",
    "        print( \"Building model with:\" )\n",
    "        print( \"Input shape: {}\".format(input_shape) )\n",
    "        print( \"Learning rate: {}\".format(learning_rate) )\n",
    "        print( \"Number of hidden layers: {}\".format(n_hidden) )\n",
    "        print( \"Number of neurons per layer: {}\".format(n_neurons) )\n",
    "        print( \"Dropout rate: {}\".format(dropout) )\n",
    "        \n",
    "        model = keras.models.Sequential()\n",
    "        model.add( keras.layers.InputLayer(input_shape=input_shape) )\n",
    "        for layer in range(n_hidden):\n",
    "            if dropout > 0.:\n",
    "                model.add( keras.layers.Dropout(rate=dropout) )\n",
    "            model.add( keras.layers.Dense(n_neurons, activation=\"elu\", kernel_initializer=\"he_normal\") )\n",
    "        if dropout > 0.:\n",
    "            model.add( keras.layers.Dropout(rate=dropout) )    \n",
    "        model.add( keras.layers.Dense(10, activation=\"softmax\") )\n",
    "        \n",
    "        #optimizer = keras.optimizers.SGD(lr=learning_rate, momentum=0.9, nesterov=True)\n",
    "        optimizer = keras.optimizers.Nadam(learning_rate=learning_rate)\n",
    "        model.compile( loss=\"sparse_categorical_crossentropy\", optimizer=optimizer, metrics=[\"accuracy\"])\n",
    "        \n",
    "        return model\n",
    "\n",
    "def build_model(input_shape, learning_rate=5e-4, n_hidden=1, n_neurons=50, dropout=0.20 ):\n",
    "    build_fn_ = Model( input_shape=input_shape, learning_rate=learning_rate )\n",
    "    return build_fn_( n_hidden, n_neurons, dropout )\n"
   ]
  },
  {
   "cell_type": "markdown",
   "metadata": {
    "id": "nS9QJ31rvZkn"
   },
   "source": [
    "### Callbacks"
   ]
  },
  {
   "cell_type": "code",
   "execution_count": 9,
   "metadata": {
    "id": "902EKAa9Q89d"
   },
   "outputs": [],
   "source": [
    "class ExponentialDecayLR:\n",
    "    def __init__( self, lr0, s ):\n",
    "        self.lr0 = lr0\n",
    "        self.s = s\n",
    "    def __call__( self, epoch ):\n",
    "        return self.lr0 * 0.1**( epoch / self.s )\n"
   ]
  },
  {
   "cell_type": "code",
   "execution_count": 10,
   "metadata": {
    "id": "C5iaA6pjvbU7"
   },
   "outputs": [],
   "source": [
    "import os\n",
    "\n",
    "def get_run_logdir(log_dir):\n",
    "    import time\n",
    "    run_id = time.strftime(\"run_%Y_%m_%d-%H_%M_%S\")\n",
    "    return os.path.join(log_dir, run_id)\n",
    "\n",
    "def callbacks(patience=5, lr_scheduler_fn=None, log_dir=None):\n",
    "    callbacks_ = []\n",
    "    # Early stopping\n",
    "    if patience > 0:\n",
    "        early_stopping_cb_ = keras.callbacks.EarlyStopping( patience=patience, restore_best_weights=True )\n",
    "        callbacks_.append( early_stopping_cb_ )\n",
    "\n",
    "    # Learning rate exponential decay\n",
    "    if lr_scheduler_fn:\n",
    "        lr_scheduler_cb_ = keras.callbacks.LearningRateScheduler( lr_scheduler_fn )\n",
    "        callbacks_.append( lr_scheduler_cb_ )\n",
    "\n",
    "    # TensorBoard\n",
    "    if log_dir:\n",
    "        run_logdir = get_run_logdir(log_dir)\n",
    "        print ( \"Log dir: {}\".format(run_logdir) )\n",
    "        tensorboard_cb_ = keras.callbacks.TensorBoard( run_logdir )\n",
    "        callbacks_.append( tensorboard_cb_ )\n",
    "    \n",
    "    return callbacks_\n"
   ]
  },
  {
   "cell_type": "markdown",
   "metadata": {
    "id": "XQ9dQHjmrrS7"
   },
   "source": [
    "### Learning rate"
   ]
  },
  {
   "cell_type": "code",
   "execution_count": 11,
   "metadata": {
    "id": "2eE_oio9swSv"
   },
   "outputs": [],
   "source": [
    "def find_max_learning_rate( X, y, X_val, y_val, lr_init=1e-4, lr_end=5e-2, steps=20, epochs=20, model_build_fn=build_model, callback_fn=callbacks, *build_fn_args, **build_fn_kwargs ):\n",
    "    results_ = {}\n",
    "    results_['learning_rate'] = []\n",
    "    results_['loss'] = []\n",
    "    results_['accuracy'] = []\n",
    "    results_['val_loss'] = []\n",
    "    results_['val_accuracy'] = []\n",
    "    c_ = (lr_end/lr_init) ** (1/steps)\n",
    "    lr_ = lr_init\n",
    "    for i_it in range( steps + 1 ):\n",
    "        results_['learning_rate'].append( lr_ )\n",
    "        model_ = model_build_fn( *build_fn_args, **build_fn_kwargs, learning_rate=lr_ )\n",
    "        callbacks_ = callback_fn(patience=5)\n",
    "        history_ = model_.fit( X, y, epochs=epochs, validation_data=(X_val, y_val), callbacks=callbacks_ )\n",
    "        results_['loss'].append( history_.history['loss'] )\n",
    "        results_['accuracy'].append( history_.history['accuracy'] )\n",
    "        results_['val_loss'].append( history_.history['val_loss'] )\n",
    "        results_['val_accuracy'].append( history_.history['val_accuracy'] )\n",
    "        # Update learning rate\n",
    "        lr_ = lr_ * c_\n",
    "        \n",
    "    return results_"
   ]
  },
  {
   "cell_type": "code",
   "execution_count": 12,
   "metadata": {
    "id": "bMtWITPYs18i"
   },
   "outputs": [],
   "source": [
    "learning_rate_scan = False\n",
    "epochs_lr_scan = 20\n",
    "results = None\n",
    "if learning_rate_scan:\n",
    "    results = find_max_learning_rate(\n",
    "                X_train_shuffle, y_train_shuffle,\n",
    "                X_valid, y_valid,\n",
    "                lr_init=1e-4,\n",
    "                lr_end=2e-2,\n",
    "                steps=5,\n",
    "                epochs=epochs_lr_scan,\n",
    "                model_build_fn=build_model,\n",
    "                input_shape=X_train_shuffle.shape[1:],\n",
    "                n_hidden=2,\n",
    "                n_neurons=20,\n",
    "                dropout=0.,\n",
    "                )"
   ]
  },
  {
   "cell_type": "code",
   "execution_count": 13,
   "metadata": {
    "id": "iUi4N8IZ6zMd"
   },
   "outputs": [],
   "source": [
    "if learning_rate_scan:\n",
    "    # metrics_ = 'loss'\n",
    "    metrics_ = 'val_loss'\n",
    "    # metrics_ = 'val_accuracy'\n",
    "    columns_=[\"lr_{}\".format(lr_) for lr_ in np.round( results['learning_rate'], 4)] \n",
    "    df_ = pd.DataFrame( np.full((epochs_lr_scan,len(columns_)),np.nan), columns=columns_ )\n",
    "    fig_ = plt.figure( figsize=(12,10) )\n",
    "    for i_lr_,col_ in enumerate(columns_):\n",
    "        df_[col_] = pd.Series( results[ metrics_ ][i_lr_] )\n",
    "        df_[col_].plot()\n",
    "    plt.legend()\n",
    "    # plt.yscale('log')\n",
    "    plt.ylim( 0., 0.50 )\n",
    "    # plt.ylim( 0.80, 1.05 )"
   ]
  },
  {
   "cell_type": "code",
   "execution_count": 14,
   "metadata": {
    "id": "L73R_aVYGzP6"
   },
   "outputs": [],
   "source": [
    "if learning_rate_scan:\n",
    "    metrics_train_ = 'loss'\n",
    "    metrics_valid_ = 'val_loss'\n",
    "    colors_=['tab:red','tab:green','tab:blue','tab:orange', 'tab:purple', 'tab:gray']\n",
    "    columns_=[\"lr_{}\".format(lr_) for lr_ in np.round( results['learning_rate'], 4)] \n",
    "    df_ = pd.DataFrame( np.full((epochs_lr_scan,2*len(columns_)),np.nan), columns=( 2 * columns_ ) )\n",
    "    fig_ = plt.figure( figsize=(12,10) )\n",
    "    for i_lr_,col_ in enumerate(columns_):\n",
    "        df_[ \"train_{}\".format( col_ ) ] = pd.Series( results[ metrics_train_ ][i_lr_] )\n",
    "        df_[ \"train_{}\".format( col_ ) ].plot( color=colors_[ i_lr_ % len(colors_) ] )\n",
    "        df_[ \"valid_{}\".format( col_ ) ] = pd.Series( results[ metrics_valid_ ][i_lr_] )\n",
    "        df_[ \"valid_{}\".format( col_ ) ].plot( color=colors_[ i_lr_ % len(colors_) ], linestyle='dashed' )\n",
    "    plt.legend()\n",
    "    # plt.yscale('log')\n",
    "    plt.ylim( 0., 0.50 )"
   ]
  },
  {
   "cell_type": "markdown",
   "metadata": {
    "id": "2WJiZj10_WQ5"
   },
   "source": [
    "#### Exponential learning rate scheduling"
   ]
  },
  {
   "cell_type": "code",
   "execution_count": 15,
   "metadata": {
    "colab": {
     "base_uri": "https://localhost:8080/",
     "height": 500
    },
    "id": "tSYsJX3YbbWJ",
    "outputId": "28f69201-bb6b-447f-de24-9f8eef6ed58e"
   },
   "outputs": [
    {
     "data": {
      "text/plain": [
       "(1e-05, 0.02)"
      ]
     },
     "execution_count": 15,
     "metadata": {},
     "output_type": "execute_result"
    },
    {
     "data": {
      "image/png": "[encoded data removed]",
      "text/plain": [
       "<Figure size 1440x576 with 2 Axes>"
      ]
     },
     "metadata": {
      "needs_background": "light"
     },
     "output_type": "display_data"
    }
   ],
   "source": [
    "exponential_decay_ = ExponentialDecayLR( lr0=1e-2, s=10 )\n",
    "\n",
    "fig, axes = plt.subplots( 1, 2, figsize=(20,8) )\n",
    "xplot__ = np.arange(30)\n",
    "axes[0].plot( xplot__, exponential_decay_( xplot__ ) )\n",
    "axes[1].plot( xplot__, exponential_decay_( xplot__ ) )\n",
    "axes[1].set_yscale( 'log' )\n",
    "axes[1].set_ylim( 1e-5, 2e-2 )"
   ]
  },
  {
   "cell_type": "code",
   "execution_count": 16,
   "metadata": {
    "colab": {
     "base_uri": "https://localhost:8080/"
    },
    "id": "ircGeQ-WW-8R",
    "outputId": "aea24b23-ff7c-4daf-ad25-aa436d5cff3d"
   },
   "outputs": [
    {
     "name": "stdout",
     "output_type": "stream",
     "text": [
      "Building model with:\n",
      "Input shape: (784,)\n",
      "Learning rate: 0.01\n",
      "Number of hidden layers: 2\n",
      "Number of neurons per layer: 20\n",
      "Dropout rate: 0.0\n",
      "Train on 50000 samples, validate on 10000 samples\n",
      "Epoch 1/20\n",
      "50000/50000 [==============================] - 7s 132us/sample - loss: 0.3771 - accuracy: 0.8995 - val_loss: 0.2566 - val_accuracy: 0.9257\n",
      "Epoch 2/20\n",
      "50000/50000 [==============================] - 5s 91us/sample - loss: 0.2378 - accuracy: 0.9338 - val_loss: 0.2148 - val_accuracy: 0.9410\n",
      "Epoch 3/20\n",
      "50000/50000 [==============================] - 5s 93us/sample - loss: 0.1932 - accuracy: 0.9449 - val_loss: 0.2116 - val_accuracy: 0.9448\n",
      "Epoch 4/20\n",
      "50000/50000 [==============================] - 5s 92us/sample - loss: 0.1624 - accuracy: 0.9530 - val_loss: 0.1781 - val_accuracy: 0.9544\n",
      "Epoch 5/20\n",
      "50000/50000 [==============================] - 5s 94us/sample - loss: 0.1377 - accuracy: 0.9590 - val_loss: 0.1945 - val_accuracy: 0.9529\n",
      "Epoch 6/20\n",
      "50000/50000 [==============================] - 5s 97us/sample - loss: 0.1165 - accuracy: 0.9647 - val_loss: 0.1794 - val_accuracy: 0.9563\n",
      "Epoch 7/20\n",
      "50000/50000 [==============================] - 5s 100us/sample - loss: 0.0994 - accuracy: 0.9697 - val_loss: 0.1777 - val_accuracy: 0.9567\n",
      "Epoch 8/20\n",
      "50000/50000 [==============================] - 5s 99us/sample - loss: 0.0832 - accuracy: 0.9742 - val_loss: 0.1795 - val_accuracy: 0.9597\n",
      "Epoch 9/20\n",
      "50000/50000 [==============================] - 5s 92us/sample - loss: 0.0739 - accuracy: 0.9771 - val_loss: 0.1730 - val_accuracy: 0.9595\n",
      "Epoch 10/20\n",
      "50000/50000 [==============================] - 5s 93us/sample - loss: 0.0648 - accuracy: 0.9800 - val_loss: 0.1832 - val_accuracy: 0.9576\n",
      "Epoch 11/20\n",
      "50000/50000 [==============================] - 5s 94us/sample - loss: 0.0576 - accuracy: 0.9821 - val_loss: 0.1884 - val_accuracy: 0.9595\n",
      "Epoch 12/20\n",
      "50000/50000 [==============================] - 5s 94us/sample - loss: 0.0525 - accuracy: 0.9846 - val_loss: 0.1895 - val_accuracy: 0.9593\n",
      "Epoch 13/20\n",
      "50000/50000 [==============================] - 5s 97us/sample - loss: 0.0474 - accuracy: 0.9860 - val_loss: 0.1997 - val_accuracy: 0.9602\n",
      "Epoch 14/20\n",
      "50000/50000 [==============================] - 5s 96us/sample - loss: 0.0444 - accuracy: 0.9869 - val_loss: 0.2014 - val_accuracy: 0.9601\n"
     ]
    }
   ],
   "source": [
    "model = build_model(\n",
    "    input_shape=X_train_shuffle.shape[1:],\n",
    "    learning_rate=1e-2,\n",
    "    n_hidden=2,\n",
    "    n_neurons=20,\n",
    "    dropout=0.\n",
    "    )\n",
    "\n",
    "callbacks_ = callbacks( patience=5, lr_scheduler_fn=exponential_decay_ )\n",
    "epochs_ = 20\n",
    "batch_size_ = 32\n",
    "history = model.fit( X_train_shuffle, y_train_shuffle, epochs=epochs_, batch_size=batch_size_, validation_data=(X_valid, y_valid), callbacks=callbacks_ )"
   ]
  },
  {
   "cell_type": "code",
   "execution_count": 17,
   "metadata": {
    "colab": {
     "base_uri": "https://localhost:8080/",
     "height": 500
    },
    "id": "6ZGlfiunbJyb",
    "outputId": "78fab834-6858-4bb9-fde8-524d95b84770"
   },
   "outputs": [
    {
     "data": {
      "text/plain": [
       "[<matplotlib.lines.Line2D at 0x2030551f188>]"
      ]
     },
     "execution_count": 17,
     "metadata": {},
     "output_type": "execute_result"
    },
    {
     "data": {
      "image/png": "[encoded data removed]",
      "text/plain": [
       "<Figure size 1440x576 with 2 Axes>"
      ]
     },
     "metadata": {
      "needs_background": "light"
     },
     "output_type": "display_data"
    }
   ],
   "source": [
    "fig, axes = plt.subplots( 1, 2, figsize=(20,8) )\n",
    "axes[0].plot( history.epoch, history.history['lr'], 'o-' )\n",
    "axes[1].plot( history.epoch, history.history['val_loss'], 'o-' )"
   ]
  },
  {
   "cell_type": "markdown",
   "metadata": {
    "id": "At8AvCvlrjlO"
   },
   "source": [
    "### Hyperparameter scan"
   ]
  },
  {
   "cell_type": "code",
   "execution_count": null,
   "metadata": {
    "colab": {
     "base_uri": "https://localhost:8080/"
    },
    "id": "r9I70F-XrBDf",
    "outputId": "51990c40-858e-4004-a6b6-8ba03bb33bf8"
   },
   "outputs": [
    {
     "name": "stdout",
     "output_type": "stream",
     "text": [
      "2022/04/11 09:53:47\n",
      "[<tensorflow.python.keras.callbacks.EarlyStopping object at 0x0000020306EDF448>, <tensorflow.python.keras.callbacks.LearningRateScheduler object at 0x0000020306EDF8C8>]\n",
      "Fitting 4 folds for each of 5 candidates, totalling 20 fits\n"
     ]
    },
    {
     "name": "stderr",
     "output_type": "stream",
     "text": [
      "[Parallel(n_jobs=4)]: Using backend LokyBackend with 4 concurrent workers.\n"
     ]
    }
   ],
   "source": [
    "# Constant learning rate\n",
    "# learning_rate = 3e-4\n",
    "\n",
    "n_iter_search = 30\n",
    "cv = 4\n",
    "n_jobs = 4\n",
    "epochs_grid_search = 10\n",
    "# scoring = 'accuracy'\n",
    "# scoring = 'f1'\n",
    "\n",
    "grid_search = None\n",
    "if train_model and run_grid_search:\n",
    "    import time\n",
    "    print( time.strftime(\"%Y/%m/%d %H:%M:%S\", time.localtime() ) )\n",
    "    time_s_ = time.time()\n",
    "        \n",
    "    from sklearn.model_selection import RandomizedSearchCV\n",
    "    #from sklearn.model_selection import GridSearchCV\n",
    "\n",
    "    build_fn_ = Model( input_shape=X_train_shuffle.shape[1:], learning_rate=1e-2 )\n",
    "    keras_clf = keras.wrappers.scikit_learn.KerasClassifier( build_fn_ )\n",
    "\n",
    "    param_distribs = {\n",
    "        \"n_hidden\": np.arange(2,6),\n",
    "        \"n_neurons\": 2 ** np.arange(4,8),\n",
    "        \"dropout\":  0.1 * np.arange(2,6),\n",
    "        \"batch_size\": 2 ** np.arange(5,8)\n",
    "        }\n",
    "\n",
    "    grid_search = RandomizedSearchCV(\n",
    "        keras_clf,\n",
    "        param_distribs,\n",
    "        n_iter=n_iter_search, cv=cv, verbose=20, n_jobs=n_jobs, refit=False, random_state=42\n",
    "        )\n",
    "\n",
    "    callbacks_ = callbacks( patience=5, lr_scheduler_fn=exponential_decay_ )\n",
    "    print ( callbacks_ )\n",
    "    grid_search.fit( X_train_shuffle, y_train_shuffle, epochs=epochs_grid_search, validation_data=(X_valid, y_valid), callbacks=callbacks_ )\n",
    "    \n",
    "    print ( grid_search.best_params_ )\n",
    "    print ( grid_search.best_score_ )\n",
    "    print ( grid_search.cv_results_ )\n",
    "    \n",
    "    time_e_ = time.time()\n",
    "    print ( \"Total time elapsed: {:.0f}\".format( time_e_ - time_s_ ) )"
   ]
  },
  {
   "cell_type": "markdown",
   "metadata": {
    "id": "eFpwoOgpp8U2"
   },
   "source": [
    "### Ajuste do modelo com parâmetros otimizados"
   ]
  },
  {
   "cell_type": "code",
   "execution_count": null,
   "metadata": {
    "colab": {
     "base_uri": "https://localhost:8080/"
    },
    "id": "YHrWmwLuIL6M",
    "outputId": "c86df135-62c2-4c4b-c7c4-6022951aeef6"
   },
   "outputs": [],
   "source": [
    "model_final = None\n",
    "history = None\n",
    "\n",
    "if train_model:\n",
    "    params = {'n_hidden': 2, 'n_neurons': 50, 'dropout': 0.20}\n",
    "    batch_size = 32\n",
    "    if run_grid_search: \n",
    "        params = grid_search.best_params_.copy()\n",
    "        batch_size = params[ 'batch_size' ]\n",
    "        params.pop( 'batch_size' )\n",
    "    print ( params, \"batch_size: {}\".format( batch_size ) )\n",
    "    \n",
    "    model_final = build_model(input_shape=X_train_shuffle.shape[1:], learning_rate=1e-2, **params )\n",
    "    log_dir=\"keras_logs\"\n",
    "    callbacks_ = callbacks(patience=5, lr_scheduler_fn=exponential_decay_, log_dir=log_dir)\n",
    "    print ( callbacks_ )\n",
    "    epochs_ = 50\n",
    "    history = model_final.fit( X_train_shuffle, y_train_shuffle, epochs=epochs_, batch_size=batch_size, validation_data=(X_valid, y_valid), callbacks=callbacks_ )\n",
    "else:\n",
    "    model_final = keras.models.load_model( model_path )\n",
    "    \n",
    "model_final.summary()"
   ]
  },
  {
   "cell_type": "code",
   "execution_count": null,
   "metadata": {
    "colab": {
     "base_uri": "https://localhost:8080/",
     "height": 483
    },
    "id": "VJt4rzqxqnCd",
    "outputId": "73917142-fe8c-4497-b06b-89296ad68918"
   },
   "outputs": [],
   "source": [
    "if history is not None:\n",
    "    fig, axes = plt.subplots( 1, 2, figsize=(20,8) )\n",
    "    axes[0].plot( history.epoch, history.history['val_loss'], 'o-' )\n",
    "    axes[1].plot( history.epoch, history.history['val_accuracy'], 'o-' )"
   ]
  },
  {
   "cell_type": "code",
   "execution_count": null,
   "metadata": {
    "colab": {
     "base_uri": "https://localhost:8080/"
    },
    "id": "13wuaDmP8XCi",
    "outputId": "3e9ba161-caf0-4a38-878b-4c62a4597af0"
   },
   "outputs": [],
   "source": [
    "model_final.evaluate( X_train, y_train ) # without dropout"
   ]
  },
  {
   "cell_type": "code",
   "execution_count": null,
   "metadata": {
    "colab": {
     "base_uri": "https://localhost:8080/"
    },
    "id": "PINS_OqK8e9i",
    "outputId": "89dafdb5-a01c-4f95-80d5-de0451deb4df"
   },
   "outputs": [],
   "source": [
    "model_final.evaluate( X_valid, y_valid )"
   ]
  },
  {
   "cell_type": "markdown",
   "metadata": {
    "id": "gI_xtsah79_G"
   },
   "source": [
    "### Teste"
   ]
  },
  {
   "cell_type": "code",
   "execution_count": null,
   "metadata": {
    "colab": {
     "base_uri": "https://localhost:8080/"
    },
    "id": "si6ux1K54nwI",
    "outputId": "a53f022f-4eac-498d-bd3d-4edc2f85e2c4"
   },
   "outputs": [],
   "source": [
    "model_final.evaluate( X_test, y_test )"
   ]
  },
  {
   "cell_type": "code",
   "execution_count": null,
   "metadata": {
    "colab": {
     "base_uri": "https://localhost:8080/"
    },
    "id": "RR4PmOuQ8A6N",
    "outputId": "02f0b0b3-5fa8-42b8-9b6e-e3a17d47ec49"
   },
   "outputs": [],
   "source": [
    "y_test_proba = model_final.predict( X_test )\n",
    "print ( y_test_proba )\n",
    "y_test_pred = np.argmax( y_test_proba, axis=-1 )\n",
    "print ( y_test_pred )"
   ]
  },
  {
   "cell_type": "code",
   "execution_count": null,
   "metadata": {
    "colab": {
     "base_uri": "https://localhost:8080/"
    },
    "id": "eJt_fTtv9DIB",
    "outputId": "337be88c-f770-4a90-f3fb-e24d61303a09"
   },
   "outputs": [],
   "source": [
    "accuracy = np.sum( y_test_pred == y_test ) / y_test.size\n",
    "print ( \"Accuracy = {}\".format( accuracy ) )"
   ]
  },
  {
   "cell_type": "code",
   "execution_count": null,
   "metadata": {
    "colab": {
     "base_uri": "https://localhost:8080/",
     "height": 1000
    },
    "id": "d-4Jka109u69",
    "outputId": "8fa35e54-68ec-462a-93ae-bed1c860265f"
   },
   "outputs": [],
   "source": [
    "def plot_digits( X, n, start = 0 ):\n",
    "    n_per_row_ = 10\n",
    "    n_rows_ = int( ( n / n_per_row_  ) if ( n % n_per_row_ ) == 0 else ( ( n // n_per_row_ ) + 1 ) )\n",
    "    size_ = 5\n",
    "    fig_, axes_ = plt.subplots( n_rows_, n_per_row_, figsize=( n_per_row_ * size_ , n_rows_ * size_ ) )\n",
    "    idx_row_, idx_col_ = 0, 0\n",
    "    for idx__ in range( n ):\n",
    "        if idx__ >= len( X ): break\n",
    "        \n",
    "        ax_ = axes_[ idx_row_, idx_col_ ]\n",
    "        ax_.imshow( X[ start+idx__ ].reshape(28,28), cmap='binary' )\n",
    "        idx_col_ += 1\n",
    "        if idx_col_ % n_per_row_ == 0:\n",
    "            idx_row_ += 1\n",
    "            idx_col_  = 0\n",
    "\n",
    "msk_error_ = y_test_pred != y_test\n",
    "print ( np.sum( msk_error_ ) )\n",
    "for label_ in range( 10 ):\n",
    "    msk__ = msk_error_ & ( y_test == label_ )\n",
    "    print ( \"{}: {}\".format( label_, np.sum( msk__ ) ) )\n",
    "\n",
    "plot_digits( X_test_raw[ msk_error_ ], 250 )"
   ]
  },
  {
   "cell_type": "code",
   "execution_count": null,
   "metadata": {
    "id": "hPO3taiD-Sgk"
   },
   "outputs": [],
   "source": []
  }
 ],
 "metadata": {
  "colab": {
   "authorship_tag": "ABX9TyNDcR3pBW4PrqGFKNSp7rC3",
   "collapsed_sections": [],
   "include_colab_link": true,
   "name": "07-Classificação-Dígitos-ANN.ipynb",
   "provenance": []
  },
  "kernelspec": {
   "display_name": "Python 3",
   "language": "python",
   "name": "python3"
  },
  "language_info": {
   "codemirror_mode": {
    "name": "ipython",
    "version": 3
   },
   "file_extension": ".py",
   "mimetype": "text/x-python",
   "name": "python",
   "nbconvert_exporter": "python",
   "pygments_lexer": "ipython3",
   "version": "3.7.8"
  }
 },
 "nbformat": 4,
 "nbformat_minor": 1
}
